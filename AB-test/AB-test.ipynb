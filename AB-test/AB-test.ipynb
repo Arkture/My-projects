{
 "cells": [
  {
   "cell_type": "markdown",
   "metadata": {},
   "source": [
    "# Исследование поведения пользователей мобильного приложения"
   ]
  },
  {
   "cell_type": "markdown",
   "metadata": {},
   "source": [
    "### Описане проекта"
   ]
  },
  {
   "cell_type": "markdown",
   "metadata": {},
   "source": [
    "Цель исследования: проанализировать поведения пользователей в приложении и исследование влияния изменения шрифта.\n",
    "\n",
    "Задачи: \n",
    "1. Проанализировать сценарий пользователей до момента покупки\n",
    "2. Проанализировать на каких этапах пользователи останавливаются в воронке\n",
    "3. Провести А/А-тест и сделать выводы\n",
    "4. Провести A/B-тест и сделать выводы"
   ]
  },
  {
   "cell_type": "markdown",
   "metadata": {},
   "source": [
    "###  Открытие файла с данными и изучение общей информации"
   ]
  },
  {
   "cell_type": "markdown",
   "metadata": {},
   "source": [
    "Импортируем бибилиотеки, которые могут понадобится в ходе исследования"
   ]
  },
  {
   "cell_type": "code",
   "execution_count": 1,
   "metadata": {},
   "outputs": [],
   "source": [
    "#Импорт библиотек\n",
    "import pandas as pd\n",
    "import datetime as dt\n",
    "from datetime import datetime\n",
    "import numpy as np\n",
    "import matplotlib.pyplot as plt\n",
    "from pandas.plotting import register_matplotlib_converters\n",
    "import warnings\n",
    "import scipy.stats as stats\n",
    "from datetime import datetime, timedelta, date\n",
    "from scipy import stats as st\n",
    "import math as mth"
   ]
  },
  {
   "cell_type": "markdown",
   "metadata": {},
   "source": [
    "Прочтем данные и посмотрим из каких полей состоит таблица"
   ]
  },
  {
   "cell_type": "code",
   "execution_count": 2,
   "metadata": {},
   "outputs": [
    {
     "data": {
      "text/html": [
       "<div>\n",
       "<style scoped>\n",
       "    .dataframe tbody tr th:only-of-type {\n",
       "        vertical-align: middle;\n",
       "    }\n",
       "\n",
       "    .dataframe tbody tr th {\n",
       "        vertical-align: top;\n",
       "    }\n",
       "\n",
       "    .dataframe thead th {\n",
       "        text-align: right;\n",
       "    }\n",
       "</style>\n",
       "<table border=\"1\" class=\"dataframe\">\n",
       "  <thead>\n",
       "    <tr style=\"text-align: right;\">\n",
       "      <th></th>\n",
       "      <th>EventName</th>\n",
       "      <th>DeviceIDHash</th>\n",
       "      <th>EventTimestamp</th>\n",
       "      <th>ExpId</th>\n",
       "    </tr>\n",
       "  </thead>\n",
       "  <tbody>\n",
       "    <tr>\n",
       "      <th>0</th>\n",
       "      <td>MainScreenAppear</td>\n",
       "      <td>4575588528974610257</td>\n",
       "      <td>1564029816</td>\n",
       "      <td>246</td>\n",
       "    </tr>\n",
       "    <tr>\n",
       "      <th>1</th>\n",
       "      <td>MainScreenAppear</td>\n",
       "      <td>7416695313311560658</td>\n",
       "      <td>1564053102</td>\n",
       "      <td>246</td>\n",
       "    </tr>\n",
       "    <tr>\n",
       "      <th>2</th>\n",
       "      <td>PaymentScreenSuccessful</td>\n",
       "      <td>3518123091307005509</td>\n",
       "      <td>1564054127</td>\n",
       "      <td>248</td>\n",
       "    </tr>\n",
       "    <tr>\n",
       "      <th>3</th>\n",
       "      <td>CartScreenAppear</td>\n",
       "      <td>3518123091307005509</td>\n",
       "      <td>1564054127</td>\n",
       "      <td>248</td>\n",
       "    </tr>\n",
       "    <tr>\n",
       "      <th>4</th>\n",
       "      <td>PaymentScreenSuccessful</td>\n",
       "      <td>6217807653094995999</td>\n",
       "      <td>1564055322</td>\n",
       "      <td>248</td>\n",
       "    </tr>\n",
       "    <tr>\n",
       "      <th>5</th>\n",
       "      <td>CartScreenAppear</td>\n",
       "      <td>6217807653094995999</td>\n",
       "      <td>1564055323</td>\n",
       "      <td>248</td>\n",
       "    </tr>\n",
       "    <tr>\n",
       "      <th>6</th>\n",
       "      <td>OffersScreenAppear</td>\n",
       "      <td>8351860793733343758</td>\n",
       "      <td>1564066242</td>\n",
       "      <td>246</td>\n",
       "    </tr>\n",
       "    <tr>\n",
       "      <th>7</th>\n",
       "      <td>MainScreenAppear</td>\n",
       "      <td>5682100281902512875</td>\n",
       "      <td>1564085677</td>\n",
       "      <td>246</td>\n",
       "    </tr>\n",
       "    <tr>\n",
       "      <th>8</th>\n",
       "      <td>MainScreenAppear</td>\n",
       "      <td>1850981295691852772</td>\n",
       "      <td>1564086702</td>\n",
       "      <td>247</td>\n",
       "    </tr>\n",
       "    <tr>\n",
       "      <th>9</th>\n",
       "      <td>MainScreenAppear</td>\n",
       "      <td>5407636962369102641</td>\n",
       "      <td>1564112112</td>\n",
       "      <td>246</td>\n",
       "    </tr>\n",
       "  </tbody>\n",
       "</table>\n",
       "</div>"
      ],
      "text/plain": [
       "                 EventName         DeviceIDHash  EventTimestamp  ExpId\n",
       "0         MainScreenAppear  4575588528974610257      1564029816    246\n",
       "1         MainScreenAppear  7416695313311560658      1564053102    246\n",
       "2  PaymentScreenSuccessful  3518123091307005509      1564054127    248\n",
       "3         CartScreenAppear  3518123091307005509      1564054127    248\n",
       "4  PaymentScreenSuccessful  6217807653094995999      1564055322    248\n",
       "5         CartScreenAppear  6217807653094995999      1564055323    248\n",
       "6       OffersScreenAppear  8351860793733343758      1564066242    246\n",
       "7         MainScreenAppear  5682100281902512875      1564085677    246\n",
       "8         MainScreenAppear  1850981295691852772      1564086702    247\n",
       "9         MainScreenAppear  5407636962369102641      1564112112    246"
      ]
     },
     "execution_count": 2,
     "metadata": {},
     "output_type": "execute_result"
    }
   ],
   "source": [
    "#Запись таблицы\n",
    "data = pd.read_csv('/datasets/logs_exp.csv',sep='\\t')\n",
    "data.head(10)"
   ]
  },
  {
   "cell_type": "markdown",
   "metadata": {},
   "source": [
    "В таблице содердится информация о названии ивента, ID девайса(также индефикатор пользователя), дата в формате \"Timestamp\" и номер A/A/B групп для проверки гипотез.\n",
    "\n",
    "Заметим, что название столбцов - неудонбое. Форматом даты является \"Timestamp\", его можно преобразовать в дату-время и просто дату, а сам столбец \"EventTimestamp\" не нужен. "
   ]
  },
  {
   "cell_type": "markdown",
   "metadata": {},
   "source": [
    "### Подготовка данных"
   ]
  },
  {
   "cell_type": "markdown",
   "metadata": {},
   "source": [
    "Для начала изменим название таблиц на более удобное"
   ]
  },
  {
   "cell_type": "code",
   "execution_count": 3,
   "metadata": {},
   "outputs": [],
   "source": [
    "#Меняем название полей\n",
    "data.columns = ['event','id','datetime','group']"
   ]
  },
  {
   "cell_type": "code",
   "execution_count": 4,
   "metadata": {},
   "outputs": [],
   "source": [
    "#Обработка данных\n",
    "data = data[data['event']!='Tutorial']"
   ]
  },
  {
   "cell_type": "markdown",
   "metadata": {},
   "source": [
    "Теперь проверим, есть ли необходимость в обработке данных. Важно, чтобы в данных не было пропусков, чтобы не было дубликатов в стобце ивентов и кол-во групп в размере 3 штуки. Сначала проверим, есть пропуски"
   ]
  },
  {
   "cell_type": "code",
   "execution_count": 5,
   "metadata": {
    "scrolled": true
   },
   "outputs": [
    {
     "name": "stdout",
     "output_type": "stream",
     "text": [
      "<class 'pandas.core.frame.DataFrame'>\n",
      "Int64Index: 243074 entries, 0 to 244125\n",
      "Data columns (total 4 columns):\n",
      " #   Column    Non-Null Count   Dtype \n",
      "---  ------    --------------   ----- \n",
      " 0   event     243074 non-null  object\n",
      " 1   id        243074 non-null  int64 \n",
      " 2   datetime  243074 non-null  int64 \n",
      " 3   group     243074 non-null  int64 \n",
      "dtypes: int64(3), object(1)\n",
      "memory usage: 9.3+ MB\n"
     ]
    }
   ],
   "source": [
    "#Метод инфо\n",
    "data.info()"
   ]
  },
  {
   "cell_type": "markdown",
   "metadata": {},
   "source": [
    "Пропусков и нулевых значений нет. Тип данных совпадает с требуемым. Теперь посмотрим все уникальные значения названий ивентов. Предположим, что аналитики предоставили нам только те ивенты, которые нужны для формирования воронки, потому уникальных значений должно быть немного."
   ]
  },
  {
   "cell_type": "code",
   "execution_count": 6,
   "metadata": {},
   "outputs": [
    {
     "name": "stdout",
     "output_type": "stream",
     "text": [
      "['MainScreenAppear' 'PaymentScreenSuccessful' 'CartScreenAppear'\n",
      " 'OffersScreenAppear']\n"
     ]
    }
   ],
   "source": [
    "#Вывод уникальных значений event\n",
    "print(data['event'].unique())"
   ]
  },
  {
   "cell_type": "markdown",
   "metadata": {},
   "source": [
    "Дубликатов нет. По предоставленным ивентам можно сформировать воронку: 'Tutorial' - 'MainScreenAppear' - 'OffersScreenAppear' - 'CartScreenAppear' - 'PaymentScreenSuccessful'. То есть сначала пользователь проходит туториал, далее попадает на главную страничку, после он выбирает какое-либо предложение, далее он переходит в корзину, где может перейти на страничку оплаты, где и происходит оплата. Туториал - начальное событие, которое можно пройти один раз. Далее он оказывает на главной странице, к которой он может возваращаться много раз. Чтобы попасть на страничку предложения нужно сначала попасть на главную страницу, потому это дейсвтие идет после. Возможность перейти в корзину \"CartScreen\" только после выбора предложения (конечно можно переходить в корзину и без покупок). И конечное дейсвтие - факт удачной оплаты.\n",
    "\n",
    "Проверим кол-во уникальных значений group. "
   ]
  },
  {
   "cell_type": "code",
   "execution_count": 7,
   "metadata": {},
   "outputs": [
    {
     "data": {
      "text/plain": [
       "379"
      ]
     },
     "execution_count": 7,
     "metadata": {},
     "output_type": "execute_result"
    }
   ],
   "source": [
    "#Поиск кол-ва дубликатов\n",
    "data.duplicated().sum()"
   ]
  },
  {
   "cell_type": "code",
   "execution_count": 8,
   "metadata": {},
   "outputs": [],
   "source": [
    "#Обраотка дубликатов\n",
    "data = data[data.duplicated()==False]"
   ]
  },
  {
   "cell_type": "code",
   "execution_count": 9,
   "metadata": {},
   "outputs": [
    {
     "name": "stdout",
     "output_type": "stream",
     "text": [
      "Кол-во уникальных group: 3\n"
     ]
    }
   ],
   "source": [
    "#Вывод кол-ва уникальных значений group\n",
    "print('Кол-во уникальных group:', len(data['group'].unique()))"
   ]
  },
  {
   "cell_type": "markdown",
   "metadata": {},
   "source": [
    "Есть контрольная группа (246) и две сравниваемые группы (247 и 248). Теперь преобразуем Timestamp в дату-время и создадим столбец даты."
   ]
  },
  {
   "cell_type": "code",
   "execution_count": 10,
   "metadata": {},
   "outputs": [],
   "source": [
    "#Преобразование в дату-время\n",
    "data['datetime'] = pd.to_datetime(data['datetime'], unit=\"s\")\n",
    "\n",
    "#Преобразование в дату\n",
    "data['date'] = data['datetime'].dt.date"
   ]
  },
  {
   "cell_type": "markdown",
   "metadata": {},
   "source": [
    "**Вывод: были заменены название столбцов и созданы поля даты и даты-время. Данные не требуют обработки.**"
   ]
  },
  {
   "cell_type": "markdown",
   "metadata": {},
   "source": [
    "### Изучене и проверка данных"
   ]
  },
  {
   "cell_type": "markdown",
   "metadata": {},
   "source": [
    "Посомтрим сколько всего событий в логе."
   ]
  },
  {
   "cell_type": "code",
   "execution_count": 11,
   "metadata": {},
   "outputs": [
    {
     "name": "stdout",
     "output_type": "stream",
     "text": [
      "Кол-во уникальных ивентов: 4\n"
     ]
    }
   ],
   "source": [
    "#Вывод кол-ва уникальных ивентов\n",
    "print('Кол-во уникальных ивентов:', len(data['event'].unique()))"
   ]
  },
  {
   "cell_type": "markdown",
   "metadata": {},
   "source": [
    "Всего произошло уникальных ивентов 5, а всего ивентов было 244126. Выше я составил предполагаемую воронку: 'Tutorial' - 'MainScreenAppear' - 'OffersScreenAppear' - 'CartScreenAppear' - 'PaymentScreenSuccessful'.\n",
    "\n",
    "Посмотрим сколько пользователей в логе. И сколько приходится ивентов на одного пользователя в среднем."
   ]
  },
  {
   "cell_type": "code",
   "execution_count": 12,
   "metadata": {},
   "outputs": [
    {
     "name": "stdout",
     "output_type": "stream",
     "text": [
      "Кол-во уникальных пользователей: 7547\n",
      "Ср кол-во ивентов на пользователя 32.15781105074864\n"
     ]
    }
   ],
   "source": [
    "#Вывод кол-ва уникальных пользователей\n",
    "print('Кол-во уникальных пользователей:', len(data['id'].unique()))\n",
    "print('Ср кол-во ивентов на пользователя', len(data)/len(data['id'].unique()))"
   ]
  },
  {
   "cell_type": "markdown",
   "metadata": {},
   "source": [
    "На одного пользователя приходится целых 32 ивента. Это вполне возможно, если выбирал много товаров, тогда он постоянно заходил на главную стр и страницу предложения. Теперь посмотрим охват переиодов."
   ]
  },
  {
   "cell_type": "code",
   "execution_count": 13,
   "metadata": {},
   "outputs": [
    {
     "name": "stdout",
     "output_type": "stream",
     "text": [
      "Левая граница: 2019-07-25\n",
      "Правая граница: 2019-08-07\n"
     ]
    }
   ],
   "source": [
    "#Просмотр левой и правых границ дат в дата-сете\n",
    "print('Левая граница:',data['date'].min())\n",
    "print('Правая граница:',data['date'].max())"
   ]
  },
  {
   "cell_type": "markdown",
   "metadata": {},
   "source": [
    "Охват около 2 неделель с 25 июля до 7 августа. Важно учитывать то, что данные должны иметь одинаковую плотность ивентов на протяжении всего наблюдения. \n",
    "\n",
    "Построим гистограмму по дате и времени."
   ]
  },
  {
   "cell_type": "code",
   "execution_count": 14,
   "metadata": {
    "scrolled": true
   },
   "outputs": [
    {
     "data": {
      "image/png": "[encoded data removed]",
      "text/plain": [
       "<Figure size 576x288 with 1 Axes>"
      ]
     },
     "metadata": {
      "needs_background": "light"
     },
     "output_type": "display_data"
    }
   ],
   "source": [
    "#Построение формы графика\n",
    "plt.figure(figsize=(8, 4))\n",
    "plt.xlabel('Дата')\n",
    "plt.ylabel('Кол-во событий')\n",
    "plt.title('Гистограмма событий по дням с 25 июля по 7 авгутса')\n",
    "plt.xticks(rotation=45) \n",
    "\n",
    "#Построение гистограммы\n",
    "data['date'].hist(bins=14)\n",
    "\n",
    "plt.show()"
   ]
  },
  {
   "cell_type": "markdown",
   "metadata": {},
   "source": [
    "Видим, что основное кол-во ивентов идет с 1 августа и резкий разрыв после 31 июля. Иначе говоря, будет некорректно сравнивать например срезы 31.07 и 01.08 и срезы после, так как такой разрыв обсулавливается именно сбором и обработкой данных, а не самой статистикой. Потому оставим срез, начиная с 01.08. "
   ]
  },
  {
   "cell_type": "code",
   "execution_count": 15,
   "metadata": {},
   "outputs": [
    {
     "name": "stdout",
     "output_type": "stream",
     "text": [
      "Кол-во ивентов до обработки: 242695\n",
      "Кол-во пользователей до обработки: 7547\n",
      "\n",
      "Кол-во ивентов после обработки: 239882\n",
      "Кол-во пользователей после обработки: 7530\n",
      "\n",
      "% Уменьшения кол-ва ивентов: 1.1590679659655052\n",
      "% Уменьшения кол-ва пользователей: 0.2252550682390364\n"
     ]
    }
   ],
   "source": [
    "#Кол-во ивентов и пользователей до обработки\n",
    "old_ivent = len(data)\n",
    "old_id = len(data['id'].unique())\n",
    "print('Кол-во ивентов до обработки:',old_ivent)\n",
    "print('Кол-во пользователей до обработки:',old_id)\n",
    "print()\n",
    "\n",
    "#Дата начала наблюдения\n",
    "a = date(2019, 8, 1)\n",
    "\n",
    "#Обновление дата-сета\n",
    "data = data.query('date >= @a')\n",
    "\n",
    "#Кол-во ивентов и пользователей после обработки\n",
    "print('Кол-во ивентов после обработки:',len(data))\n",
    "print('Кол-во пользователей после обработки:',len(data['id'].unique()))\n",
    "print()\n",
    "print('% Уменьшения кол-ва ивентов:',100-len(data)/old_ivent*100)\n",
    "print('% Уменьшения кол-ва пользователей:',100-len(data['id'].unique())/old_id*100)"
   ]
  },
  {
   "cell_type": "markdown",
   "metadata": {},
   "source": [
    "Убрали целую неделю, а выборка ивентов и пользователей уменьшилось на 1,15% и 0,22% соответсвенно, что не является существенным. Проверим, сколько пользователей в каждой из групп. Возможно, что обработка повлияла на выборки по группам.\n",
    "\n",
    "Чтобы выполнить поставленную задачу сначала создадим список уникальных id и их группам. Получившую таблицу сгруппируем по группам и узнаем кол-во пользователей каждой группы.  "
   ]
  },
  {
   "cell_type": "code",
   "execution_count": 16,
   "metadata": {},
   "outputs": [
    {
     "data": {
      "text/plain": [
       "group\n",
       "246    2483\n",
       "247    2512\n",
       "248    2535\n",
       "Name: id, dtype: int64"
      ]
     },
     "execution_count": 16,
     "metadata": {},
     "output_type": "execute_result"
    }
   ],
   "source": [
    "#Создание списка уникальных id с их группами\n",
    "data.groupby(['id'])['group'].first().reset_index()\\\n",
    ".groupby('group')['id'].count() #Подсчет id по группам"
   ]
  },
  {
   "cell_type": "markdown",
   "metadata": {},
   "source": [
    "Размер выборки групп не должен различаться более, чем на 2%. Проверив на калькуляторе (что сделать легче, чем писать код), я выяснил, что разница не превышает 2 процентов."
   ]
  },
  {
   "cell_type": "markdown",
   "metadata": {},
   "source": [
    "**Вывод: было найдено общее и уникальное кол-во событий, пользователей в логе, а также среднее число событий на одного пользователя. Были обработаны дынные, а также подсчитано кол-во пользователей в каждой группе. Данные могут быть использованы для анализа воронки и проведением A/A/B - теста**"
   ]
  },
  {
   "cell_type": "markdown",
   "metadata": {},
   "source": [
    "### Изучение воронки продаж"
   ]
  },
  {
   "cell_type": "markdown",
   "metadata": {},
   "source": [
    "Сгруппируем таблицу по событиям и посчитаем их кол-во"
   ]
  },
  {
   "cell_type": "code",
   "execution_count": 17,
   "metadata": {},
   "outputs": [
    {
     "data": {
      "text/plain": [
       "event\n",
       "PaymentScreenSuccessful     33918\n",
       "CartScreenAppear            42303\n",
       "OffersScreenAppear          46333\n",
       "MainScreenAppear           117328\n",
       "Name: event, dtype: int64"
      ]
     },
     "execution_count": 17,
     "metadata": {},
     "output_type": "execute_result"
    }
   ],
   "source": [
    "#Подсчет кол-ва событий и сортировка\n",
    "data.groupby('event')['event'].count().sort_values()"
   ]
  },
  {
   "cell_type": "markdown",
   "metadata": {},
   "source": [
    "Не удивительно, что туторилов мало - большая часть могла либо пропустить обучени, либо зарегестрироваться до наблюдения. И конечно же обучение можно пройти лишь один раз, а другие действия могут повторяться. Большего всего у главной страницы, что не удивительно. У страницы предложений резко меньше ивентов, чем у главной страницы (уменьшение около 60,5%). А вот люди, которые добавили что-то в тележку и перешли туда всего на 4 тысячи (около 8,6%) меньше. Между корзиной и успешной оплатой разрыв в 8 тысяч, что составляет уже около 19%. \n",
    "\n",
    "Эти промежуточные выводы пригодятся позже. Сейчас посчитаем, сколько пользвателей совершало каждое событие. Чтобы выполнить данный трюк, сначала создадим таблицу уникальных id - event(поле повторяется). Потом по этой таблице сгруппируем по event и посчитаем кол-во id. Я использую дату, чтобы можно было применить функцию агрегации."
   ]
  },
  {
   "cell_type": "code",
   "execution_count": 18,
   "metadata": {
    "scrolled": false
   },
   "outputs": [
    {
     "data": {
      "text/html": [
       "<div>\n",
       "<style scoped>\n",
       "    .dataframe tbody tr th:only-of-type {\n",
       "        vertical-align: middle;\n",
       "    }\n",
       "\n",
       "    .dataframe tbody tr th {\n",
       "        vertical-align: top;\n",
       "    }\n",
       "\n",
       "    .dataframe thead th {\n",
       "        text-align: right;\n",
       "    }\n",
       "</style>\n",
       "<table border=\"1\" class=\"dataframe\">\n",
       "  <thead>\n",
       "    <tr style=\"text-align: right;\">\n",
       "      <th></th>\n",
       "      <th>event</th>\n",
       "      <th>count</th>\n",
       "      <th>share</th>\n",
       "    </tr>\n",
       "  </thead>\n",
       "  <tbody>\n",
       "    <tr>\n",
       "      <th>0</th>\n",
       "      <td>MainScreenAppear</td>\n",
       "      <td>7419</td>\n",
       "      <td>0.985259</td>\n",
       "    </tr>\n",
       "    <tr>\n",
       "      <th>1</th>\n",
       "      <td>OffersScreenAppear</td>\n",
       "      <td>4593</td>\n",
       "      <td>0.609960</td>\n",
       "    </tr>\n",
       "    <tr>\n",
       "      <th>2</th>\n",
       "      <td>CartScreenAppear</td>\n",
       "      <td>3734</td>\n",
       "      <td>0.495883</td>\n",
       "    </tr>\n",
       "    <tr>\n",
       "      <th>3</th>\n",
       "      <td>PaymentScreenSuccessful</td>\n",
       "      <td>3539</td>\n",
       "      <td>0.469987</td>\n",
       "    </tr>\n",
       "  </tbody>\n",
       "</table>\n",
       "</div>"
      ],
      "text/plain": [
       "                     event  count     share\n",
       "0         MainScreenAppear   7419  0.985259\n",
       "1       OffersScreenAppear   4593  0.609960\n",
       "2         CartScreenAppear   3734  0.495883\n",
       "3  PaymentScreenSuccessful   3539  0.469987"
      ]
     },
     "execution_count": 18,
     "metadata": {},
     "output_type": "execute_result"
    }
   ],
   "source": [
    "#Список уникальных id - event\n",
    "retention = data.groupby(['id','event']).agg({'group':'first'}).reset_index()\\\n",
    ".groupby('event')['id'].count().sort_values(ascending = False).reset_index() #Подсчет кол-ва id по ивентам\n",
    "\n",
    "#Переименование\n",
    "retention.columns = ['event','count']\n",
    "\n",
    "#Подсчет доли из всех \n",
    "retention['share'] = retention['count']/len(data['id'].unique())\n",
    "\n",
    "#Вывод\n",
    "retention "
   ]
  },
  {
   "cell_type": "markdown",
   "metadata": {},
   "source": [
    "Эта воронка дает более точную информацию: если считать все ивенты, то получится так, что \"беслптаные\" ивенты всегда буду кликаться гораздо больше, чем платные, что искажает информацию. Важно не сколько пользователь перешел на ту или иную страничку, а сам факт перехода. Вспомним предположительную последовательность шагов: 'Tutorial' - 'MainScreenAppear' - 'OffersScreenAppear' - 'CartScreenAppear' - 'PaymentScreenSuccessful'. Если судить по логике цифр, то кажется, что Tutorial должен являться завершающим шагом, так как по мере прохождение воронки, кол-во пользователей уменьшается, но тут все наоборот. Прохождение обучения здесь не несет смысла \"отправной точки\", имеено в данном случае. Поэтому этот шаг можно не учитывать.\n",
    "\n",
    "Теперь посчитаем удержание пользоваталей при переходе на следующий шаг"
   ]
  },
  {
   "cell_type": "code",
   "execution_count": 19,
   "metadata": {
    "scrolled": true
   },
   "outputs": [
    {
     "name": "stdout",
     "output_type": "stream",
     "text": [
      "Остается пользователей Main-Offers: 61.91%\n",
      "Остается пользователей Offers-Cart: 81.30%\n",
      "Остается пользователей Cart-Payment: 94.78%\n"
     ]
    }
   ],
   "source": [
    "#Подсчет удержания пользователей за 3 шага\n",
    "\n",
    "print('Остается пользователей Main-Offers: {:.2%}'.format(\n",
    "    retention.loc[1,'count']/retention.loc[0,'count']))\n",
    "\n",
    "print('Остается пользователей Offers-Cart: {:.2%}'.format(\n",
    "    retention.loc[2,'count']/retention.loc[1,'count']))\n",
    "\n",
    "print('Остается пользователей Cart-Payment: {:.2%}'.format(\n",
    "   retention.loc[3,'count']/retention.loc[2,'count']))"
   ]
  },
  {
   "cell_type": "markdown",
   "metadata": {},
   "source": [
    "Видим, что больше всего пользоваталей остается при переходе с корзин на оплату - остается целых 95%. Видимо, нет проблем с сервисом: может он удобен и предлагает бонусную программу, например начисления баллов \"ЯСпасибо\". Меньше всего пользователейостается на шаге в переход предложения - всего 62%\n",
    "\n",
    "Обработаем дата-сет от шага \"Tutorial\""
   ]
  },
  {
   "cell_type": "code",
   "execution_count": 20,
   "metadata": {},
   "outputs": [],
   "source": [
    "#Обработка данных\n",
    "data = data[data['event']!='Tutorial']"
   ]
  },
  {
   "cell_type": "markdown",
   "metadata": {},
   "source": [
    "**Вывод: было выявлено частота событий, а также проанализирована воронка. Выяснилось, что меньше всего удержание в Main-Offers, а больше всего Cart-Payment. Этап обучения можно отпустить. Был выявлен сценарий использования пиложения**"
   ]
  },
  {
   "cell_type": "code",
   "execution_count": 22,
   "metadata": {},
   "outputs": [
    {
     "data": {
      "application/vnd.plotly.v1+json": {
       "config": {
        "plotlyServerURL": "https://plot.ly"
       },
       "data": [
        {
         "textinfo": "value+percent previous",
         "textposition": "inside",
         "type": "funnel",
         "x": [
          7419,
          4593,
          3734,
          3539
         ],
         "y": [
          "MainScreenAppear",
          "OffersScreenAppear",
          "CartScreenAppear",
          "PaymentScreenSuccessful"
         ]
        }
       ],
       "layout": {
        "template": {
         "data": {
          "bar": [
           {
            "error_x": {
             "color": "#2a3f5f"
            },
            "error_y": {
             "color": "#2a3f5f"
            },
            "marker": {
             "line": {
              "color": "#E5ECF6",
              "width": 0.5
             },
             "pattern": {
              "fillmode": "overlay",
              "size": 10,
              "solidity": 0.2
             }
            },
            "type": "bar"
           }
          ],
          "barpolar": [
           {
            "marker": {
             "line": {
              "color": "#E5ECF6",
              "width": 0.5
             },
             "pattern": {
              "fillmode": "overlay",
              "size": 10,
              "solidity": 0.2
             }
            },
            "type": "barpolar"
           }
          ],
          "carpet": [
           {
            "aaxis": {
             "endlinecolor": "#2a3f5f",
             "gridcolor": "white",
             "linecolor": "white",
             "minorgridcolor": "white",
             "startlinecolor": "#2a3f5f"
            },
            "baxis": {
             "endlinecolor": "#2a3f5f",
             "gridcolor": "white",
             "linecolor": "white",
             "minorgridcolor": "white",
             "startlinecolor": "#2a3f5f"
            },
            "type": "carpet"
           }
          ],
          "choropleth": [
           {
            "colorbar": {
             "outlinewidth": 0,
             "ticks": ""
            },
            "type": "choropleth"
           }
          ],
          "contour": [
           {
            "colorbar": {
             "outlinewidth": 0,
             "ticks": ""
            },
            "colorscale": [
             [
              0,
              "#0d0887"
             ],
             [
              0.1111111111111111,
              "#46039f"
             ],
             [
              0.2222222222222222,
              "#7201a8"
             ],
             [
              0.3333333333333333,
              "#9c179e"
             ],
             [
              0.4444444444444444,
              "#bd3786"
             ],
             [
              0.5555555555555556,
              "#d8576b"
             ],
             [
              0.6666666666666666,
              "#ed7953"
             ],
             [
              0.7777777777777778,
              "#fb9f3a"
             ],
             [
              0.8888888888888888,
              "#fdca26"
             ],
             [
              1,
              "#f0f921"
             ]
            ],
            "type": "contour"
           }
          ],
          "contourcarpet": [
           {
            "colorbar": {
             "outlinewidth": 0,
             "ticks": ""
            },
            "type": "contourcarpet"
           }
          ],
          "heatmap": [
           {
            "colorbar": {
             "outlinewidth": 0,
             "ticks": ""
            },
            "colorscale": [
             [
              0,
              "#0d0887"
             ],
             [
              0.1111111111111111,
              "#46039f"
             ],
             [
              0.2222222222222222,
              "#7201a8"
             ],
             [
              0.3333333333333333,
              "#9c179e"
             ],
             [
              0.4444444444444444,
              "#bd3786"
             ],
             [
              0.5555555555555556,
              "#d8576b"
             ],
             [
              0.6666666666666666,
              "#ed7953"
             ],
             [
              0.7777777777777778,
              "#fb9f3a"
             ],
             [
              0.8888888888888888,
              "#fdca26"
             ],
             [
              1,
              "#f0f921"
             ]
            ],
            "type": "heatmap"
           }
          ],
          "heatmapgl": [
           {
            "colorbar": {
             "outlinewidth": 0,
             "ticks": ""
            },
            "colorscale": [
             [
              0,
              "#0d0887"
             ],
             [
              0.1111111111111111,
              "#46039f"
             ],
             [
              0.2222222222222222,
              "#7201a8"
             ],
             [
              0.3333333333333333,
              "#9c179e"
             ],
             [
              0.4444444444444444,
              "#bd3786"
             ],
             [
              0.5555555555555556,
              "#d8576b"
             ],
             [
              0.6666666666666666,
              "#ed7953"
             ],
             [
              0.7777777777777778,
              "#fb9f3a"
             ],
             [
              0.8888888888888888,
              "#fdca26"
             ],
             [
              1,
              "#f0f921"
             ]
            ],
            "type": "heatmapgl"
           }
          ],
          "histogram": [
           {
            "marker": {
             "pattern": {
              "fillmode": "overlay",
              "size": 10,
              "solidity": 0.2
             }
            },
            "type": "histogram"
           }
          ],
          "histogram2d": [
           {
            "colorbar": {
             "outlinewidth": 0,
             "ticks": ""
            },
            "colorscale": [
             [
              0,
              "#0d0887"
             ],
             [
              0.1111111111111111,
              "#46039f"
             ],
             [
              0.2222222222222222,
              "#7201a8"
             ],
             [
              0.3333333333333333,
              "#9c179e"
             ],
             [
              0.4444444444444444,
              "#bd3786"
             ],
             [
              0.5555555555555556,
              "#d8576b"
             ],
             [
              0.6666666666666666,
              "#ed7953"
             ],
             [
              0.7777777777777778,
              "#fb9f3a"
             ],
             [
              0.8888888888888888,
              "#fdca26"
             ],
             [
              1,
              "#f0f921"
             ]
            ],
            "type": "histogram2d"
           }
          ],
          "histogram2dcontour": [
           {
            "colorbar": {
             "outlinewidth": 0,
             "ticks": ""
            },
            "colorscale": [
             [
              0,
              "#0d0887"
             ],
             [
              0.1111111111111111,
              "#46039f"
             ],
             [
              0.2222222222222222,
              "#7201a8"
             ],
             [
              0.3333333333333333,
              "#9c179e"
             ],
             [
              0.4444444444444444,
              "#bd3786"
             ],
             [
              0.5555555555555556,
              "#d8576b"
             ],
             [
              0.6666666666666666,
              "#ed7953"
             ],
             [
              0.7777777777777778,
              "#fb9f3a"
             ],
             [
              0.8888888888888888,
              "#fdca26"
             ],
             [
              1,
              "#f0f921"
             ]
            ],
            "type": "histogram2dcontour"
           }
          ],
          "mesh3d": [
           {
            "colorbar": {
             "outlinewidth": 0,
             "ticks": ""
            },
            "type": "mesh3d"
           }
          ],
          "parcoords": [
           {
            "line": {
             "colorbar": {
              "outlinewidth": 0,
              "ticks": ""
             }
            },
            "type": "parcoords"
           }
          ],
          "pie": [
           {
            "automargin": true,
            "type": "pie"
           }
          ],
          "scatter": [
           {
            "marker": {
             "colorbar": {
              "outlinewidth": 0,
              "ticks": ""
             }
            },
            "type": "scatter"
           }
          ],
          "scatter3d": [
           {
            "line": {
             "colorbar": {
              "outlinewidth": 0,
              "ticks": ""
             }
            },
            "marker": {
             "colorbar": {
              "outlinewidth": 0,
              "ticks": ""
             }
            },
            "type": "scatter3d"
           }
          ],
          "scattercarpet": [
           {
            "marker": {
             "colorbar": {
              "outlinewidth": 0,
              "ticks": ""
             }
            },
            "type": "scattercarpet"
           }
          ],
          "scattergeo": [
           {
            "marker": {
             "colorbar": {
              "outlinewidth": 0,
              "ticks": ""
             }
            },
            "type": "scattergeo"
           }
          ],
          "scattergl": [
           {
            "marker": {
             "colorbar": {
              "outlinewidth": 0,
              "ticks": ""
             }
            },
            "type": "scattergl"
           }
          ],
          "scattermapbox": [
           {
            "marker": {
             "colorbar": {
              "outlinewidth": 0,
              "ticks": ""
             }
            },
            "type": "scattermapbox"
           }
          ],
          "scatterpolar": [
           {
            "marker": {
             "colorbar": {
              "outlinewidth": 0,
              "ticks": ""
             }
            },
            "type": "scatterpolar"
           }
          ],
          "scatterpolargl": [
           {
            "marker": {
             "colorbar": {
              "outlinewidth": 0,
              "ticks": ""
             }
            },
            "type": "scatterpolargl"
           }
          ],
          "scatterternary": [
           {
            "marker": {
             "colorbar": {
              "outlinewidth": 0,
              "ticks": ""
             }
            },
            "type": "scatterternary"
           }
          ],
          "surface": [
           {
            "colorbar": {
             "outlinewidth": 0,
             "ticks": ""
            },
            "colorscale": [
             [
              0,
              "#0d0887"
             ],
             [
              0.1111111111111111,
              "#46039f"
             ],
             [
              0.2222222222222222,
              "#7201a8"
             ],
             [
              0.3333333333333333,
              "#9c179e"
             ],
             [
              0.4444444444444444,
              "#bd3786"
             ],
             [
              0.5555555555555556,
              "#d8576b"
             ],
             [
              0.6666666666666666,
              "#ed7953"
             ],
             [
              0.7777777777777778,
              "#fb9f3a"
             ],
             [
              0.8888888888888888,
              "#fdca26"
             ],
             [
              1,
              "#f0f921"
             ]
            ],
            "type": "surface"
           }
          ],
          "table": [
           {
            "cells": {
             "fill": {
              "color": "#EBF0F8"
             },
             "line": {
              "color": "white"
             }
            },
            "header": {
             "fill": {
              "color": "#C8D4E3"
             },
             "line": {
              "color": "white"
             }
            },
            "type": "table"
           }
          ]
         },
         "layout": {
          "annotationdefaults": {
           "arrowcolor": "#2a3f5f",
           "arrowhead": 0,
           "arrowwidth": 1
          },
          "autotypenumbers": "strict",
          "coloraxis": {
           "colorbar": {
            "outlinewidth": 0,
            "ticks": ""
           }
          },
          "colorscale": {
           "diverging": [
            [
             0,
             "#8e0152"
            ],
            [
             0.1,
             "#c51b7d"
            ],
            [
             0.2,
             "#de77ae"
            ],
            [
             0.3,
             "#f1b6da"
            ],
            [
             0.4,
             "#fde0ef"
            ],
            [
             0.5,
             "#f7f7f7"
            ],
            [
             0.6,
             "#e6f5d0"
            ],
            [
             0.7,
             "#b8e186"
            ],
            [
             0.8,
             "#7fbc41"
            ],
            [
             0.9,
             "#4d9221"
            ],
            [
             1,
             "#276419"
            ]
           ],
           "sequential": [
            [
             0,
             "#0d0887"
            ],
            [
             0.1111111111111111,
             "#46039f"
            ],
            [
             0.2222222222222222,
             "#7201a8"
            ],
            [
             0.3333333333333333,
             "#9c179e"
            ],
            [
             0.4444444444444444,
             "#bd3786"
            ],
            [
             0.5555555555555556,
             "#d8576b"
            ],
            [
             0.6666666666666666,
             "#ed7953"
            ],
            [
             0.7777777777777778,
             "#fb9f3a"
            ],
            [
             0.8888888888888888,
             "#fdca26"
            ],
            [
             1,
             "#f0f921"
            ]
           ],
           "sequentialminus": [
            [
             0,
             "#0d0887"
            ],
            [
             0.1111111111111111,
             "#46039f"
            ],
            [
             0.2222222222222222,
             "#7201a8"
            ],
            [
             0.3333333333333333,
             "#9c179e"
            ],
            [
             0.4444444444444444,
             "#bd3786"
            ],
            [
             0.5555555555555556,
             "#d8576b"
            ],
            [
             0.6666666666666666,
             "#ed7953"
            ],
            [
             0.7777777777777778,
             "#fb9f3a"
            ],
            [
             0.8888888888888888,
             "#fdca26"
            ],
            [
             1,
             "#f0f921"
            ]
           ]
          },
          "colorway": [
           "#636efa",
           "#EF553B",
           "#00cc96",
           "#ab63fa",
           "#FFA15A",
           "#19d3f3",
           "#FF6692",
           "#B6E880",
           "#FF97FF",
           "#FECB52"
          ],
          "font": {
           "color": "#2a3f5f"
          },
          "geo": {
           "bgcolor": "white",
           "lakecolor": "white",
           "landcolor": "#E5ECF6",
           "showlakes": true,
           "showland": true,
           "subunitcolor": "white"
          },
          "hoverlabel": {
           "align": "left"
          },
          "hovermode": "closest",
          "mapbox": {
           "style": "light"
          },
          "paper_bgcolor": "white",
          "plot_bgcolor": "#E5ECF6",
          "polar": {
           "angularaxis": {
            "gridcolor": "white",
            "linecolor": "white",
            "ticks": ""
           },
           "bgcolor": "#E5ECF6",
           "radialaxis": {
            "gridcolor": "white",
            "linecolor": "white",
            "ticks": ""
           }
          },
          "scene": {
           "xaxis": {
            "backgroundcolor": "#E5ECF6",
            "gridcolor": "white",
            "gridwidth": 2,
            "linecolor": "white",
            "showbackground": true,
            "ticks": "",
            "zerolinecolor": "white"
           },
           "yaxis": {
            "backgroundcolor": "#E5ECF6",
            "gridcolor": "white",
            "gridwidth": 2,
            "linecolor": "white",
            "showbackground": true,
            "ticks": "",
            "zerolinecolor": "white"
           },
           "zaxis": {
            "backgroundcolor": "#E5ECF6",
            "gridcolor": "white",
            "gridwidth": 2,
            "linecolor": "white",
            "showbackground": true,
            "ticks": "",
            "zerolinecolor": "white"
           }
          },
          "shapedefaults": {
           "line": {
            "color": "#2a3f5f"
           }
          },
          "ternary": {
           "aaxis": {
            "gridcolor": "white",
            "linecolor": "white",
            "ticks": ""
           },
           "baxis": {
            "gridcolor": "white",
            "linecolor": "white",
            "ticks": ""
           },
           "bgcolor": "#E5ECF6",
           "caxis": {
            "gridcolor": "white",
            "linecolor": "white",
            "ticks": ""
           }
          },
          "title": {
           "x": 0.05
          },
          "xaxis": {
           "automargin": true,
           "gridcolor": "white",
           "linecolor": "white",
           "ticks": "",
           "title": {
            "standoff": 15
           },
           "zerolinecolor": "white",
           "zerolinewidth": 2
          },
          "yaxis": {
           "automargin": true,
           "gridcolor": "white",
           "linecolor": "white",
           "ticks": "",
           "title": {
            "standoff": 15
           },
           "zerolinecolor": "white",
           "zerolinewidth": 2
          }
         }
        },
        "title": {
         "text": "Воронка"
        }
       }
      },
      "text/html": [
       "<div>                            <div id=\"5b236e18-9275-4bc0-b0a1-04060b210333\" class=\"plotly-graph-div\" style=\"height:525px; width:100%;\"></div>            <script type=\"text/javascript\">                require([\"plotly\"], function(Plotly) {                    window.PLOTLYENV=window.PLOTLYENV || {};                                    if (document.getElementById(\"5b236e18-9275-4bc0-b0a1-04060b210333\")) {                    Plotly.newPlot(                        \"5b236e18-9275-4bc0-b0a1-04060b210333\",                        [{\"textinfo\":\"value+percent previous\",\"textposition\":\"inside\",\"x\":[7419,4593,3734,3539],\"y\":[\"MainScreenAppear\",\"OffersScreenAppear\",\"CartScreenAppear\",\"PaymentScreenSuccessful\"],\"type\":\"funnel\"}],                        {\"template\":{\"data\":{\"bar\":[{\"error_x\":{\"color\":\"#2a3f5f\"},\"error_y\":{\"color\":\"#2a3f5f\"},\"marker\":{\"line\":{\"color\":\"#E5ECF6\",\"width\":0.5},\"pattern\":{\"fillmode\":\"overlay\",\"size\":10,\"solidity\":0.2}},\"type\":\"bar\"}],\"barpolar\":[{\"marker\":{\"line\":{\"color\":\"#E5ECF6\",\"width\":0.5},\"pattern\":{\"fillmode\":\"overlay\",\"size\":10,\"solidity\":0.2}},\"type\":\"barpolar\"}],\"carpet\":[{\"aaxis\":{\"endlinecolor\":\"#2a3f5f\",\"gridcolor\":\"white\",\"linecolor\":\"white\",\"minorgridcolor\":\"white\",\"startlinecolor\":\"#2a3f5f\"},\"baxis\":{\"endlinecolor\":\"#2a3f5f\",\"gridcolor\":\"white\",\"linecolor\":\"white\",\"minorgridcolor\":\"white\",\"startlinecolor\":\"#2a3f5f\"},\"type\":\"carpet\"}],\"choropleth\":[{\"colorbar\":{\"outlinewidth\":0,\"ticks\":\"\"},\"type\":\"choropleth\"}],\"contour\":[{\"colorbar\":{\"outlinewidth\":0,\"ticks\":\"\"},\"colorscale\":[[0.0,\"#0d0887\"],[0.1111111111111111,\"#46039f\"],[0.2222222222222222,\"#7201a8\"],[0.3333333333333333,\"#9c179e\"],[0.4444444444444444,\"#bd3786\"],[0.5555555555555556,\"#d8576b\"],[0.6666666666666666,\"#ed7953\"],[0.7777777777777778,\"#fb9f3a\"],[0.8888888888888888,\"#fdca26\"],[1.0,\"#f0f921\"]],\"type\":\"contour\"}],\"contourcarpet\":[{\"colorbar\":{\"outlinewidth\":0,\"ticks\":\"\"},\"type\":\"contourcarpet\"}],\"heatmap\":[{\"colorbar\":{\"outlinewidth\":0,\"ticks\":\"\"},\"colorscale\":[[0.0,\"#0d0887\"],[0.1111111111111111,\"#46039f\"],[0.2222222222222222,\"#7201a8\"],[0.3333333333333333,\"#9c179e\"],[0.4444444444444444,\"#bd3786\"],[0.5555555555555556,\"#d8576b\"],[0.6666666666666666,\"#ed7953\"],[0.7777777777777778,\"#fb9f3a\"],[0.8888888888888888,\"#fdca26\"],[1.0,\"#f0f921\"]],\"type\":\"heatmap\"}],\"heatmapgl\":[{\"colorbar\":{\"outlinewidth\":0,\"ticks\":\"\"},\"colorscale\":[[0.0,\"#0d0887\"],[0.1111111111111111,\"#46039f\"],[0.2222222222222222,\"#7201a8\"],[0.3333333333333333,\"#9c179e\"],[0.4444444444444444,\"#bd3786\"],[0.5555555555555556,\"#d8576b\"],[0.6666666666666666,\"#ed7953\"],[0.7777777777777778,\"#fb9f3a\"],[0.8888888888888888,\"#fdca26\"],[1.0,\"#f0f921\"]],\"type\":\"heatmapgl\"}],\"histogram\":[{\"marker\":{\"pattern\":{\"fillmode\":\"overlay\",\"size\":10,\"solidity\":0.2}},\"type\":\"histogram\"}],\"histogram2d\":[{\"colorbar\":{\"outlinewidth\":0,\"ticks\":\"\"},\"colorscale\":[[0.0,\"#0d0887\"],[0.1111111111111111,\"#46039f\"],[0.2222222222222222,\"#7201a8\"],[0.3333333333333333,\"#9c179e\"],[0.4444444444444444,\"#bd3786\"],[0.5555555555555556,\"#d8576b\"],[0.6666666666666666,\"#ed7953\"],[0.7777777777777778,\"#fb9f3a\"],[0.8888888888888888,\"#fdca26\"],[1.0,\"#f0f921\"]],\"type\":\"histogram2d\"}],\"histogram2dcontour\":[{\"colorbar\":{\"outlinewidth\":0,\"ticks\":\"\"},\"colorscale\":[[0.0,\"#0d0887\"],[0.1111111111111111,\"#46039f\"],[0.2222222222222222,\"#7201a8\"],[0.3333333333333333,\"#9c179e\"],[0.4444444444444444,\"#bd3786\"],[0.5555555555555556,\"#d8576b\"],[0.6666666666666666,\"#ed7953\"],[0.7777777777777778,\"#fb9f3a\"],[0.8888888888888888,\"#fdca26\"],[1.0,\"#f0f921\"]],\"type\":\"histogram2dcontour\"}],\"mesh3d\":[{\"colorbar\":{\"outlinewidth\":0,\"ticks\":\"\"},\"type\":\"mesh3d\"}],\"parcoords\":[{\"line\":{\"colorbar\":{\"outlinewidth\":0,\"ticks\":\"\"}},\"type\":\"parcoords\"}],\"pie\":[{\"automargin\":true,\"type\":\"pie\"}],\"scatter\":[{\"marker\":{\"colorbar\":{\"outlinewidth\":0,\"ticks\":\"\"}},\"type\":\"scatter\"}],\"scatter3d\":[{\"line\":{\"colorbar\":{\"outlinewidth\":0,\"ticks\":\"\"}},\"marker\":{\"colorbar\":{\"outlinewidth\":0,\"ticks\":\"\"}},\"type\":\"scatter3d\"}],\"scattercarpet\":[{\"marker\":{\"colorbar\":{\"outlinewidth\":0,\"ticks\":\"\"}},\"type\":\"scattercarpet\"}],\"scattergeo\":[{\"marker\":{\"colorbar\":{\"outlinewidth\":0,\"ticks\":\"\"}},\"type\":\"scattergeo\"}],\"scattergl\":[{\"marker\":{\"colorbar\":{\"outlinewidth\":0,\"ticks\":\"\"}},\"type\":\"scattergl\"}],\"scattermapbox\":[{\"marker\":{\"colorbar\":{\"outlinewidth\":0,\"ticks\":\"\"}},\"type\":\"scattermapbox\"}],\"scatterpolar\":[{\"marker\":{\"colorbar\":{\"outlinewidth\":0,\"ticks\":\"\"}},\"type\":\"scatterpolar\"}],\"scatterpolargl\":[{\"marker\":{\"colorbar\":{\"outlinewidth\":0,\"ticks\":\"\"}},\"type\":\"scatterpolargl\"}],\"scatterternary\":[{\"marker\":{\"colorbar\":{\"outlinewidth\":0,\"ticks\":\"\"}},\"type\":\"scatterternary\"}],\"surface\":[{\"colorbar\":{\"outlinewidth\":0,\"ticks\":\"\"},\"colorscale\":[[0.0,\"#0d0887\"],[0.1111111111111111,\"#46039f\"],[0.2222222222222222,\"#7201a8\"],[0.3333333333333333,\"#9c179e\"],[0.4444444444444444,\"#bd3786\"],[0.5555555555555556,\"#d8576b\"],[0.6666666666666666,\"#ed7953\"],[0.7777777777777778,\"#fb9f3a\"],[0.8888888888888888,\"#fdca26\"],[1.0,\"#f0f921\"]],\"type\":\"surface\"}],\"table\":[{\"cells\":{\"fill\":{\"color\":\"#EBF0F8\"},\"line\":{\"color\":\"white\"}},\"header\":{\"fill\":{\"color\":\"#C8D4E3\"},\"line\":{\"color\":\"white\"}},\"type\":\"table\"}]},\"layout\":{\"annotationdefaults\":{\"arrowcolor\":\"#2a3f5f\",\"arrowhead\":0,\"arrowwidth\":1},\"autotypenumbers\":\"strict\",\"coloraxis\":{\"colorbar\":{\"outlinewidth\":0,\"ticks\":\"\"}},\"colorscale\":{\"diverging\":[[0,\"#8e0152\"],[0.1,\"#c51b7d\"],[0.2,\"#de77ae\"],[0.3,\"#f1b6da\"],[0.4,\"#fde0ef\"],[0.5,\"#f7f7f7\"],[0.6,\"#e6f5d0\"],[0.7,\"#b8e186\"],[0.8,\"#7fbc41\"],[0.9,\"#4d9221\"],[1,\"#276419\"]],\"sequential\":[[0.0,\"#0d0887\"],[0.1111111111111111,\"#46039f\"],[0.2222222222222222,\"#7201a8\"],[0.3333333333333333,\"#9c179e\"],[0.4444444444444444,\"#bd3786\"],[0.5555555555555556,\"#d8576b\"],[0.6666666666666666,\"#ed7953\"],[0.7777777777777778,\"#fb9f3a\"],[0.8888888888888888,\"#fdca26\"],[1.0,\"#f0f921\"]],\"sequentialminus\":[[0.0,\"#0d0887\"],[0.1111111111111111,\"#46039f\"],[0.2222222222222222,\"#7201a8\"],[0.3333333333333333,\"#9c179e\"],[0.4444444444444444,\"#bd3786\"],[0.5555555555555556,\"#d8576b\"],[0.6666666666666666,\"#ed7953\"],[0.7777777777777778,\"#fb9f3a\"],[0.8888888888888888,\"#fdca26\"],[1.0,\"#f0f921\"]]},\"colorway\":[\"#636efa\",\"#EF553B\",\"#00cc96\",\"#ab63fa\",\"#FFA15A\",\"#19d3f3\",\"#FF6692\",\"#B6E880\",\"#FF97FF\",\"#FECB52\"],\"font\":{\"color\":\"#2a3f5f\"},\"geo\":{\"bgcolor\":\"white\",\"lakecolor\":\"white\",\"landcolor\":\"#E5ECF6\",\"showlakes\":true,\"showland\":true,\"subunitcolor\":\"white\"},\"hoverlabel\":{\"align\":\"left\"},\"hovermode\":\"closest\",\"mapbox\":{\"style\":\"light\"},\"paper_bgcolor\":\"white\",\"plot_bgcolor\":\"#E5ECF6\",\"polar\":{\"angularaxis\":{\"gridcolor\":\"white\",\"linecolor\":\"white\",\"ticks\":\"\"},\"bgcolor\":\"#E5ECF6\",\"radialaxis\":{\"gridcolor\":\"white\",\"linecolor\":\"white\",\"ticks\":\"\"}},\"scene\":{\"xaxis\":{\"backgroundcolor\":\"#E5ECF6\",\"gridcolor\":\"white\",\"gridwidth\":2,\"linecolor\":\"white\",\"showbackground\":true,\"ticks\":\"\",\"zerolinecolor\":\"white\"},\"yaxis\":{\"backgroundcolor\":\"#E5ECF6\",\"gridcolor\":\"white\",\"gridwidth\":2,\"linecolor\":\"white\",\"showbackground\":true,\"ticks\":\"\",\"zerolinecolor\":\"white\"},\"zaxis\":{\"backgroundcolor\":\"#E5ECF6\",\"gridcolor\":\"white\",\"gridwidth\":2,\"linecolor\":\"white\",\"showbackground\":true,\"ticks\":\"\",\"zerolinecolor\":\"white\"}},\"shapedefaults\":{\"line\":{\"color\":\"#2a3f5f\"}},\"ternary\":{\"aaxis\":{\"gridcolor\":\"white\",\"linecolor\":\"white\",\"ticks\":\"\"},\"baxis\":{\"gridcolor\":\"white\",\"linecolor\":\"white\",\"ticks\":\"\"},\"bgcolor\":\"#E5ECF6\",\"caxis\":{\"gridcolor\":\"white\",\"linecolor\":\"white\",\"ticks\":\"\"}},\"title\":{\"x\":0.05},\"xaxis\":{\"automargin\":true,\"gridcolor\":\"white\",\"linecolor\":\"white\",\"ticks\":\"\",\"title\":{\"standoff\":15},\"zerolinecolor\":\"white\",\"zerolinewidth\":2},\"yaxis\":{\"automargin\":true,\"gridcolor\":\"white\",\"linecolor\":\"white\",\"ticks\":\"\",\"title\":{\"standoff\":15},\"zerolinecolor\":\"white\",\"zerolinewidth\":2}}},\"title\":{\"text\":\"\\u0412\\u043e\\u0440\\u043e\\u043d\\u043a\\u0430\"}},                        {\"responsive\": true}                    ).then(function(){\n",
       "                            \n",
       "var gd = document.getElementById('5b236e18-9275-4bc0-b0a1-04060b210333');\n",
       "var x = new MutationObserver(function (mutations, observer) {{\n",
       "        var display = window.getComputedStyle(gd).display;\n",
       "        if (!display || display === 'none') {{\n",
       "            console.log([gd, 'removed!']);\n",
       "            Plotly.purge(gd);\n",
       "            observer.disconnect();\n",
       "        }}\n",
       "}});\n",
       "\n",
       "// Listen for the removal of the full notebook cells\n",
       "var notebookContainer = gd.closest('#notebook-container');\n",
       "if (notebookContainer) {{\n",
       "    x.observe(notebookContainer, {childList: true});\n",
       "}}\n",
       "\n",
       "// Listen for the clearing of the current output cell\n",
       "var outputEl = gd.closest('.output');\n",
       "if (outputEl) {{\n",
       "    x.observe(outputEl, {childList: true});\n",
       "}}\n",
       "\n",
       "                        })                };                });            </script>        </div>"
      ]
     },
     "metadata": {},
     "output_type": "display_data"
    }
   ],
   "source": [
    "# Код ревьюера\n",
    "from plotly import graph_objects as go\n",
    "fig = go.Figure(go.Funnel(y = retention['event'],\n",
    "                          x = retention['count'],\n",
    "                          # title='Воронка событий, число пользователей', \n",
    "                          textposition = 'inside',\n",
    "                          textinfo = 'value + percent previous'))\n",
    "fig.update_layout(title='Воронка')\n",
    "fig.show()\n"
   ]
  },
  {
   "cell_type": "markdown",
   "metadata": {},
   "source": [
    "### Изучение результатов эксперемента"
   ]
  },
  {
   "cell_type": "code",
   "execution_count": 24,
   "metadata": {},
   "outputs": [
    {
     "data": {
      "text/plain": [
       "7530"
      ]
     },
     "execution_count": 24,
     "metadata": {},
     "output_type": "execute_result"
    }
   ],
   "source": [
    "#Кол-во всех пользователей.\n",
    "len(data['id'].unique())"
   ]
  },
  {
   "cell_type": "code",
   "execution_count": 26,
   "metadata": {},
   "outputs": [
    {
     "data": {
      "text/html": [
       "<div>\n",
       "<style scoped>\n",
       "    .dataframe tbody tr th:only-of-type {\n",
       "        vertical-align: middle;\n",
       "    }\n",
       "\n",
       "    .dataframe tbody tr th {\n",
       "        vertical-align: top;\n",
       "    }\n",
       "\n",
       "    .dataframe thead th {\n",
       "        text-align: right;\n",
       "    }\n",
       "</style>\n",
       "<table border=\"1\" class=\"dataframe\">\n",
       "  <thead>\n",
       "    <tr style=\"text-align: right;\">\n",
       "      <th></th>\n",
       "      <th>id</th>\n",
       "      <th>event</th>\n",
       "      <th>group</th>\n",
       "    </tr>\n",
       "  </thead>\n",
       "  <tbody>\n",
       "    <tr>\n",
       "      <th>0</th>\n",
       "      <td>6888746892508752</td>\n",
       "      <td>MainScreenAppear</td>\n",
       "      <td>246</td>\n",
       "    </tr>\n",
       "    <tr>\n",
       "      <th>1</th>\n",
       "      <td>6909561520679493</td>\n",
       "      <td>CartScreenAppear</td>\n",
       "      <td>247</td>\n",
       "    </tr>\n",
       "    <tr>\n",
       "      <th>2</th>\n",
       "      <td>6909561520679493</td>\n",
       "      <td>MainScreenAppear</td>\n",
       "      <td>247</td>\n",
       "    </tr>\n",
       "    <tr>\n",
       "      <th>3</th>\n",
       "      <td>6909561520679493</td>\n",
       "      <td>OffersScreenAppear</td>\n",
       "      <td>247</td>\n",
       "    </tr>\n",
       "    <tr>\n",
       "      <th>4</th>\n",
       "      <td>6909561520679493</td>\n",
       "      <td>PaymentScreenSuccessful</td>\n",
       "      <td>247</td>\n",
       "    </tr>\n",
       "    <tr>\n",
       "      <th>...</th>\n",
       "      <td>...</td>\n",
       "      <td>...</td>\n",
       "      <td>...</td>\n",
       "    </tr>\n",
       "    <tr>\n",
       "      <th>19280</th>\n",
       "      <td>9220879493065341500</td>\n",
       "      <td>CartScreenAppear</td>\n",
       "      <td>246</td>\n",
       "    </tr>\n",
       "    <tr>\n",
       "      <th>19281</th>\n",
       "      <td>9220879493065341500</td>\n",
       "      <td>MainScreenAppear</td>\n",
       "      <td>246</td>\n",
       "    </tr>\n",
       "    <tr>\n",
       "      <th>19282</th>\n",
       "      <td>9220879493065341500</td>\n",
       "      <td>OffersScreenAppear</td>\n",
       "      <td>246</td>\n",
       "    </tr>\n",
       "    <tr>\n",
       "      <th>19283</th>\n",
       "      <td>9221926045299980007</td>\n",
       "      <td>MainScreenAppear</td>\n",
       "      <td>246</td>\n",
       "    </tr>\n",
       "    <tr>\n",
       "      <th>19284</th>\n",
       "      <td>9222603179720523844</td>\n",
       "      <td>MainScreenAppear</td>\n",
       "      <td>248</td>\n",
       "    </tr>\n",
       "  </tbody>\n",
       "</table>\n",
       "<p>19285 rows × 3 columns</p>\n",
       "</div>"
      ],
      "text/plain": [
       "                        id                    event  group\n",
       "0         6888746892508752         MainScreenAppear    246\n",
       "1         6909561520679493         CartScreenAppear    247\n",
       "2         6909561520679493         MainScreenAppear    247\n",
       "3         6909561520679493       OffersScreenAppear    247\n",
       "4         6909561520679493  PaymentScreenSuccessful    247\n",
       "...                    ...                      ...    ...\n",
       "19280  9220879493065341500         CartScreenAppear    246\n",
       "19281  9220879493065341500         MainScreenAppear    246\n",
       "19282  9220879493065341500       OffersScreenAppear    246\n",
       "19283  9221926045299980007         MainScreenAppear    246\n",
       "19284  9222603179720523844         MainScreenAppear    248\n",
       "\n",
       "[19285 rows x 3 columns]"
      ]
     },
     "execution_count": 26,
     "metadata": {},
     "output_type": "execute_result"
    }
   ],
   "source": [
    "data.groupby(['id','event']).agg({'group':'first'}).reset_index()"
   ]
  },
  {
   "cell_type": "code",
   "execution_count": 27,
   "metadata": {},
   "outputs": [
    {
     "data": {
      "text/plain": [
       "7530"
      ]
     },
     "execution_count": 27,
     "metadata": {},
     "output_type": "execute_result"
    }
   ],
   "source": [
    "#Кол-во людей в каждой группе\n",
    "totalUsersByGroup = data.groupby(['id','event']).agg({'group':'first'}).reset_index()\\\n",
    ".groupby('group')['id'].count()\n",
    "\n",
    "totalUsersByGroup = data.groupby('group').agg({'id': pd.Series.nunique})['id']\n",
    "#Сумма групп\n",
    "totalUsersByGroup.sum()"
   ]
  },
  {
   "cell_type": "markdown",
   "metadata": {},
   "source": [
    "#### Проверка стат критериев"
   ]
  },
  {
   "cell_type": "markdown",
   "metadata": {},
   "source": [
    "Ранее было выявлено, что в группах 246, 247, 248 (или группы A,B,C) соответственно 2484, 2513 и 2537 пользователей, а различие между 246, 247 и 247, 248 группами составляет менее 2%. "
   ]
  },
  {
   "cell_type": "code",
   "execution_count": 29,
   "metadata": {},
   "outputs": [],
   "source": [
    "alpha = .05 # критический уровень статистической значимости\n",
    "\n",
    "def get_z_value(successes1,successes2, trials1, trials2, alpha=0.05):\n",
    "\n",
    "    successes = np.array([successes1, successes2])\n",
    "    trials = np.array([trials1, trials2])\n",
    "\n",
    "    # пропорция успехов в первой группе:\n",
    "    p1 = successes[0]/trials[0]\n",
    "\n",
    "    # пропорция успехов во второй группе:\n",
    "    p2 = successes[1]/trials[1]\n",
    "\n",
    "    # пропорция успехов в комбинированном датасете:\n",
    "    p_combined = (successes[0] + successes[1]) / (trials[0] + trials[1])\n",
    "\n",
    "    # разница пропорций в датасетах\n",
    "    difference = p1 - p2\n",
    "    \n",
    "    # считаем статистику в ст.отклонениях стандартного нормального распределения\n",
    "    z_value = difference / mth.sqrt(p_combined * (1 - p_combined) * (1/trials[0] + 1/trials[1]))\n",
    "    \n",
    "    # задаем стандартное нормальное распределение (среднее 0, ст.отклонение 1)\n",
    "    distr = st.norm(0, 1)  \n",
    "    \n",
    "    p_value = (1 - distr.cdf(abs(z_value))) * 2\n",
    "    \n",
    "    print('p-значение: ', p_value)\n",
    "\n",
    "    if p_value < alpha:\n",
    "        print('Отвергаем нулевую гипотезу: между долями есть значимая разница')\n",
    "    else:\n",
    "        print(\n",
    "        'Не получилось отвергнуть нулевую гипотезу, нет оснований считать доли разными'\n",
    "        )"
   ]
  },
  {
   "cell_type": "code",
   "execution_count": 30,
   "metadata": {},
   "outputs": [
    {
     "data": {
      "text/html": [
       "<div>\n",
       "<style scoped>\n",
       "    .dataframe tbody tr th:only-of-type {\n",
       "        vertical-align: middle;\n",
       "    }\n",
       "\n",
       "    .dataframe tbody tr th {\n",
       "        vertical-align: top;\n",
       "    }\n",
       "\n",
       "    .dataframe thead th {\n",
       "        text-align: right;\n",
       "    }\n",
       "</style>\n",
       "<table border=\"1\" class=\"dataframe\">\n",
       "  <thead>\n",
       "    <tr style=\"text-align: right;\">\n",
       "      <th>group</th>\n",
       "      <th>event</th>\n",
       "      <th>246</th>\n",
       "      <th>247</th>\n",
       "      <th>248</th>\n",
       "      <th>246_share</th>\n",
       "      <th>247_share</th>\n",
       "      <th>248_share</th>\n",
       "    </tr>\n",
       "  </thead>\n",
       "  <tbody>\n",
       "    <tr>\n",
       "      <th>0</th>\n",
       "      <td>MainScreenAppear</td>\n",
       "      <td>2450</td>\n",
       "      <td>2476</td>\n",
       "      <td>2493</td>\n",
       "      <td>0.986710</td>\n",
       "      <td>0.985669</td>\n",
       "      <td>0.983432</td>\n",
       "    </tr>\n",
       "    <tr>\n",
       "      <th>1</th>\n",
       "      <td>OffersScreenAppear</td>\n",
       "      <td>1542</td>\n",
       "      <td>1520</td>\n",
       "      <td>1531</td>\n",
       "      <td>0.621023</td>\n",
       "      <td>0.605096</td>\n",
       "      <td>0.603945</td>\n",
       "    </tr>\n",
       "    <tr>\n",
       "      <th>2</th>\n",
       "      <td>CartScreenAppear</td>\n",
       "      <td>1266</td>\n",
       "      <td>1238</td>\n",
       "      <td>1230</td>\n",
       "      <td>0.509867</td>\n",
       "      <td>0.492834</td>\n",
       "      <td>0.485207</td>\n",
       "    </tr>\n",
       "    <tr>\n",
       "      <th>3</th>\n",
       "      <td>PaymentScreenSuccessful</td>\n",
       "      <td>1200</td>\n",
       "      <td>1158</td>\n",
       "      <td>1181</td>\n",
       "      <td>0.483286</td>\n",
       "      <td>0.460987</td>\n",
       "      <td>0.465878</td>\n",
       "    </tr>\n",
       "  </tbody>\n",
       "</table>\n",
       "</div>"
      ],
      "text/plain": [
       "group                    event   246   247   248  246_share  247_share  \\\n",
       "0             MainScreenAppear  2450  2476  2493   0.986710   0.985669   \n",
       "1           OffersScreenAppear  1542  1520  1531   0.621023   0.605096   \n",
       "2             CartScreenAppear  1266  1238  1230   0.509867   0.492834   \n",
       "3      PaymentScreenSuccessful  1200  1158  1181   0.483286   0.460987   \n",
       "\n",
       "group  248_share  \n",
       "0       0.983432  \n",
       "1       0.603945  \n",
       "2       0.485207  \n",
       "3       0.465878  "
      ]
     },
     "execution_count": 30,
     "metadata": {},
     "output_type": "execute_result"
    }
   ],
   "source": [
    "#Группировка по ивентам и группам\n",
    "retentionByGroup = data.groupby(['id','event']).agg({'group':'first'}).reset_index()\\\n",
    ".pivot_table(\n",
    "    index='event',columns='group',values='id', aggfunc='count'\n",
    ").reset_index().sort_values(by=246, ascending=False).reset_index(drop=True)\n",
    "\n",
    "#Доавление доли \n",
    "retentionByGroup['246_share'] = retentionByGroup[246]/totalUsersByGroup.loc[246]\n",
    "retentionByGroup['247_share'] = retentionByGroup[247]/totalUsersByGroup.loc[247]\n",
    "retentionByGroup['248_share'] = retentionByGroup[248]/totalUsersByGroup.loc[248]\n",
    "\n",
    "#Вывод\n",
    "retentionByGroup"
   ]
  },
  {
   "cell_type": "code",
   "execution_count": 31,
   "metadata": {},
   "outputs": [
    {
     "name": "stdout",
     "output_type": "stream",
     "text": [
      "p-значение:  0.6515614804606507\n",
      "Не получилось отвергнуть нулевую гипотезу, нет оснований считать доли разными\n"
     ]
    }
   ],
   "source": [
    "#Проверка гипотезы\n",
    "get_z_value(retentionByGroup.loc[0,246],retentionByGroup.loc[0,247],len(data['id'].unique()),len(data['id'].unique()))"
   ]
  },
  {
   "cell_type": "markdown",
   "metadata": {},
   "source": [
    "Если взглнуть на дата-сет, то можно понять, что нет полей, по которым можно сравнить стат значимости групп. Тогда обратимся к целям A/A/B теста, а именно: посмотреть изменится ли удеражние/конверсия пользователей при смене шрифта. Для начала можно создать список людей и кол-во этапов, которые они прошли для каждой из групп. "
   ]
  },
  {
   "cell_type": "code",
   "execution_count": 32,
   "metadata": {},
   "outputs": [],
   "source": [
    "#Создание списка пользователей и кол-во пройденных этапов для А \n",
    "stepsByUsersA = (\n",
    "    data[data['group']==246]\n",
    "    .groupby('id', as_index=False)\n",
    "    .agg({'event': pd.Series.nunique})\n",
    ")\n",
    "\n",
    "#Создание списка пользователей и кол-во пройденных этапов для B \n",
    "stepsByUsersB = (\n",
    "    data[data['group']==247]\n",
    "    .groupby('id', as_index=False)\n",
    "    .agg({'event': pd.Series.nunique})\n",
    ")\n",
    "\n",
    "#Создание списка пользователей и кол-во пройденных этапов для C \n",
    "stepsByUsersC = (\n",
    "    data[data['group']==248]\n",
    "    .groupby('id', as_index=False)\n",
    "    .agg({'event': pd.Series.nunique})\n",
    ")"
   ]
  },
  {
   "cell_type": "markdown",
   "metadata": {},
   "source": [
    "Для наглядности покажем, как выглядет stepsByUsersA. И увидим, что датасет содержит в себе данные о пользователях и кол-во пройденных этапов."
   ]
  },
  {
   "cell_type": "code",
   "execution_count": 33,
   "metadata": {},
   "outputs": [
    {
     "data": {
      "text/html": [
       "<div>\n",
       "<style scoped>\n",
       "    .dataframe tbody tr th:only-of-type {\n",
       "        vertical-align: middle;\n",
       "    }\n",
       "\n",
       "    .dataframe tbody tr th {\n",
       "        vertical-align: top;\n",
       "    }\n",
       "\n",
       "    .dataframe thead th {\n",
       "        text-align: right;\n",
       "    }\n",
       "</style>\n",
       "<table border=\"1\" class=\"dataframe\">\n",
       "  <thead>\n",
       "    <tr style=\"text-align: right;\">\n",
       "      <th></th>\n",
       "      <th>id</th>\n",
       "      <th>event</th>\n",
       "    </tr>\n",
       "  </thead>\n",
       "  <tbody>\n",
       "    <tr>\n",
       "      <th>0</th>\n",
       "      <td>6888746892508752</td>\n",
       "      <td>1</td>\n",
       "    </tr>\n",
       "    <tr>\n",
       "      <th>1</th>\n",
       "      <td>6922444491712477</td>\n",
       "      <td>4</td>\n",
       "    </tr>\n",
       "    <tr>\n",
       "      <th>2</th>\n",
       "      <td>8740973466195562</td>\n",
       "      <td>2</td>\n",
       "    </tr>\n",
       "    <tr>\n",
       "      <th>3</th>\n",
       "      <td>12692216027168046</td>\n",
       "      <td>2</td>\n",
       "    </tr>\n",
       "    <tr>\n",
       "      <th>4</th>\n",
       "      <td>15708180189885246</td>\n",
       "      <td>4</td>\n",
       "    </tr>\n",
       "    <tr>\n",
       "      <th>...</th>\n",
       "      <td>...</td>\n",
       "      <td>...</td>\n",
       "    </tr>\n",
       "    <tr>\n",
       "      <th>2478</th>\n",
       "      <td>9216094175241772920</td>\n",
       "      <td>1</td>\n",
       "    </tr>\n",
       "    <tr>\n",
       "      <th>2479</th>\n",
       "      <td>9216369613838971606</td>\n",
       "      <td>4</td>\n",
       "    </tr>\n",
       "    <tr>\n",
       "      <th>2480</th>\n",
       "      <td>9217594193087726423</td>\n",
       "      <td>3</td>\n",
       "    </tr>\n",
       "    <tr>\n",
       "      <th>2481</th>\n",
       "      <td>9220879493065341500</td>\n",
       "      <td>3</td>\n",
       "    </tr>\n",
       "    <tr>\n",
       "      <th>2482</th>\n",
       "      <td>9221926045299980007</td>\n",
       "      <td>1</td>\n",
       "    </tr>\n",
       "  </tbody>\n",
       "</table>\n",
       "<p>2483 rows × 2 columns</p>\n",
       "</div>"
      ],
      "text/plain": [
       "                       id  event\n",
       "0        6888746892508752      1\n",
       "1        6922444491712477      4\n",
       "2        8740973466195562      2\n",
       "3       12692216027168046      2\n",
       "4       15708180189885246      4\n",
       "...                   ...    ...\n",
       "2478  9216094175241772920      1\n",
       "2479  9216369613838971606      4\n",
       "2480  9217594193087726423      3\n",
       "2481  9220879493065341500      3\n",
       "2482  9221926045299980007      1\n",
       "\n",
       "[2483 rows x 2 columns]"
      ]
     },
     "execution_count": 33,
     "metadata": {},
     "output_type": "execute_result"
    }
   ],
   "source": [
    "#Вывод\n",
    "stepsByUsersA"
   ]
  },
  {
   "cell_type": "markdown",
   "metadata": {},
   "source": [
    "Теперь сравним выборки. Для этого сформулируем нулевую гипотезу: нет статистической значимых различий между выборками групп 246 и 247. Алтренативная гипотеза будет звучать так: есть стат значимая различие между группами 246 и 247. Уровень значимости установим в 0.05."
   ]
  },
  {
   "cell_type": "code",
   "execution_count": 34,
   "metadata": {},
   "outputs": [
    {
     "name": "stdout",
     "output_type": "stream",
     "text": [
      "p-значение:  0.1626228960173608\n",
      "Не получилось отвергнуть нулевую гипотезу, вывод о различии сделать нельзя\n"
     ]
    }
   ],
   "source": [
    "alpha = 0.05  # критический уровень статистической значимости\n",
    "\n",
    "results = st.mannwhitneyu(stepsByUsersA['event'], stepsByUsersB['event'])\n",
    "\n",
    "print('p-значение: ', results.pvalue)\n",
    "\n",
    "if results.pvalue < alpha:\n",
    "    print('Отвергаем нулевую гипотезу: разница статистически значима')\n",
    "else:\n",
    "    print(\n",
    "        'Не получилось отвергнуть нулевую гипотезу, вывод о различии сделать нельзя'\n",
    "    )"
   ]
  },
  {
   "cell_type": "markdown",
   "metadata": {},
   "source": [
    "Вывод: проверка не находит разности"
   ]
  },
  {
   "cell_type": "markdown",
   "metadata": {},
   "source": [
    "#### Проверка, будет ли отличие между группами стат достовреным."
   ]
  },
  {
   "cell_type": "markdown",
   "metadata": {},
   "source": [
    "Посмотрим сколько людей перешло на тот или иной этап воронки. "
   ]
  },
  {
   "cell_type": "markdown",
   "metadata": {},
   "source": [
    "Самым частым ивентов является посещение главной страницы. Из контрольных групп его совершли 2450 и 2476 раз. Совершили эти дейсвтия 37,9% и 38,7% пользователей групп 246 и 247 соответсвенно.\n",
    "\n",
    "Теперь создадим функцию для проверки гипотезы о равенстве долей. Функция будет сразу будет говорить результаты проверки. Сформулируем нулевую гипотезу: нет значимой разницы конверсий между граппами x и y за ивента z. Альтернативная гипотеза: есть занчимая разница конверсий между группам x и y ивента z. Уровень значимости установим в 5%"
   ]
  },
  {
   "cell_type": "markdown",
   "metadata": {},
   "source": [
    "А теперь проверим группы 246 и 247 по ивентам"
   ]
  },
  {
   "cell_type": "code",
   "execution_count": 35,
   "metadata": {},
   "outputs": [
    {
     "name": "stdout",
     "output_type": "stream",
     "text": [
      "Проверка групп 246 и 247 по главной стр\n",
      "p-значение:  0.7526703436483038\n",
      "Не получилось отвергнуть нулевую гипотезу, нет оснований считать доли разными\n",
      "Проверка групп 246 и 247 по стр предложения\n",
      "p-значение:  0.24786096925282264\n",
      "Не получилось отвергнуть нулевую гипотезу, нет оснований считать доли разными\n",
      "\n",
      "Проверка групп 246 и 247 по стр корзины\n",
      "p-значение:  0.22867643757335676\n",
      "Не получилось отвергнуть нулевую гипотезу, нет оснований считать доли разными\n",
      "\n",
      "Проверка групп 246 и 247 по стр оплаты\n",
      "p-значение:  0.11446627829276612\n",
      "Не получилось отвергнуть нулевую гипотезу, нет оснований считать доли разными\n",
      "\n"
     ]
    }
   ],
   "source": [
    "#Првоведение тестов\n",
    "print('Проверка групп 246 и 247 по главной стр')\n",
    "get_z_value(retentionByGroup.loc[0,246],retentionByGroup.loc[0,247],totalUsersByGroup[246],totalUsersByGroup[247])\n",
    "#print()\n",
    "print('Проверка групп 246 и 247 по стр предложения')\n",
    "get_z_value(retentionByGroup.loc[1,246],retentionByGroup.loc[1,247],totalUsersByGroup[246],totalUsersByGroup[247])\n",
    "print()\n",
    "print('Проверка групп 246 и 247 по стр корзины')\n",
    "get_z_value(retentionByGroup.loc[2,246],retentionByGroup.loc[2,247],totalUsersByGroup[246],totalUsersByGroup[247])\n",
    "print()\n",
    "print('Проверка групп 246 и 247 по стр оплаты')\n",
    "get_z_value(retentionByGroup.loc[3,246],retentionByGroup.loc[3,247],totalUsersByGroup[246],totalUsersByGroup[247])\n",
    "print()"
   ]
  },
  {
   "cell_type": "markdown",
   "metadata": {},
   "source": [
    "**Вывод: проверки показывают, что нет оснований считать доли разными, что означает, что между группами 246 и 247 нет статистической значимой разницы**"
   ]
  },
  {
   "cell_type": "markdown",
   "metadata": {},
   "source": [
    "#### Проверка долей с группой с измененными шрифтами"
   ]
  },
  {
   "cell_type": "markdown",
   "metadata": {},
   "source": [
    "Ожидается, что статистическая разница между группами  246-248 и 247-248 будет, иначе введение нового шрифта не принесла никаких результатов. Проверим похожие проверки, но уже с группой 248"
   ]
  },
  {
   "cell_type": "code",
   "execution_count": 36,
   "metadata": {},
   "outputs": [
    {
     "name": "stdout",
     "output_type": "stream",
     "text": [
      "Проверка групп 246 и 248 по главной стр\n",
      "p-значение:  0.3387114076159288\n",
      "Не получилось отвергнуть нулевую гипотезу, нет оснований считать доли разными\n",
      "Проверка групп 246 и 248 по стр предложения\n",
      "p-значение:  0.21442476639710506\n",
      "Не получилось отвергнуть нулевую гипотезу, нет оснований считать доли разными\n",
      "\n",
      "Проверка групп 246 и 248 по стр корзины\n",
      "p-значение:  0.08067367598823139\n",
      "Не получилось отвергнуть нулевую гипотезу, нет оснований считать доли разными\n",
      "\n",
      "Проверка групп 246 и 248 по стр оплаты\n",
      "p-значение:  0.21693033984516674\n",
      "Не получилось отвергнуть нулевую гипотезу, нет оснований считать доли разными\n",
      "\n"
     ]
    }
   ],
   "source": [
    "#Првоведение тестов между 246 и 248\n",
    "print('Проверка групп 246 и 248 по главной стр')\n",
    "get_z_value(retentionByGroup.loc[0,246],retentionByGroup.loc[0,248],totalUsersByGroup[246],totalUsersByGroup[248])\n",
    "#print()\n",
    "print('Проверка групп 246 и 248 по стр предложения')\n",
    "get_z_value(retentionByGroup.loc[1,246],retentionByGroup.loc[1,248],totalUsersByGroup[246],totalUsersByGroup[248])\n",
    "print()\n",
    "print('Проверка групп 246 и 248 по стр корзины')\n",
    "get_z_value(retentionByGroup.loc[2,246],retentionByGroup.loc[2,248],totalUsersByGroup[246],totalUsersByGroup[248])\n",
    "print()\n",
    "print('Проверка групп 246 и 248 по стр оплаты')\n",
    "get_z_value(retentionByGroup.loc[3,246],retentionByGroup.loc[3,248],totalUsersByGroup[246],totalUsersByGroup[248])\n",
    "print()"
   ]
  },
  {
   "cell_type": "markdown",
   "metadata": {},
   "source": [
    "Проверка также показывает, что скорее всего доли одинаковые. тоже самое проделаем с группами 247 и 248"
   ]
  },
  {
   "cell_type": "code",
   "execution_count": 37,
   "metadata": {},
   "outputs": [
    {
     "name": "stdout",
     "output_type": "stream",
     "text": [
      "Проверка групп 247 и 248 по главной стр\n",
      "p-значение:  0.5194964354051703\n",
      "Не получилось отвергнуть нулевую гипотезу, нет оснований считать доли разными\n",
      "Проверка групп 247 и 248 по стр предложения\n",
      "p-значение:  0.9333751305879443\n",
      "Не получилось отвергнуть нулевую гипотезу, нет оснований считать доли разными\n",
      "\n",
      "Проверка групп 247 и 248 по стр корзины\n",
      "p-значение:  0.5878284605111943\n",
      "Не получилось отвергнуть нулевую гипотезу, нет оснований считать доли разными\n",
      "\n",
      "Проверка групп 247 и 248 по стр оплаты\n",
      "p-значение:  0.7275718682261119\n",
      "Не получилось отвергнуть нулевую гипотезу, нет оснований считать доли разными\n",
      "\n"
     ]
    }
   ],
   "source": [
    "#Првоведение тестов между 247 и 248\n",
    "print('Проверка групп 247 и 248 по главной стр')\n",
    "get_z_value(retentionByGroup.loc[0,247],retentionByGroup.loc[0,248],totalUsersByGroup[247],totalUsersByGroup[248])\n",
    "#print()\n",
    "print('Проверка групп 247 и 248 по стр предложения')\n",
    "get_z_value(retentionByGroup.loc[1,247],retentionByGroup.loc[1,248],totalUsersByGroup[247],totalUsersByGroup[248])\n",
    "print()\n",
    "print('Проверка групп 247 и 248 по стр корзины')\n",
    "get_z_value(retentionByGroup.loc[2,247],retentionByGroup.loc[2,248],totalUsersByGroup[247],totalUsersByGroup[248])\n",
    "print()\n",
    "print('Проверка групп 247 и 248 по стр оплаты')\n",
    "get_z_value(retentionByGroup.loc[3,247],retentionByGroup.loc[3,248],totalUsersByGroup[247],totalUsersByGroup[248])\n",
    "print()"
   ]
  },
  {
   "cell_type": "markdown",
   "metadata": {},
   "source": [
    "Такой же результат, что и в сравнении с предыдущей группой. Теперь объеденим 246 и 247 и объединенную группу сравним с 248"
   ]
  },
  {
   "cell_type": "code",
   "execution_count": 38,
   "metadata": {
    "scrolled": true
   },
   "outputs": [
    {
     "name": "stdout",
     "output_type": "stream",
     "text": [
      "Проверка групп объединенной и 248 по главной стр\n",
      "p-значение:  0.3486684291093256\n",
      "Не получилось отвергнуть нулевую гипотезу, нет оснований считать доли разными\n",
      "Проверка групп объединенной и 248 по стр предложения\n",
      "p-значение:  0.44582745409482394\n",
      "Не получилось отвергнуть нулевую гипотезу, нет оснований считать доли разными\n",
      "\n",
      "Проверка групп объединенной и 248 по стр корзины\n",
      "p-значение:  0.18683558686831558\n",
      "Не получилось отвергнуть нулевую гипотезу, нет оснований считать доли разными\n",
      "\n",
      "Проверка групп объединенной и 248 по стр оплаты\n",
      "p-значение:  0.6107918742187335\n",
      "Не получилось отвергнуть нулевую гипотезу, нет оснований считать доли разными\n",
      "\n"
     ]
    }
   ],
   "source": [
    "#Объединение контрольных групп\n",
    "retentionByGroup['join'] = retentionByGroup[246]+retentionByGroup[247]\n",
    "\n",
    "#Првоведение тестов между объединенных контрольных и 248\n",
    "print('Проверка групп объединенной и 248 по главной стр')\n",
    "get_z_value(retentionByGroup.loc[0,'join'],retentionByGroup.loc[0,248],totalUsersByGroup[246]+totalUsersByGroup[247],totalUsersByGroup[248])\n",
    "#print()\n",
    "print('Проверка групп объединенной и 248 по стр предложения')\n",
    "get_z_value(retentionByGroup.loc[1,'join'],retentionByGroup.loc[1,248],totalUsersByGroup[246]+totalUsersByGroup[247],totalUsersByGroup[248])\n",
    "print()\n",
    "print('Проверка групп объединенной и 248 по стр корзины')\n",
    "get_z_value(retentionByGroup.loc[2,'join'],retentionByGroup.loc[2,248],totalUsersByGroup[246]+totalUsersByGroup[247],totalUsersByGroup[248])\n",
    "print()\n",
    "print('Проверка групп объединенной и 248 по стр оплаты')\n",
    "get_z_value(retentionByGroup.loc[3,'join'],retentionByGroup.loc[3,248],totalUsersByGroup[246]+totalUsersByGroup[247],totalUsersByGroup[248])\n",
    "print()"
   ]
  },
  {
   "cell_type": "markdown",
   "metadata": {},
   "source": [
    "**Вывод: нет статистической разности между группой с новым шрифтом и контрольными группами. С большой вероятностью шрифт не повлиял на конверсию.**"
   ]
  },
  {
   "cell_type": "markdown",
   "metadata": {},
   "source": [
    "#### Проверка результатов с alpha=0,1"
   ]
  },
  {
   "cell_type": "markdown",
   "metadata": {},
   "source": [
    "Чтобы пожалеть вычислительные мощности 1 ядра InterCore I3, не будем перписывать весь код, а заменим alpha в предыдущем коде на 0,1. Окажется, что даже при измененном alpha результаты остаются преждними, так как pvalue во всех тестах больше 0,3"
   ]
  },
  {
   "cell_type": "markdown",
   "metadata": {},
   "source": [
    "### Вывод"
   ]
  },
  {
   "cell_type": "markdown",
   "metadata": {},
   "source": [
    "**После проведения различных тест и просмотров данных можно сказать, что стат различий между группами 246, 247 и 248 нет даже при высоком alpha. Что означает, что с высокой долей вероятностьи, изменение шрифта не улушчит и не ухудшит конверсию**"
   ]
  }
 ],
 "metadata": {
  "ExecuteTimeLog": [
   {
    "duration": 6,
    "start_time": "2023-05-02T18:59:54.536Z"
   },
   {
    "duration": 1517,
    "start_time": "2023-05-02T19:02:38.678Z"
   },
   {
    "duration": 80,
    "start_time": "2023-05-02T19:03:11.513Z"
   },
   {
    "duration": 1034,
    "start_time": "2023-05-02T19:03:44.325Z"
   },
   {
    "duration": 393,
    "start_time": "2023-05-02T19:03:54.644Z"
   },
   {
    "duration": 57,
    "start_time": "2023-05-02T19:04:09.972Z"
   },
   {
    "duration": 369,
    "start_time": "2023-05-02T19:04:39.263Z"
   },
   {
    "duration": 60,
    "start_time": "2023-05-02T19:04:44.832Z"
   },
   {
    "duration": 405,
    "start_time": "2023-05-02T19:05:28.796Z"
   },
   {
    "duration": 205,
    "start_time": "2023-05-02T19:05:45.482Z"
   },
   {
    "duration": 3,
    "start_time": "2023-05-02T19:23:06.091Z"
   },
   {
    "duration": 221,
    "start_time": "2023-05-02T19:23:22.625Z"
   },
   {
    "duration": 11,
    "start_time": "2023-05-02T19:23:34.836Z"
   },
   {
    "duration": 216,
    "start_time": "2023-05-02T19:23:38.081Z"
   },
   {
    "duration": 229,
    "start_time": "2023-05-02T19:23:46.776Z"
   },
   {
    "duration": 3,
    "start_time": "2023-05-02T19:23:48.981Z"
   },
   {
    "duration": 18,
    "start_time": "2023-05-02T19:23:49.666Z"
   },
   {
    "duration": 42,
    "start_time": "2023-05-02T19:24:47.138Z"
   },
   {
    "duration": 21,
    "start_time": "2023-05-02T19:25:19.475Z"
   },
   {
    "duration": 42,
    "start_time": "2023-05-02T19:31:52.028Z"
   },
   {
    "duration": 35,
    "start_time": "2023-05-02T19:32:03.640Z"
   },
   {
    "duration": 71,
    "start_time": "2023-05-02T19:54:36.395Z"
   },
   {
    "duration": 32,
    "start_time": "2023-05-02T19:54:44.239Z"
   },
   {
    "duration": 146,
    "start_time": "2023-05-02T19:54:53.001Z"
   },
   {
    "duration": 51,
    "start_time": "2023-05-02T19:55:28.158Z"
   },
   {
    "duration": 21,
    "start_time": "2023-05-02T19:55:34.454Z"
   },
   {
    "duration": 8,
    "start_time": "2023-05-02T19:55:52.438Z"
   },
   {
    "duration": 7,
    "start_time": "2023-05-02T19:56:10.701Z"
   },
   {
    "duration": 4,
    "start_time": "2023-05-02T19:58:24.787Z"
   },
   {
    "duration": 8,
    "start_time": "2023-05-02T19:58:31.712Z"
   },
   {
    "duration": 21,
    "start_time": "2023-05-02T20:02:15.037Z"
   },
   {
    "duration": 1118,
    "start_time": "2023-05-02T20:02:20.183Z"
   },
   {
    "duration": 3,
    "start_time": "2023-05-02T20:02:43.274Z"
   },
   {
    "duration": 37,
    "start_time": "2023-05-02T20:02:44.395Z"
   },
   {
    "duration": 11,
    "start_time": "2023-05-02T20:02:49.256Z"
   },
   {
    "duration": 17,
    "start_time": "2023-05-02T20:03:04.638Z"
   },
   {
    "duration": 21,
    "start_time": "2023-05-02T20:03:08.636Z"
   },
   {
    "duration": 116,
    "start_time": "2023-05-02T20:07:33.581Z"
   },
   {
    "duration": 16,
    "start_time": "2023-05-02T20:07:36.589Z"
   },
   {
    "duration": 29,
    "start_time": "2023-05-02T20:16:26.059Z"
   },
   {
    "duration": 7,
    "start_time": "2023-05-02T20:19:00.035Z"
   },
   {
    "duration": 73,
    "start_time": "2023-05-02T20:20:57.505Z"
   },
   {
    "duration": 46,
    "start_time": "2023-05-02T20:21:22.845Z"
   },
   {
    "duration": 17,
    "start_time": "2023-05-02T20:21:28.239Z"
   },
   {
    "duration": 8,
    "start_time": "2023-05-02T20:21:37.693Z"
   },
   {
    "duration": 30,
    "start_time": "2023-05-02T20:30:42.544Z"
   },
   {
    "duration": 589,
    "start_time": "2023-05-02T20:39:43.437Z"
   },
   {
    "duration": 441,
    "start_time": "2023-05-02T20:39:55.930Z"
   },
   {
    "duration": 451,
    "start_time": "2023-05-02T20:40:07.064Z"
   },
   {
    "duration": 474,
    "start_time": "2023-05-02T20:40:34.368Z"
   },
   {
    "duration": 448,
    "start_time": "2023-05-02T20:40:44.537Z"
   },
   {
    "duration": 463,
    "start_time": "2023-05-02T20:41:14.592Z"
   },
   {
    "duration": 467,
    "start_time": "2023-05-02T20:42:09.299Z"
   },
   {
    "duration": 555,
    "start_time": "2023-05-02T20:42:23.402Z"
   },
   {
    "duration": 474,
    "start_time": "2023-05-02T20:42:27.576Z"
   },
   {
    "duration": 492,
    "start_time": "2023-05-02T20:42:44.938Z"
   },
   {
    "duration": 595,
    "start_time": "2023-05-02T20:43:03.082Z"
   },
   {
    "duration": 531,
    "start_time": "2023-05-02T20:43:12.986Z"
   },
   {
    "duration": 504,
    "start_time": "2023-05-02T20:44:35.491Z"
   },
   {
    "duration": 495,
    "start_time": "2023-05-02T20:45:12.549Z"
   },
   {
    "duration": 484,
    "start_time": "2023-05-02T20:46:14.756Z"
   },
   {
    "duration": 505,
    "start_time": "2023-05-02T20:46:34.056Z"
   },
   {
    "duration": 489,
    "start_time": "2023-05-02T20:46:56.053Z"
   },
   {
    "duration": 520,
    "start_time": "2023-05-02T20:47:29.029Z"
   },
   {
    "duration": 33,
    "start_time": "2023-05-02T21:06:20.136Z"
   },
   {
    "duration": 13,
    "start_time": "2023-05-02T21:06:48.429Z"
   },
   {
    "duration": 32,
    "start_time": "2023-05-02T21:07:10.257Z"
   },
   {
    "duration": 137,
    "start_time": "2023-05-02T21:07:19.539Z"
   },
   {
    "duration": 23,
    "start_time": "2023-05-02T21:07:27.173Z"
   },
   {
    "duration": 30,
    "start_time": "2023-05-02T21:08:29.127Z"
   },
   {
    "duration": 3,
    "start_time": "2023-05-02T21:08:43.181Z"
   },
   {
    "duration": 40,
    "start_time": "2023-05-02T21:08:46.625Z"
   },
   {
    "duration": 54,
    "start_time": "2023-05-02T21:08:53.795Z"
   },
   {
    "duration": 29,
    "start_time": "2023-05-02T21:09:10.195Z"
   },
   {
    "duration": 27,
    "start_time": "2023-05-02T21:09:18.163Z"
   },
   {
    "duration": 28,
    "start_time": "2023-05-02T21:09:28.530Z"
   },
   {
    "duration": 36,
    "start_time": "2023-05-02T21:09:37.489Z"
   },
   {
    "duration": 21,
    "start_time": "2023-05-02T21:11:21.051Z"
   },
   {
    "duration": 25,
    "start_time": "2023-05-02T21:11:31.404Z"
   },
   {
    "duration": 208,
    "start_time": "2023-05-02T21:11:37.999Z"
   },
   {
    "duration": 30,
    "start_time": "2023-05-02T21:12:36.930Z"
   },
   {
    "duration": 84,
    "start_time": "2023-05-02T21:12:59.860Z"
   },
   {
    "duration": 28,
    "start_time": "2023-05-02T21:13:10.878Z"
   },
   {
    "duration": 33,
    "start_time": "2023-05-02T21:13:28.129Z"
   },
   {
    "duration": 30,
    "start_time": "2023-05-02T21:13:37.135Z"
   },
   {
    "duration": 28,
    "start_time": "2023-05-02T21:13:47.232Z"
   },
   {
    "duration": 78,
    "start_time": "2023-05-02T21:15:07.048Z"
   },
   {
    "duration": 36,
    "start_time": "2023-05-02T21:15:13.949Z"
   },
   {
    "duration": 10,
    "start_time": "2023-05-02T21:16:22.543Z"
   },
   {
    "duration": 15,
    "start_time": "2023-05-02T21:16:35.885Z"
   },
   {
    "duration": 30,
    "start_time": "2023-05-02T21:16:44.494Z"
   },
   {
    "duration": 28,
    "start_time": "2023-05-02T21:18:06.282Z"
   },
   {
    "duration": 29,
    "start_time": "2023-05-02T21:18:16.108Z"
   },
   {
    "duration": 1147,
    "start_time": "2023-05-02T21:18:28.730Z"
   },
   {
    "duration": 182,
    "start_time": "2023-05-02T21:18:29.879Z"
   },
   {
    "duration": 3,
    "start_time": "2023-05-02T21:18:30.066Z"
   },
   {
    "duration": 52,
    "start_time": "2023-05-02T21:18:30.071Z"
   },
   {
    "duration": 20,
    "start_time": "2023-05-02T21:18:30.126Z"
   },
   {
    "duration": 19,
    "start_time": "2023-05-02T21:18:30.148Z"
   },
   {
    "duration": 102,
    "start_time": "2023-05-02T21:18:30.169Z"
   },
   {
    "duration": 13,
    "start_time": "2023-05-02T21:18:30.273Z"
   },
   {
    "duration": 43,
    "start_time": "2023-05-02T21:18:30.289Z"
   },
   {
    "duration": 37,
    "start_time": "2023-05-02T21:18:30.334Z"
   },
   {
    "duration": 69,
    "start_time": "2023-05-02T21:18:30.373Z"
   },
   {
    "duration": 543,
    "start_time": "2023-05-02T21:18:30.444Z"
   },
   {
    "duration": 41,
    "start_time": "2023-05-02T21:18:30.989Z"
   },
   {
    "duration": 148,
    "start_time": "2023-05-02T21:18:31.032Z"
   },
   {
    "duration": 0,
    "start_time": "2023-05-02T21:18:31.182Z"
   },
   {
    "duration": 13,
    "start_time": "2023-05-02T21:18:54.990Z"
   },
   {
    "duration": 89,
    "start_time": "2023-05-02T21:19:02.102Z"
   },
   {
    "duration": 12,
    "start_time": "2023-05-02T21:19:03.983Z"
   },
   {
    "duration": 14,
    "start_time": "2023-05-02T21:19:04.492Z"
   },
   {
    "duration": 21,
    "start_time": "2023-05-02T21:19:05.285Z"
   },
   {
    "duration": 10,
    "start_time": "2023-05-02T21:19:05.983Z"
   },
   {
    "duration": 30,
    "start_time": "2023-05-02T21:19:06.888Z"
   },
   {
    "duration": 433,
    "start_time": "2023-05-02T21:19:07.286Z"
   },
   {
    "duration": 30,
    "start_time": "2023-05-02T21:19:07.721Z"
   },
   {
    "duration": 27,
    "start_time": "2023-05-02T21:19:35.536Z"
   },
   {
    "duration": 25,
    "start_time": "2023-05-02T21:19:49.711Z"
   },
   {
    "duration": 23,
    "start_time": "2023-05-02T21:19:59.980Z"
   },
   {
    "duration": 17,
    "start_time": "2023-05-02T21:20:11.815Z"
   },
   {
    "duration": 22,
    "start_time": "2023-05-02T21:20:37.432Z"
   },
   {
    "duration": 3,
    "start_time": "2023-05-02T21:21:12.486Z"
   },
   {
    "duration": 17,
    "start_time": "2023-05-02T21:22:05.632Z"
   },
   {
    "duration": 17,
    "start_time": "2023-05-02T21:22:08.481Z"
   },
   {
    "duration": 22,
    "start_time": "2023-05-02T21:22:13.678Z"
   },
   {
    "duration": 24,
    "start_time": "2023-05-02T21:22:23.288Z"
   },
   {
    "duration": 23,
    "start_time": "2023-05-02T21:22:27.784Z"
   },
   {
    "duration": 23,
    "start_time": "2023-05-02T21:22:30.920Z"
   },
   {
    "duration": 18,
    "start_time": "2023-05-02T21:22:34.519Z"
   },
   {
    "duration": 48,
    "start_time": "2023-05-02T21:22:53.900Z"
   },
   {
    "duration": 32,
    "start_time": "2023-05-02T21:22:58.147Z"
   },
   {
    "duration": 20,
    "start_time": "2023-05-02T21:23:08.649Z"
   },
   {
    "duration": 18,
    "start_time": "2023-05-02T21:23:16.008Z"
   },
   {
    "duration": 4,
    "start_time": "2023-05-02T21:23:27.697Z"
   },
   {
    "duration": 22,
    "start_time": "2023-05-02T21:23:42.721Z"
   },
   {
    "duration": 35,
    "start_time": "2023-05-02T21:24:08.860Z"
   },
   {
    "duration": 18,
    "start_time": "2023-05-02T21:26:07.293Z"
   },
   {
    "duration": 4,
    "start_time": "2023-05-02T21:26:14.789Z"
   },
   {
    "duration": 6,
    "start_time": "2023-05-02T21:27:26.692Z"
   },
   {
    "duration": 18,
    "start_time": "2023-05-02T21:27:42.414Z"
   },
   {
    "duration": 5,
    "start_time": "2023-05-02T21:27:51.756Z"
   },
   {
    "duration": 9,
    "start_time": "2023-05-02T21:27:58.476Z"
   },
   {
    "duration": 9,
    "start_time": "2023-05-02T21:28:11.699Z"
   },
   {
    "duration": 9,
    "start_time": "2023-05-02T21:28:22.300Z"
   },
   {
    "duration": 30,
    "start_time": "2023-05-02T21:32:21.357Z"
   },
   {
    "duration": 5,
    "start_time": "2023-05-02T21:32:23.510Z"
   },
   {
    "duration": 10,
    "start_time": "2023-05-02T21:32:56.261Z"
   },
   {
    "duration": 9,
    "start_time": "2023-05-02T21:33:06.876Z"
   },
   {
    "duration": 3,
    "start_time": "2023-05-02T21:33:37.040Z"
   },
   {
    "duration": 17,
    "start_time": "2023-05-02T21:34:01.993Z"
   },
   {
    "duration": 4,
    "start_time": "2023-05-02T21:34:12.423Z"
   },
   {
    "duration": 9,
    "start_time": "2023-05-02T21:34:19.247Z"
   },
   {
    "duration": 4,
    "start_time": "2023-05-02T21:35:19.919Z"
   },
   {
    "duration": 9,
    "start_time": "2023-05-02T21:35:29.720Z"
   },
   {
    "duration": 4,
    "start_time": "2023-05-02T21:35:35.104Z"
   },
   {
    "duration": 9,
    "start_time": "2023-05-02T21:35:43.017Z"
   },
   {
    "duration": 4,
    "start_time": "2023-05-02T21:35:57.592Z"
   },
   {
    "duration": 3,
    "start_time": "2023-05-02T21:36:02.891Z"
   },
   {
    "duration": 4,
    "start_time": "2023-05-02T21:36:07.084Z"
   },
   {
    "duration": 9,
    "start_time": "2023-05-02T21:36:20.201Z"
   },
   {
    "duration": 10,
    "start_time": "2023-05-02T21:36:27.000Z"
   },
   {
    "duration": 4,
    "start_time": "2023-05-02T21:36:32.696Z"
   },
   {
    "duration": 15,
    "start_time": "2023-05-02T21:36:48.277Z"
   },
   {
    "duration": 22,
    "start_time": "2023-05-02T21:36:57.651Z"
   },
   {
    "duration": 29,
    "start_time": "2023-05-02T21:37:14.421Z"
   },
   {
    "duration": 3,
    "start_time": "2023-05-02T21:37:30.247Z"
   },
   {
    "duration": 27,
    "start_time": "2023-05-02T21:37:41.243Z"
   },
   {
    "duration": 24,
    "start_time": "2023-05-02T21:38:18.209Z"
   },
   {
    "duration": 231,
    "start_time": "2023-05-02T21:38:55.035Z"
   },
   {
    "duration": 27,
    "start_time": "2023-05-02T21:39:08.294Z"
   },
   {
    "duration": 24,
    "start_time": "2023-05-02T21:55:09.812Z"
   },
   {
    "duration": 21,
    "start_time": "2023-05-02T21:56:34.013Z"
   },
   {
    "duration": 22,
    "start_time": "2023-05-02T21:56:43.412Z"
   },
   {
    "duration": 18,
    "start_time": "2023-05-02T21:56:50.054Z"
   },
   {
    "duration": 41,
    "start_time": "2023-05-02T21:57:33.853Z"
   },
   {
    "duration": 33,
    "start_time": "2023-05-02T21:59:22.927Z"
   },
   {
    "duration": 19,
    "start_time": "2023-05-02T21:59:30.073Z"
   },
   {
    "duration": 18,
    "start_time": "2023-05-02T21:59:40.352Z"
   },
   {
    "duration": 26,
    "start_time": "2023-05-02T22:00:07.525Z"
   },
   {
    "duration": 22,
    "start_time": "2023-05-02T22:00:11.215Z"
   },
   {
    "duration": 13,
    "start_time": "2023-05-02T22:00:31.591Z"
   },
   {
    "duration": 15,
    "start_time": "2023-05-02T22:01:07.615Z"
   },
   {
    "duration": 17,
    "start_time": "2023-05-02T22:04:02.113Z"
   },
   {
    "duration": 24,
    "start_time": "2023-05-02T22:04:06.793Z"
   },
   {
    "duration": 18,
    "start_time": "2023-05-02T22:04:14.257Z"
   },
   {
    "duration": 14,
    "start_time": "2023-05-02T22:04:26.017Z"
   },
   {
    "duration": 14,
    "start_time": "2023-05-02T22:04:34.217Z"
   },
   {
    "duration": 13,
    "start_time": "2023-05-02T22:04:53.129Z"
   },
   {
    "duration": 9,
    "start_time": "2023-05-02T22:04:58.546Z"
   },
   {
    "duration": 13,
    "start_time": "2023-05-02T22:05:07.081Z"
   },
   {
    "duration": 23,
    "start_time": "2023-05-02T22:27:38.095Z"
   },
   {
    "duration": 440,
    "start_time": "2023-05-02T22:27:42.639Z"
   },
   {
    "duration": 421,
    "start_time": "2023-05-02T22:27:50.127Z"
   },
   {
    "duration": 1191,
    "start_time": "2023-05-02T22:27:58.204Z"
   },
   {
    "duration": 178,
    "start_time": "2023-05-02T22:27:59.397Z"
   },
   {
    "duration": 3,
    "start_time": "2023-05-02T22:27:59.577Z"
   },
   {
    "duration": 32,
    "start_time": "2023-05-02T22:27:59.583Z"
   },
   {
    "duration": 22,
    "start_time": "2023-05-02T22:27:59.617Z"
   },
   {
    "duration": 4,
    "start_time": "2023-05-02T22:27:59.641Z"
   },
   {
    "duration": 136,
    "start_time": "2023-05-02T22:27:59.647Z"
   },
   {
    "duration": 13,
    "start_time": "2023-05-02T22:27:59.785Z"
   },
   {
    "duration": 25,
    "start_time": "2023-05-02T22:27:59.799Z"
   },
   {
    "duration": 26,
    "start_time": "2023-05-02T22:27:59.827Z"
   },
   {
    "duration": 11,
    "start_time": "2023-05-02T22:27:59.855Z"
   },
   {
    "duration": 51,
    "start_time": "2023-05-02T22:27:59.867Z"
   },
   {
    "duration": 537,
    "start_time": "2023-05-02T22:27:59.920Z"
   },
   {
    "duration": 30,
    "start_time": "2023-05-02T22:28:00.459Z"
   },
   {
    "duration": 24,
    "start_time": "2023-05-02T22:28:00.491Z"
   },
   {
    "duration": 28,
    "start_time": "2023-05-02T22:28:00.517Z"
   },
   {
    "duration": 138,
    "start_time": "2023-05-02T22:28:00.547Z"
   },
   {
    "duration": 0,
    "start_time": "2023-05-02T22:28:00.688Z"
   },
   {
    "duration": 1116,
    "start_time": "2023-05-02T22:28:18.074Z"
   },
   {
    "duration": 183,
    "start_time": "2023-05-02T22:28:19.193Z"
   },
   {
    "duration": 3,
    "start_time": "2023-05-02T22:28:19.378Z"
   },
   {
    "duration": 35,
    "start_time": "2023-05-02T22:28:19.383Z"
   },
   {
    "duration": 20,
    "start_time": "2023-05-02T22:28:19.420Z"
   },
   {
    "duration": 8,
    "start_time": "2023-05-02T22:28:19.441Z"
   },
   {
    "duration": 133,
    "start_time": "2023-05-02T22:28:19.451Z"
   },
   {
    "duration": 13,
    "start_time": "2023-05-02T22:28:19.585Z"
   },
   {
    "duration": 21,
    "start_time": "2023-05-02T22:28:19.611Z"
   },
   {
    "duration": 11,
    "start_time": "2023-05-02T22:28:19.634Z"
   },
   {
    "duration": 33,
    "start_time": "2023-05-02T22:28:19.647Z"
   },
   {
    "duration": 568,
    "start_time": "2023-05-02T22:28:19.681Z"
   },
   {
    "duration": 33,
    "start_time": "2023-05-02T22:28:20.251Z"
   },
   {
    "duration": 26,
    "start_time": "2023-05-02T22:28:20.286Z"
   },
   {
    "duration": 5,
    "start_time": "2023-05-02T22:28:20.314Z"
   },
   {
    "duration": 129,
    "start_time": "2023-05-02T22:28:20.321Z"
   },
   {
    "duration": 0,
    "start_time": "2023-05-02T22:28:20.452Z"
   },
   {
    "duration": 1088,
    "start_time": "2023-05-02T22:28:40.987Z"
   },
   {
    "duration": 180,
    "start_time": "2023-05-02T22:28:42.077Z"
   },
   {
    "duration": 3,
    "start_time": "2023-05-02T22:28:42.258Z"
   },
   {
    "duration": 30,
    "start_time": "2023-05-02T22:28:42.263Z"
   },
   {
    "duration": 28,
    "start_time": "2023-05-02T22:28:42.294Z"
   },
   {
    "duration": 5,
    "start_time": "2023-05-02T22:28:42.324Z"
   },
   {
    "duration": 105,
    "start_time": "2023-05-02T22:28:42.331Z"
   },
   {
    "duration": 19,
    "start_time": "2023-05-02T22:28:42.438Z"
   },
   {
    "duration": 12,
    "start_time": "2023-05-02T22:28:42.459Z"
   },
   {
    "duration": 50,
    "start_time": "2023-05-02T22:28:42.473Z"
   },
   {
    "duration": 557,
    "start_time": "2023-05-02T22:28:42.525Z"
   },
   {
    "duration": 59,
    "start_time": "2023-05-02T22:28:43.084Z"
   },
   {
    "duration": 20,
    "start_time": "2023-05-02T22:28:43.144Z"
   },
   {
    "duration": 47,
    "start_time": "2023-05-02T22:28:43.165Z"
   },
   {
    "duration": 111,
    "start_time": "2023-05-02T22:28:43.214Z"
   },
   {
    "duration": 0,
    "start_time": "2023-05-02T22:28:43.327Z"
   },
   {
    "duration": 31,
    "start_time": "2023-05-02T22:30:59.217Z"
   },
   {
    "duration": 32,
    "start_time": "2023-05-02T22:32:10.825Z"
   },
   {
    "duration": 34,
    "start_time": "2023-05-02T22:32:24.643Z"
   },
   {
    "duration": 1150,
    "start_time": "2023-05-02T22:32:33.678Z"
   },
   {
    "duration": 184,
    "start_time": "2023-05-02T22:32:34.830Z"
   },
   {
    "duration": 3,
    "start_time": "2023-05-02T22:32:35.015Z"
   },
   {
    "duration": 33,
    "start_time": "2023-05-02T22:32:35.020Z"
   },
   {
    "duration": 20,
    "start_time": "2023-05-02T22:32:35.055Z"
   },
   {
    "duration": 20,
    "start_time": "2023-05-02T22:32:35.077Z"
   },
   {
    "duration": 98,
    "start_time": "2023-05-02T22:32:35.098Z"
   },
   {
    "duration": 28,
    "start_time": "2023-05-02T22:32:35.198Z"
   },
   {
    "duration": 11,
    "start_time": "2023-05-02T22:32:35.228Z"
   },
   {
    "duration": 32,
    "start_time": "2023-05-02T22:32:35.241Z"
   },
   {
    "duration": 577,
    "start_time": "2023-05-02T22:32:35.275Z"
   },
   {
    "duration": 77,
    "start_time": "2023-05-02T22:32:35.853Z"
   },
   {
    "duration": 19,
    "start_time": "2023-05-02T22:32:35.932Z"
   },
   {
    "duration": 36,
    "start_time": "2023-05-02T22:32:35.953Z"
   },
   {
    "duration": 122,
    "start_time": "2023-05-02T22:32:36.012Z"
   },
   {
    "duration": 0,
    "start_time": "2023-05-02T22:32:36.136Z"
   },
   {
    "duration": 41,
    "start_time": "2023-05-02T22:35:42.863Z"
   },
   {
    "duration": 1134,
    "start_time": "2023-05-02T22:35:55.148Z"
   },
   {
    "duration": 182,
    "start_time": "2023-05-02T22:35:56.284Z"
   },
   {
    "duration": 3,
    "start_time": "2023-05-02T22:35:56.467Z"
   },
   {
    "duration": 23,
    "start_time": "2023-05-02T22:35:56.472Z"
   },
   {
    "duration": 19,
    "start_time": "2023-05-02T22:35:56.511Z"
   },
   {
    "duration": 4,
    "start_time": "2023-05-02T22:35:56.532Z"
   },
   {
    "duration": 98,
    "start_time": "2023-05-02T22:35:56.538Z"
   },
   {
    "duration": 19,
    "start_time": "2023-05-02T22:35:56.637Z"
   },
   {
    "duration": 18,
    "start_time": "2023-05-02T22:35:56.658Z"
   },
   {
    "duration": 47,
    "start_time": "2023-05-02T22:35:56.678Z"
   },
   {
    "duration": 552,
    "start_time": "2023-05-02T22:35:56.727Z"
   },
   {
    "duration": 73,
    "start_time": "2023-05-02T22:35:57.281Z"
   },
   {
    "duration": 18,
    "start_time": "2023-05-02T22:35:57.356Z"
   },
   {
    "duration": 50,
    "start_time": "2023-05-02T22:35:57.376Z"
   },
   {
    "duration": 116,
    "start_time": "2023-05-02T22:35:57.428Z"
   },
   {
    "duration": 0,
    "start_time": "2023-05-02T22:35:57.546Z"
   },
   {
    "duration": 41,
    "start_time": "2023-05-02T22:36:50.085Z"
   },
   {
    "duration": 1186,
    "start_time": "2023-05-02T22:37:06.784Z"
   },
   {
    "duration": 179,
    "start_time": "2023-05-02T22:37:07.972Z"
   },
   {
    "duration": 3,
    "start_time": "2023-05-02T22:37:08.152Z"
   },
   {
    "duration": 23,
    "start_time": "2023-05-02T22:37:08.158Z"
   },
   {
    "duration": 35,
    "start_time": "2023-05-02T22:37:08.183Z"
   },
   {
    "duration": 5,
    "start_time": "2023-05-02T22:37:08.220Z"
   },
   {
    "duration": 103,
    "start_time": "2023-05-02T22:37:08.227Z"
   },
   {
    "duration": 20,
    "start_time": "2023-05-02T22:37:08.331Z"
   },
   {
    "duration": 26,
    "start_time": "2023-05-02T22:37:08.352Z"
   },
   {
    "duration": 36,
    "start_time": "2023-05-02T22:37:08.381Z"
   },
   {
    "duration": 567,
    "start_time": "2023-05-02T22:37:08.419Z"
   },
   {
    "duration": 74,
    "start_time": "2023-05-02T22:37:08.988Z"
   },
   {
    "duration": 19,
    "start_time": "2023-05-02T22:37:09.064Z"
   },
   {
    "duration": 54,
    "start_time": "2023-05-02T22:37:09.085Z"
   },
   {
    "duration": 127,
    "start_time": "2023-05-02T22:37:09.141Z"
   },
   {
    "duration": 0,
    "start_time": "2023-05-02T22:37:09.271Z"
   },
   {
    "duration": 1133,
    "start_time": "2023-05-02T22:37:35.840Z"
   },
   {
    "duration": 181,
    "start_time": "2023-05-02T22:37:36.975Z"
   },
   {
    "duration": 3,
    "start_time": "2023-05-02T22:37:37.158Z"
   },
   {
    "duration": 47,
    "start_time": "2023-05-02T22:37:37.163Z"
   },
   {
    "duration": 20,
    "start_time": "2023-05-02T22:37:37.213Z"
   },
   {
    "duration": 5,
    "start_time": "2023-05-02T22:37:37.234Z"
   },
   {
    "duration": 109,
    "start_time": "2023-05-02T22:37:37.241Z"
   },
   {
    "duration": 21,
    "start_time": "2023-05-02T22:37:37.352Z"
   },
   {
    "duration": 11,
    "start_time": "2023-05-02T22:37:37.375Z"
   },
   {
    "duration": 50,
    "start_time": "2023-05-02T22:37:37.388Z"
   },
   {
    "duration": 556,
    "start_time": "2023-05-02T22:37:37.440Z"
   },
   {
    "duration": 68,
    "start_time": "2023-05-02T22:37:37.997Z"
   },
   {
    "duration": 17,
    "start_time": "2023-05-02T22:37:38.067Z"
   },
   {
    "duration": 51,
    "start_time": "2023-05-02T22:37:38.087Z"
   },
   {
    "duration": 120,
    "start_time": "2023-05-02T22:37:38.140Z"
   },
   {
    "duration": 0,
    "start_time": "2023-05-02T22:37:38.261Z"
   },
   {
    "duration": 1183,
    "start_time": "2023-05-02T22:37:49.200Z"
   },
   {
    "duration": 176,
    "start_time": "2023-05-02T22:37:50.385Z"
   },
   {
    "duration": 3,
    "start_time": "2023-05-02T22:37:50.562Z"
   },
   {
    "duration": 23,
    "start_time": "2023-05-02T22:37:50.569Z"
   },
   {
    "duration": 34,
    "start_time": "2023-05-02T22:37:50.594Z"
   },
   {
    "duration": 6,
    "start_time": "2023-05-02T22:37:50.630Z"
   },
   {
    "duration": 106,
    "start_time": "2023-05-02T22:37:50.638Z"
   },
   {
    "duration": 20,
    "start_time": "2023-05-02T22:37:50.746Z"
   },
   {
    "duration": 12,
    "start_time": "2023-05-02T22:37:50.768Z"
   },
   {
    "duration": 53,
    "start_time": "2023-05-02T22:37:50.783Z"
   },
   {
    "duration": 552,
    "start_time": "2023-05-02T22:37:50.839Z"
   },
   {
    "duration": 72,
    "start_time": "2023-05-02T22:37:51.394Z"
   },
   {
    "duration": 18,
    "start_time": "2023-05-02T22:37:51.468Z"
   },
   {
    "duration": 48,
    "start_time": "2023-05-02T22:37:51.488Z"
   },
   {
    "duration": 121,
    "start_time": "2023-05-02T22:37:51.538Z"
   },
   {
    "duration": 0,
    "start_time": "2023-05-02T22:37:51.661Z"
   },
   {
    "duration": 1196,
    "start_time": "2023-05-02T22:38:17.090Z"
   },
   {
    "duration": 174,
    "start_time": "2023-05-02T22:38:18.288Z"
   },
   {
    "duration": 3,
    "start_time": "2023-05-02T22:38:18.464Z"
   },
   {
    "duration": 24,
    "start_time": "2023-05-02T22:38:18.469Z"
   },
   {
    "duration": 32,
    "start_time": "2023-05-02T22:38:18.494Z"
   },
   {
    "duration": 4,
    "start_time": "2023-05-02T22:38:18.528Z"
   },
   {
    "duration": 105,
    "start_time": "2023-05-02T22:38:18.533Z"
   },
   {
    "duration": 19,
    "start_time": "2023-05-02T22:38:18.640Z"
   },
   {
    "duration": 11,
    "start_time": "2023-05-02T22:38:18.661Z"
   },
   {
    "duration": 53,
    "start_time": "2023-05-02T22:38:18.675Z"
   },
   {
    "duration": 574,
    "start_time": "2023-05-02T22:38:18.730Z"
   },
   {
    "duration": 65,
    "start_time": "2023-05-02T22:38:19.305Z"
   },
   {
    "duration": 18,
    "start_time": "2023-05-02T22:38:19.372Z"
   },
   {
    "duration": 35,
    "start_time": "2023-05-02T22:38:19.411Z"
   },
   {
    "duration": 120,
    "start_time": "2023-05-02T22:38:19.447Z"
   },
   {
    "duration": 0,
    "start_time": "2023-05-02T22:38:19.569Z"
   },
   {
    "duration": 1116,
    "start_time": "2023-05-02T22:39:13.473Z"
   },
   {
    "duration": 188,
    "start_time": "2023-05-02T22:39:14.591Z"
   },
   {
    "duration": 3,
    "start_time": "2023-05-02T22:39:14.780Z"
   },
   {
    "duration": 35,
    "start_time": "2023-05-02T22:39:14.785Z"
   },
   {
    "duration": 20,
    "start_time": "2023-05-02T22:39:14.821Z"
   },
   {
    "duration": 5,
    "start_time": "2023-05-02T22:39:14.842Z"
   },
   {
    "duration": 108,
    "start_time": "2023-05-02T22:39:14.848Z"
   },
   {
    "duration": 19,
    "start_time": "2023-05-02T22:39:14.958Z"
   },
   {
    "duration": 16,
    "start_time": "2023-05-02T22:39:14.979Z"
   },
   {
    "duration": 44,
    "start_time": "2023-05-02T22:39:14.997Z"
   },
   {
    "duration": 541,
    "start_time": "2023-05-02T22:39:15.043Z"
   },
   {
    "duration": 71,
    "start_time": "2023-05-02T22:39:15.585Z"
   },
   {
    "duration": 17,
    "start_time": "2023-05-02T22:39:15.658Z"
   },
   {
    "duration": 48,
    "start_time": "2023-05-02T22:39:15.677Z"
   },
   {
    "duration": 115,
    "start_time": "2023-05-02T22:39:15.727Z"
   },
   {
    "duration": 0,
    "start_time": "2023-05-02T22:39:15.844Z"
   },
   {
    "duration": 13,
    "start_time": "2023-05-02T22:43:24.744Z"
   },
   {
    "duration": 27,
    "start_time": "2023-05-02T22:45:47.329Z"
   },
   {
    "duration": 57,
    "start_time": "2023-05-02T22:46:17.474Z"
   },
   {
    "duration": 60,
    "start_time": "2023-05-02T22:46:49.138Z"
   },
   {
    "duration": 56,
    "start_time": "2023-05-02T22:46:59.171Z"
   },
   {
    "duration": 14,
    "start_time": "2023-05-02T22:50:44.486Z"
   },
   {
    "duration": 17,
    "start_time": "2023-05-02T22:52:45.934Z"
   },
   {
    "duration": 14,
    "start_time": "2023-05-02T22:53:43.110Z"
   },
   {
    "duration": 53,
    "start_time": "2023-05-02T22:56:59.480Z"
   },
   {
    "duration": 44,
    "start_time": "2023-05-02T22:57:06.568Z"
   },
   {
    "duration": 14,
    "start_time": "2023-05-02T22:57:23.289Z"
   },
   {
    "duration": 49,
    "start_time": "2023-05-02T22:57:36.440Z"
   },
   {
    "duration": 15,
    "start_time": "2023-05-02T22:57:43.473Z"
   },
   {
    "duration": 46,
    "start_time": "2023-05-02T23:13:32.519Z"
   },
   {
    "duration": 33,
    "start_time": "2023-05-02T23:13:52.049Z"
   },
   {
    "duration": 32,
    "start_time": "2023-05-02T23:14:55.635Z"
   },
   {
    "duration": 9,
    "start_time": "2023-05-02T23:42:31.993Z"
   },
   {
    "duration": 38,
    "start_time": "2023-05-02T23:42:48.963Z"
   },
   {
    "duration": 47,
    "start_time": "2023-05-02T23:43:11.315Z"
   },
   {
    "duration": 47,
    "start_time": "2023-05-02T23:43:29.611Z"
   },
   {
    "duration": 54,
    "start_time": "2023-05-02T23:43:58.916Z"
   },
   {
    "duration": 13,
    "start_time": "2023-05-02T23:44:41.300Z"
   },
   {
    "duration": 50,
    "start_time": "2023-05-02T23:44:49.997Z"
   },
   {
    "duration": 52,
    "start_time": "2023-05-02T23:45:05.324Z"
   },
   {
    "duration": 5,
    "start_time": "2023-05-02T23:45:47.831Z"
   },
   {
    "duration": 51,
    "start_time": "2023-05-02T23:45:52.614Z"
   },
   {
    "duration": 68,
    "start_time": "2023-05-02T23:46:12.429Z"
   },
   {
    "duration": 71,
    "start_time": "2023-05-02T23:47:39.149Z"
   },
   {
    "duration": 67,
    "start_time": "2023-05-02T23:47:52.037Z"
   },
   {
    "duration": 67,
    "start_time": "2023-05-02T23:48:36.750Z"
   },
   {
    "duration": 67,
    "start_time": "2023-05-02T23:53:03.593Z"
   },
   {
    "duration": 66,
    "start_time": "2023-05-02T23:55:46.493Z"
   },
   {
    "duration": 71,
    "start_time": "2023-05-03T00:01:45.813Z"
   },
   {
    "duration": 65,
    "start_time": "2023-05-03T00:01:51.453Z"
   },
   {
    "duration": 68,
    "start_time": "2023-05-03T00:02:29.494Z"
   },
   {
    "duration": 64,
    "start_time": "2023-05-03T00:02:47.959Z"
   },
   {
    "duration": 66,
    "start_time": "2023-05-03T00:02:54.101Z"
   },
   {
    "duration": 987,
    "start_time": "2023-05-03T00:03:15.415Z"
   },
   {
    "duration": 764,
    "start_time": "2023-05-03T00:03:22.256Z"
   },
   {
    "duration": 4,
    "start_time": "2023-05-03T00:03:47.494Z"
   },
   {
    "duration": 3,
    "start_time": "2023-05-03T00:05:42.778Z"
   },
   {
    "duration": 4,
    "start_time": "2023-05-03T00:05:52.896Z"
   },
   {
    "duration": 3,
    "start_time": "2023-05-03T00:05:57.344Z"
   },
   {
    "duration": 3,
    "start_time": "2023-05-03T00:06:25.385Z"
   },
   {
    "duration": 3,
    "start_time": "2023-05-03T00:06:36.672Z"
   },
   {
    "duration": 43,
    "start_time": "2023-05-03T00:10:25.219Z"
   },
   {
    "duration": 46,
    "start_time": "2023-05-03T00:10:48.979Z"
   },
   {
    "duration": 52,
    "start_time": "2023-05-03T00:11:17.531Z"
   },
   {
    "duration": 3,
    "start_time": "2023-05-03T00:11:52.949Z"
   },
   {
    "duration": 4,
    "start_time": "2023-05-03T00:11:59.700Z"
   },
   {
    "duration": 8,
    "start_time": "2023-05-03T00:12:03.499Z"
   },
   {
    "duration": 9,
    "start_time": "2023-05-03T00:12:11.036Z"
   },
   {
    "duration": 4,
    "start_time": "2023-05-03T00:12:14.333Z"
   },
   {
    "duration": 3,
    "start_time": "2023-05-03T00:12:18.971Z"
   },
   {
    "duration": 4,
    "start_time": "2023-05-03T00:12:28.429Z"
   },
   {
    "duration": 4,
    "start_time": "2023-05-03T00:12:36.061Z"
   },
   {
    "duration": 4,
    "start_time": "2023-05-03T00:13:29.862Z"
   },
   {
    "duration": 5,
    "start_time": "2023-05-03T00:13:56.544Z"
   },
   {
    "duration": 4,
    "start_time": "2023-05-03T00:14:22.104Z"
   },
   {
    "duration": 5,
    "start_time": "2023-05-03T00:14:47.560Z"
   },
   {
    "duration": 69,
    "start_time": "2023-05-03T00:21:53.209Z"
   },
   {
    "duration": 65,
    "start_time": "2023-05-03T00:22:56.822Z"
   },
   {
    "duration": 68,
    "start_time": "2023-05-03T00:23:05.395Z"
   },
   {
    "duration": 756,
    "start_time": "2023-05-03T00:23:14.076Z"
   },
   {
    "duration": 742,
    "start_time": "2023-05-03T00:23:33.614Z"
   },
   {
    "duration": 681,
    "start_time": "2023-05-03T00:23:43.443Z"
   },
   {
    "duration": 20,
    "start_time": "2023-05-03T00:23:54.638Z"
   },
   {
    "duration": 4,
    "start_time": "2023-05-03T00:24:20.151Z"
   },
   {
    "duration": 4,
    "start_time": "2023-05-03T00:24:28.315Z"
   },
   {
    "duration": 4,
    "start_time": "2023-05-03T00:24:35.797Z"
   },
   {
    "duration": 748,
    "start_time": "2023-05-03T00:25:17.660Z"
   },
   {
    "duration": 5,
    "start_time": "2023-05-03T00:25:47.148Z"
   },
   {
    "duration": 4,
    "start_time": "2023-05-03T00:37:53.425Z"
   },
   {
    "duration": 6,
    "start_time": "2023-05-03T00:38:18.459Z"
   },
   {
    "duration": 8,
    "start_time": "2023-05-03T00:39:30.566Z"
   },
   {
    "duration": 8,
    "start_time": "2023-05-03T00:39:35.637Z"
   },
   {
    "duration": 77,
    "start_time": "2023-05-03T00:40:24.316Z"
   },
   {
    "duration": 54,
    "start_time": "2023-05-03T10:13:12.153Z"
   },
   {
    "duration": 1105,
    "start_time": "2023-05-03T10:13:17.954Z"
   },
   {
    "duration": 818,
    "start_time": "2023-05-03T10:13:19.061Z"
   },
   {
    "duration": 3,
    "start_time": "2023-05-03T10:13:19.881Z"
   },
   {
    "duration": 33,
    "start_time": "2023-05-03T10:13:19.886Z"
   },
   {
    "duration": 19,
    "start_time": "2023-05-03T10:13:19.921Z"
   },
   {
    "duration": 4,
    "start_time": "2023-05-03T10:13:19.942Z"
   },
   {
    "duration": 105,
    "start_time": "2023-05-03T10:13:19.947Z"
   },
   {
    "duration": 18,
    "start_time": "2023-05-03T10:13:20.054Z"
   },
   {
    "duration": 30,
    "start_time": "2023-05-03T10:13:20.074Z"
   },
   {
    "duration": 32,
    "start_time": "2023-05-03T10:13:20.107Z"
   },
   {
    "duration": 601,
    "start_time": "2023-05-03T10:13:20.140Z"
   },
   {
    "duration": 67,
    "start_time": "2023-05-03T10:13:20.743Z"
   },
   {
    "duration": 15,
    "start_time": "2023-05-03T10:13:20.811Z"
   },
   {
    "duration": 30,
    "start_time": "2023-05-03T10:13:20.827Z"
   },
   {
    "duration": 91,
    "start_time": "2023-05-03T10:13:20.858Z"
   },
   {
    "duration": 5,
    "start_time": "2023-05-03T10:13:20.950Z"
   },
   {
    "duration": 21,
    "start_time": "2023-05-03T10:13:20.957Z"
   },
   {
    "duration": 39,
    "start_time": "2023-05-03T10:13:20.980Z"
   },
   {
    "duration": 44,
    "start_time": "2023-05-03T10:13:21.021Z"
   },
   {
    "duration": 118,
    "start_time": "2023-05-03T10:13:21.067Z"
   },
   {
    "duration": 0,
    "start_time": "2023-05-03T10:13:21.187Z"
   },
   {
    "duration": 312,
    "start_time": "2023-05-03T10:17:29.223Z"
   },
   {
    "duration": 8,
    "start_time": "2023-05-03T10:17:35.544Z"
   },
   {
    "duration": 7,
    "start_time": "2023-05-03T10:18:09.152Z"
   },
   {
    "duration": 358,
    "start_time": "2023-05-03T10:18:44.526Z"
   },
   {
    "duration": 9,
    "start_time": "2023-05-03T10:18:50.711Z"
   },
   {
    "duration": 63,
    "start_time": "2023-05-03T10:32:49.488Z"
   },
   {
    "duration": 34,
    "start_time": "2023-05-03T10:33:31.338Z"
   },
   {
    "duration": 72,
    "start_time": "2023-05-03T10:34:03.630Z"
   },
   {
    "duration": 9,
    "start_time": "2023-05-03T10:58:45.515Z"
   },
   {
    "duration": 20,
    "start_time": "2023-05-03T10:58:50.189Z"
   },
   {
    "duration": 29,
    "start_time": "2023-05-03T11:29:12.334Z"
   },
   {
    "duration": 435,
    "start_time": "2023-05-03T11:40:19.713Z"
   },
   {
    "duration": 16,
    "start_time": "2023-05-03T11:40:24.039Z"
   },
   {
    "duration": 15,
    "start_time": "2023-05-03T11:40:27.927Z"
   },
   {
    "duration": 13,
    "start_time": "2023-05-03T11:40:32.630Z"
   },
   {
    "duration": 15,
    "start_time": "2023-05-03T11:40:37.846Z"
   },
   {
    "duration": 42,
    "start_time": "2023-05-03T11:40:44.532Z"
   },
   {
    "duration": 475,
    "start_time": "2023-05-03T11:40:56.652Z"
   },
   {
    "duration": 26,
    "start_time": "2023-05-03T11:40:57.133Z"
   },
   {
    "duration": 20,
    "start_time": "2023-05-03T11:40:57.923Z"
   },
   {
    "duration": 66,
    "start_time": "2023-05-03T11:41:19.822Z"
   },
   {
    "duration": 18,
    "start_time": "2023-05-03T11:41:25.648Z"
   },
   {
    "duration": 12,
    "start_time": "2023-05-03T11:41:40.160Z"
   },
   {
    "duration": 7,
    "start_time": "2023-05-03T11:41:57.348Z"
   },
   {
    "duration": 11,
    "start_time": "2023-05-03T11:42:22.840Z"
   },
   {
    "duration": 13,
    "start_time": "2023-05-03T11:42:57.277Z"
   },
   {
    "duration": 28,
    "start_time": "2023-05-03T11:43:16.921Z"
   },
   {
    "duration": 98,
    "start_time": "2023-05-03T11:44:03.347Z"
   },
   {
    "duration": 14,
    "start_time": "2023-05-03T11:44:12.581Z"
   },
   {
    "duration": 26,
    "start_time": "2023-05-03T11:44:20.630Z"
   },
   {
    "duration": 411,
    "start_time": "2023-05-03T11:44:24.133Z"
   },
   {
    "duration": 9,
    "start_time": "2023-05-03T11:44:26.455Z"
   },
   {
    "duration": 1271,
    "start_time": "2023-05-03T11:45:52.730Z"
   },
   {
    "duration": 208,
    "start_time": "2023-05-03T11:45:54.007Z"
   },
   {
    "duration": 5,
    "start_time": "2023-05-03T11:45:54.217Z"
   },
   {
    "duration": 33,
    "start_time": "2023-05-03T11:45:54.229Z"
   },
   {
    "duration": 19,
    "start_time": "2023-05-03T11:45:54.264Z"
   },
   {
    "duration": 20,
    "start_time": "2023-05-03T11:45:54.285Z"
   },
   {
    "duration": 128,
    "start_time": "2023-05-03T11:45:54.313Z"
   },
   {
    "duration": 28,
    "start_time": "2023-05-03T11:45:54.443Z"
   },
   {
    "duration": 10,
    "start_time": "2023-05-03T11:45:54.473Z"
   },
   {
    "duration": 59,
    "start_time": "2023-05-03T11:45:54.484Z"
   },
   {
    "duration": 826,
    "start_time": "2023-05-03T11:45:54.545Z"
   },
   {
    "duration": 79,
    "start_time": "2023-05-03T11:45:55.373Z"
   },
   {
    "duration": 19,
    "start_time": "2023-05-03T11:45:55.459Z"
   },
   {
    "duration": 49,
    "start_time": "2023-05-03T11:45:55.481Z"
   },
   {
    "duration": 92,
    "start_time": "2023-05-03T11:45:55.531Z"
   },
   {
    "duration": 17,
    "start_time": "2023-05-03T11:45:55.628Z"
   },
   {
    "duration": 28,
    "start_time": "2023-05-03T11:45:55.655Z"
   },
   {
    "duration": 38,
    "start_time": "2023-05-03T11:45:55.686Z"
   },
   {
    "duration": 442,
    "start_time": "2023-05-03T11:45:55.735Z"
   },
   {
    "duration": 8,
    "start_time": "2023-05-03T11:45:56.179Z"
   },
   {
    "duration": 21,
    "start_time": "2023-05-03T11:45:56.202Z"
   },
   {
    "duration": 143,
    "start_time": "2023-05-03T11:45:56.225Z"
   },
   {
    "duration": 0,
    "start_time": "2023-05-03T11:45:56.370Z"
   },
   {
    "duration": 0,
    "start_time": "2023-05-03T11:45:56.372Z"
   },
   {
    "duration": 0,
    "start_time": "2023-05-03T11:45:56.373Z"
   },
   {
    "duration": 0,
    "start_time": "2023-05-03T11:45:56.374Z"
   },
   {
    "duration": 0,
    "start_time": "2023-05-03T11:45:56.376Z"
   },
   {
    "duration": 12,
    "start_time": "2023-05-03T11:46:11.961Z"
   },
   {
    "duration": 8,
    "start_time": "2023-05-03T11:46:17.546Z"
   },
   {
    "duration": 1337,
    "start_time": "2023-05-03T11:48:21.424Z"
   },
   {
    "duration": 14,
    "start_time": "2023-05-03T11:48:24.915Z"
   },
   {
    "duration": 10,
    "start_time": "2023-05-03T11:48:31.352Z"
   },
   {
    "duration": 11,
    "start_time": "2023-05-03T11:48:36.856Z"
   },
   {
    "duration": 4,
    "start_time": "2023-05-03T11:53:08.678Z"
   },
   {
    "duration": 9,
    "start_time": "2023-05-03T11:53:27.545Z"
   },
   {
    "duration": 62,
    "start_time": "2023-05-03T16:59:46.662Z"
   },
   {
    "duration": 1301,
    "start_time": "2023-05-03T16:59:56.209Z"
   },
   {
    "duration": 829,
    "start_time": "2023-05-03T16:59:57.513Z"
   },
   {
    "duration": 3,
    "start_time": "2023-05-03T16:59:58.344Z"
   },
   {
    "duration": 21,
    "start_time": "2023-05-03T16:59:58.348Z"
   },
   {
    "duration": 21,
    "start_time": "2023-05-03T16:59:58.371Z"
   },
   {
    "duration": 6,
    "start_time": "2023-05-03T16:59:58.394Z"
   },
   {
    "duration": 133,
    "start_time": "2023-05-03T16:59:58.402Z"
   },
   {
    "duration": 21,
    "start_time": "2023-05-03T16:59:58.537Z"
   },
   {
    "duration": 20,
    "start_time": "2023-05-03T16:59:58.560Z"
   },
   {
    "duration": 50,
    "start_time": "2023-05-03T16:59:58.582Z"
   },
   {
    "duration": 600,
    "start_time": "2023-05-03T16:59:58.634Z"
   },
   {
    "duration": 64,
    "start_time": "2023-05-03T16:59:59.236Z"
   },
   {
    "duration": 17,
    "start_time": "2023-05-03T16:59:59.302Z"
   },
   {
    "duration": 31,
    "start_time": "2023-05-03T16:59:59.321Z"
   },
   {
    "duration": 109,
    "start_time": "2023-05-03T16:59:59.354Z"
   },
   {
    "duration": 5,
    "start_time": "2023-05-03T16:59:59.465Z"
   },
   {
    "duration": 45,
    "start_time": "2023-05-03T16:59:59.471Z"
   },
   {
    "duration": 47,
    "start_time": "2023-05-03T16:59:59.529Z"
   },
   {
    "duration": 0,
    "start_time": "2023-05-03T16:59:59.578Z"
   },
   {
    "duration": 0,
    "start_time": "2023-05-03T16:59:59.580Z"
   },
   {
    "duration": 0,
    "start_time": "2023-05-03T16:59:59.581Z"
   },
   {
    "duration": 0,
    "start_time": "2023-05-03T16:59:59.582Z"
   },
   {
    "duration": 0,
    "start_time": "2023-05-03T16:59:59.584Z"
   },
   {
    "duration": 0,
    "start_time": "2023-05-03T16:59:59.585Z"
   },
   {
    "duration": 0,
    "start_time": "2023-05-03T16:59:59.587Z"
   },
   {
    "duration": 0,
    "start_time": "2023-05-03T16:59:59.588Z"
   },
   {
    "duration": 72,
    "start_time": "2023-05-03T17:00:04.414Z"
   },
   {
    "duration": 65,
    "start_time": "2023-05-03T17:00:22.887Z"
   },
   {
    "duration": 105,
    "start_time": "2023-05-03T17:04:17.249Z"
   },
   {
    "duration": 56,
    "start_time": "2023-05-03T17:04:25.649Z"
   },
   {
    "duration": 66,
    "start_time": "2023-05-03T17:06:57.306Z"
   },
   {
    "duration": 65,
    "start_time": "2023-05-03T17:09:12.390Z"
   },
   {
    "duration": 55,
    "start_time": "2023-05-03T17:13:30.324Z"
   },
   {
    "duration": 48,
    "start_time": "2023-05-03T17:13:58.919Z"
   },
   {
    "duration": 71,
    "start_time": "2023-05-03T17:14:27.658Z"
   },
   {
    "duration": 50,
    "start_time": "2023-05-03T17:34:09.710Z"
   },
   {
    "duration": 60,
    "start_time": "2023-05-03T17:35:11.840Z"
   },
   {
    "duration": 48,
    "start_time": "2023-05-03T17:35:22.162Z"
   },
   {
    "duration": 8,
    "start_time": "2023-05-03T17:35:28.876Z"
   },
   {
    "duration": 54,
    "start_time": "2023-05-03T17:35:45.468Z"
   },
   {
    "duration": 54,
    "start_time": "2023-05-03T17:36:01.808Z"
   },
   {
    "duration": 50,
    "start_time": "2023-05-03T17:36:07.407Z"
   },
   {
    "duration": 8,
    "start_time": "2023-05-03T17:36:09.875Z"
   },
   {
    "duration": 47,
    "start_time": "2023-05-03T17:37:13.875Z"
   },
   {
    "duration": 8,
    "start_time": "2023-05-03T17:37:15.556Z"
   },
   {
    "duration": 50,
    "start_time": "2023-05-03T17:37:30.754Z"
   },
   {
    "duration": 8,
    "start_time": "2023-05-03T17:37:32.421Z"
   },
   {
    "duration": 45,
    "start_time": "2023-05-03T17:37:42.213Z"
   },
   {
    "duration": 8,
    "start_time": "2023-05-03T17:37:42.586Z"
   },
   {
    "duration": 9,
    "start_time": "2023-05-03T17:37:49.885Z"
   },
   {
    "duration": 49,
    "start_time": "2023-05-03T17:37:52.980Z"
   },
   {
    "duration": 10,
    "start_time": "2023-05-03T17:37:53.332Z"
   },
   {
    "duration": 744,
    "start_time": "2023-05-03T17:46:55.089Z"
   },
   {
    "duration": 4,
    "start_time": "2023-05-03T17:47:02.832Z"
   },
   {
    "duration": 10,
    "start_time": "2023-05-03T17:49:20.328Z"
   },
   {
    "duration": 8,
    "start_time": "2023-05-03T17:55:35.572Z"
   },
   {
    "duration": 1244,
    "start_time": "2023-05-03T17:55:37.876Z"
   },
   {
    "duration": 12,
    "start_time": "2023-05-03T17:55:39.122Z"
   },
   {
    "duration": 9,
    "start_time": "2023-05-03T17:56:27.471Z"
   },
   {
    "duration": 43,
    "start_time": "2023-05-03T17:56:29.857Z"
   },
   {
    "duration": 14,
    "start_time": "2023-05-03T17:56:31.109Z"
   },
   {
    "duration": 21,
    "start_time": "2023-05-03T17:57:04.680Z"
   },
   {
    "duration": 1519,
    "start_time": "2023-05-03T17:58:13.850Z"
   },
   {
    "duration": 42,
    "start_time": "2023-05-03T18:03:39.636Z"
   },
   {
    "duration": 71,
    "start_time": "2023-05-03T18:05:24.483Z"
   },
   {
    "duration": 18,
    "start_time": "2023-05-03T18:05:44.006Z"
   },
   {
    "duration": 57,
    "start_time": "2023-05-03T18:05:45.673Z"
   },
   {
    "duration": 10,
    "start_time": "2023-05-03T18:05:46.123Z"
   },
   {
    "duration": 52,
    "start_time": "2023-05-03T18:06:03.317Z"
   },
   {
    "duration": 5,
    "start_time": "2023-05-03T18:06:03.684Z"
   },
   {
    "duration": 65,
    "start_time": "2023-05-03T18:09:03.402Z"
   },
   {
    "duration": 19,
    "start_time": "2023-05-03T18:24:24.378Z"
   },
   {
    "duration": 24,
    "start_time": "2023-05-03T18:28:37.358Z"
   },
   {
    "duration": 16,
    "start_time": "2023-05-03T18:31:10.806Z"
   },
   {
    "duration": 1305,
    "start_time": "2023-05-03T18:31:42.637Z"
   },
   {
    "duration": 230,
    "start_time": "2023-05-03T18:31:43.944Z"
   },
   {
    "duration": 19,
    "start_time": "2023-05-03T18:31:44.177Z"
   },
   {
    "duration": 42,
    "start_time": "2023-05-03T18:31:44.203Z"
   },
   {
    "duration": 27,
    "start_time": "2023-05-03T18:31:44.252Z"
   },
   {
    "duration": 6,
    "start_time": "2023-05-03T18:31:44.281Z"
   },
   {
    "duration": 103,
    "start_time": "2023-05-03T18:31:44.299Z"
   },
   {
    "duration": 30,
    "start_time": "2023-05-03T18:31:44.408Z"
   },
   {
    "duration": 18,
    "start_time": "2023-05-03T18:31:44.443Z"
   },
   {
    "duration": 50,
    "start_time": "2023-05-03T18:31:44.473Z"
   },
   {
    "duration": 738,
    "start_time": "2023-05-03T18:31:44.526Z"
   },
   {
    "duration": 59,
    "start_time": "2023-05-03T18:31:45.266Z"
   },
   {
    "duration": 32,
    "start_time": "2023-05-03T18:31:45.327Z"
   },
   {
    "duration": 46,
    "start_time": "2023-05-03T18:31:45.362Z"
   },
   {
    "duration": 93,
    "start_time": "2023-05-03T18:31:45.411Z"
   },
   {
    "duration": 9,
    "start_time": "2023-05-03T18:31:45.506Z"
   },
   {
    "duration": 43,
    "start_time": "2023-05-03T18:31:45.516Z"
   },
   {
    "duration": 75,
    "start_time": "2023-05-03T18:31:45.561Z"
   },
   {
    "duration": 1384,
    "start_time": "2023-05-03T18:31:45.638Z"
   },
   {
    "duration": 23,
    "start_time": "2023-05-03T18:31:47.024Z"
   },
   {
    "duration": 17,
    "start_time": "2023-05-03T18:31:47.052Z"
   },
   {
    "duration": 75,
    "start_time": "2023-05-03T18:31:47.072Z"
   },
   {
    "duration": 10,
    "start_time": "2023-05-03T18:31:47.163Z"
   },
   {
    "duration": 14,
    "start_time": "2023-05-03T18:31:47.175Z"
   },
   {
    "duration": 11,
    "start_time": "2023-05-03T18:31:47.191Z"
   },
   {
    "duration": 35,
    "start_time": "2023-05-03T18:31:47.203Z"
   },
   {
    "duration": 40,
    "start_time": "2023-05-03T18:31:47.239Z"
   },
   {
    "duration": 200,
    "start_time": "2023-05-03T18:31:47.281Z"
   },
   {
    "duration": 0,
    "start_time": "2023-05-03T18:31:47.483Z"
   },
   {
    "duration": 5,
    "start_time": "2023-05-03T18:41:46.485Z"
   },
   {
    "duration": 84,
    "start_time": "2023-05-03T18:42:20.480Z"
   },
   {
    "duration": 28,
    "start_time": "2023-05-03T18:42:20.926Z"
   },
   {
    "duration": 7,
    "start_time": "2023-05-03T18:50:19.924Z"
   },
   {
    "duration": 4,
    "start_time": "2023-05-03T18:50:23.790Z"
   },
   {
    "duration": 9,
    "start_time": "2023-05-03T18:50:26.737Z"
   },
   {
    "duration": 8,
    "start_time": "2023-05-03T18:50:30.529Z"
   },
   {
    "duration": 5,
    "start_time": "2023-05-03T19:31:53.746Z"
   },
   {
    "duration": 56,
    "start_time": "2023-05-03T19:33:45.735Z"
   },
   {
    "duration": 89,
    "start_time": "2023-05-03T19:33:50.472Z"
   },
   {
    "duration": 55,
    "start_time": "2023-05-03T19:34:09.713Z"
   },
   {
    "duration": 5,
    "start_time": "2023-05-03T19:34:17.777Z"
   },
   {
    "duration": 74,
    "start_time": "2023-05-03T19:35:34.072Z"
   },
   {
    "duration": 6,
    "start_time": "2023-05-03T19:36:00.427Z"
   },
   {
    "duration": 6,
    "start_time": "2023-05-03T19:36:31.732Z"
   },
   {
    "duration": 5,
    "start_time": "2023-05-03T19:40:28.571Z"
   },
   {
    "duration": 5,
    "start_time": "2023-05-03T19:40:29.031Z"
   },
   {
    "duration": 9,
    "start_time": "2023-05-03T19:41:06.061Z"
   },
   {
    "duration": 11,
    "start_time": "2023-05-03T19:41:21.180Z"
   },
   {
    "duration": 10,
    "start_time": "2023-05-03T19:42:18.925Z"
   },
   {
    "duration": 5,
    "start_time": "2023-05-03T19:42:21.817Z"
   },
   {
    "duration": 9,
    "start_time": "2023-05-03T19:42:22.203Z"
   },
   {
    "duration": 7,
    "start_time": "2023-05-03T19:42:24.720Z"
   },
   {
    "duration": 7,
    "start_time": "2023-05-03T19:56:28.747Z"
   },
   {
    "duration": 7,
    "start_time": "2023-05-03T19:56:30.308Z"
   },
   {
    "duration": 7,
    "start_time": "2023-05-03T19:56:30.696Z"
   },
   {
    "duration": 43,
    "start_time": "2023-05-03T19:58:06.023Z"
   },
   {
    "duration": 6,
    "start_time": "2023-05-03T20:01:33.082Z"
   },
   {
    "duration": 6,
    "start_time": "2023-05-03T20:28:40.935Z"
   },
   {
    "duration": 8,
    "start_time": "2023-05-03T20:30:05.706Z"
   },
   {
    "duration": 12,
    "start_time": "2023-05-03T20:30:13.251Z"
   },
   {
    "duration": 57,
    "start_time": "2023-05-03T20:30:42.812Z"
   },
   {
    "duration": 13,
    "start_time": "2023-05-03T20:41:28.226Z"
   },
   {
    "duration": 10,
    "start_time": "2023-05-03T20:52:47.092Z"
   },
   {
    "duration": 7,
    "start_time": "2023-05-03T20:53:46.547Z"
   },
   {
    "duration": 20,
    "start_time": "2023-05-03T20:54:34.689Z"
   },
   {
    "duration": 28,
    "start_time": "2023-05-03T21:03:17.810Z"
   },
   {
    "duration": 13,
    "start_time": "2023-05-03T21:06:19.265Z"
   },
   {
    "duration": 13,
    "start_time": "2023-05-03T21:08:11.436Z"
   },
   {
    "duration": 5,
    "start_time": "2023-05-03T21:10:25.213Z"
   },
   {
    "duration": 18,
    "start_time": "2023-05-03T21:10:30.507Z"
   },
   {
    "duration": 17,
    "start_time": "2023-05-03T21:13:16.437Z"
   },
   {
    "duration": 11,
    "start_time": "2023-05-03T21:18:15.737Z"
   },
   {
    "duration": 6,
    "start_time": "2023-05-03T21:19:36.641Z"
   },
   {
    "duration": 16,
    "start_time": "2023-05-03T21:19:38.251Z"
   },
   {
    "duration": 20,
    "start_time": "2023-05-03T21:19:41.297Z"
   },
   {
    "duration": 17,
    "start_time": "2023-05-03T21:19:42.478Z"
   },
   {
    "duration": 14,
    "start_time": "2023-05-03T21:19:43.481Z"
   },
   {
    "duration": 10,
    "start_time": "2023-05-03T21:19:43.920Z"
   },
   {
    "duration": 9,
    "start_time": "2023-05-03T21:19:54.531Z"
   },
   {
    "duration": 13,
    "start_time": "2023-05-03T21:19:55.223Z"
   },
   {
    "duration": 11,
    "start_time": "2023-05-03T21:19:55.975Z"
   },
   {
    "duration": 14,
    "start_time": "2023-05-03T21:19:56.331Z"
   },
   {
    "duration": 1237,
    "start_time": "2023-05-04T06:55:36.014Z"
   },
   {
    "duration": 208,
    "start_time": "2023-05-04T06:55:37.253Z"
   },
   {
    "duration": 4,
    "start_time": "2023-05-04T06:55:37.463Z"
   },
   {
    "duration": 53,
    "start_time": "2023-05-04T06:55:37.470Z"
   },
   {
    "duration": 27,
    "start_time": "2023-05-04T06:55:37.525Z"
   },
   {
    "duration": 12,
    "start_time": "2023-05-04T06:55:37.554Z"
   },
   {
    "duration": 135,
    "start_time": "2023-05-04T06:55:37.568Z"
   },
   {
    "duration": 31,
    "start_time": "2023-05-04T06:55:37.705Z"
   },
   {
    "duration": 21,
    "start_time": "2023-05-04T06:55:37.738Z"
   },
   {
    "duration": 53,
    "start_time": "2023-05-04T06:55:37.762Z"
   },
   {
    "duration": 652,
    "start_time": "2023-05-04T06:55:37.824Z"
   },
   {
    "duration": 67,
    "start_time": "2023-05-04T06:55:38.479Z"
   },
   {
    "duration": 14,
    "start_time": "2023-05-04T06:55:38.548Z"
   },
   {
    "duration": 59,
    "start_time": "2023-05-04T06:55:38.564Z"
   },
   {
    "duration": 89,
    "start_time": "2023-05-04T06:55:38.624Z"
   },
   {
    "duration": 6,
    "start_time": "2023-05-04T06:55:38.715Z"
   },
   {
    "duration": 31,
    "start_time": "2023-05-04T06:55:38.723Z"
   },
   {
    "duration": 63,
    "start_time": "2023-05-04T06:55:38.756Z"
   },
   {
    "duration": 1107,
    "start_time": "2023-05-04T06:55:38.821Z"
   },
   {
    "duration": 10,
    "start_time": "2023-05-04T06:55:39.929Z"
   },
   {
    "duration": 11,
    "start_time": "2023-05-04T06:55:39.940Z"
   },
   {
    "duration": 99,
    "start_time": "2023-05-04T06:55:39.952Z"
   },
   {
    "duration": 5,
    "start_time": "2023-05-04T06:55:40.053Z"
   },
   {
    "duration": 19,
    "start_time": "2023-05-04T06:55:40.060Z"
   },
   {
    "duration": 32,
    "start_time": "2023-05-04T06:55:40.080Z"
   },
   {
    "duration": 14,
    "start_time": "2023-05-04T06:55:40.114Z"
   },
   {
    "duration": 46,
    "start_time": "2023-05-04T06:55:40.130Z"
   },
   {
    "duration": 53,
    "start_time": "2023-05-04T13:11:00.185Z"
   },
   {
    "duration": 1312,
    "start_time": "2023-05-04T13:11:05.107Z"
   },
   {
    "duration": 547,
    "start_time": "2023-05-04T13:11:06.421Z"
   },
   {
    "duration": 6,
    "start_time": "2023-05-04T13:11:06.970Z"
   },
   {
    "duration": 54,
    "start_time": "2023-05-04T13:11:06.979Z"
   },
   {
    "duration": 20,
    "start_time": "2023-05-04T13:11:07.034Z"
   },
   {
    "duration": 4,
    "start_time": "2023-05-04T13:11:07.056Z"
   },
   {
    "duration": 109,
    "start_time": "2023-05-04T13:11:07.062Z"
   },
   {
    "duration": 21,
    "start_time": "2023-05-04T13:11:07.173Z"
   },
   {
    "duration": 14,
    "start_time": "2023-05-04T13:11:07.196Z"
   },
   {
    "duration": 43,
    "start_time": "2023-05-04T13:11:07.213Z"
   },
   {
    "duration": 587,
    "start_time": "2023-05-04T13:11:07.258Z"
   },
   {
    "duration": 73,
    "start_time": "2023-05-04T13:11:07.846Z"
   },
   {
    "duration": 23,
    "start_time": "2023-05-04T13:11:07.922Z"
   },
   {
    "duration": 33,
    "start_time": "2023-05-04T13:11:07.947Z"
   },
   {
    "duration": 105,
    "start_time": "2023-05-04T13:11:07.982Z"
   },
   {
    "duration": 4,
    "start_time": "2023-05-04T13:11:08.088Z"
   },
   {
    "duration": 41,
    "start_time": "2023-05-04T13:11:08.094Z"
   },
   {
    "duration": 106,
    "start_time": "2023-05-04T13:11:08.137Z"
   },
   {
    "duration": 0,
    "start_time": "2023-05-04T13:11:08.245Z"
   },
   {
    "duration": 0,
    "start_time": "2023-05-04T13:11:08.247Z"
   },
   {
    "duration": 0,
    "start_time": "2023-05-04T13:11:08.249Z"
   },
   {
    "duration": 0,
    "start_time": "2023-05-04T13:11:08.250Z"
   },
   {
    "duration": 0,
    "start_time": "2023-05-04T13:11:08.251Z"
   },
   {
    "duration": 0,
    "start_time": "2023-05-04T13:11:08.253Z"
   },
   {
    "duration": 0,
    "start_time": "2023-05-04T13:11:08.254Z"
   },
   {
    "duration": 0,
    "start_time": "2023-05-04T13:11:08.255Z"
   },
   {
    "duration": 0,
    "start_time": "2023-05-04T13:11:08.257Z"
   },
   {
    "duration": 0,
    "start_time": "2023-05-04T13:11:08.258Z"
   },
   {
    "duration": 7,
    "start_time": "2023-05-04T13:11:20.024Z"
   },
   {
    "duration": 13,
    "start_time": "2023-05-04T13:11:26.813Z"
   },
   {
    "duration": 8,
    "start_time": "2023-05-04T13:11:41.729Z"
   },
   {
    "duration": 32,
    "start_time": "2023-05-04T13:11:54.070Z"
   },
   {
    "duration": 7,
    "start_time": "2023-05-04T13:11:56.674Z"
   },
   {
    "duration": 193,
    "start_time": "2023-05-04T13:12:25.393Z"
   },
   {
    "duration": 2435,
    "start_time": "2023-05-04T13:12:30.935Z"
   },
   {
    "duration": 3,
    "start_time": "2023-05-04T13:12:43.877Z"
   },
   {
    "duration": 8,
    "start_time": "2023-05-04T13:12:48.773Z"
   },
   {
    "duration": 21,
    "start_time": "2023-05-04T13:13:39.348Z"
   },
   {
    "duration": 6,
    "start_time": "2023-05-04T13:13:42.395Z"
   },
   {
    "duration": 66,
    "start_time": "2023-05-04T13:19:32.632Z"
   },
   {
    "duration": 42,
    "start_time": "2023-05-04T13:23:50.404Z"
   },
   {
    "duration": 12,
    "start_time": "2023-05-04T13:26:25.565Z"
   },
   {
    "duration": 14,
    "start_time": "2023-05-04T13:26:30.134Z"
   },
   {
    "duration": 1153,
    "start_time": "2023-05-04T13:26:38.611Z"
   },
   {
    "duration": 175,
    "start_time": "2023-05-04T13:26:39.768Z"
   },
   {
    "duration": 3,
    "start_time": "2023-05-04T13:26:39.944Z"
   },
   {
    "duration": 31,
    "start_time": "2023-05-04T13:26:39.949Z"
   },
   {
    "duration": 18,
    "start_time": "2023-05-04T13:26:39.982Z"
   },
   {
    "duration": 6,
    "start_time": "2023-05-04T13:26:40.002Z"
   },
   {
    "duration": 123,
    "start_time": "2023-05-04T13:26:40.010Z"
   },
   {
    "duration": 24,
    "start_time": "2023-05-04T13:26:40.135Z"
   },
   {
    "duration": 12,
    "start_time": "2023-05-04T13:26:40.161Z"
   },
   {
    "duration": 72,
    "start_time": "2023-05-04T13:26:40.177Z"
   },
   {
    "duration": 519,
    "start_time": "2023-05-04T13:26:40.251Z"
   },
   {
    "duration": 67,
    "start_time": "2023-05-04T13:26:40.771Z"
   },
   {
    "duration": 14,
    "start_time": "2023-05-04T13:26:40.840Z"
   },
   {
    "duration": 31,
    "start_time": "2023-05-04T13:26:40.855Z"
   },
   {
    "duration": 96,
    "start_time": "2023-05-04T13:26:40.887Z"
   },
   {
    "duration": 4,
    "start_time": "2023-05-04T13:26:40.984Z"
   },
   {
    "duration": 45,
    "start_time": "2023-05-04T13:26:40.989Z"
   },
   {
    "duration": 54,
    "start_time": "2023-05-04T13:26:41.035Z"
   },
   {
    "duration": 5,
    "start_time": "2023-05-04T13:26:41.091Z"
   },
   {
    "duration": 59,
    "start_time": "2023-05-04T13:26:41.097Z"
   },
   {
    "duration": 45,
    "start_time": "2023-05-04T13:26:41.158Z"
   },
   {
    "duration": 1462,
    "start_time": "2023-05-04T13:26:41.204Z"
   },
   {
    "duration": 9,
    "start_time": "2023-05-04T13:26:42.667Z"
   },
   {
    "duration": 9,
    "start_time": "2023-05-04T13:26:42.734Z"
   },
   {
    "duration": 118,
    "start_time": "2023-05-04T13:26:42.744Z"
   },
   {
    "duration": 5,
    "start_time": "2023-05-04T13:26:42.864Z"
   },
   {
    "duration": 72,
    "start_time": "2023-05-04T13:26:42.871Z"
   },
   {
    "duration": 26,
    "start_time": "2023-05-04T13:26:42.947Z"
   },
   {
    "duration": 69,
    "start_time": "2023-05-04T13:26:42.974Z"
   },
   {
    "duration": 17,
    "start_time": "2023-05-04T13:26:43.045Z"
   },
   {
    "duration": 40,
    "start_time": "2023-05-04T13:26:57.409Z"
   },
   {
    "duration": 97,
    "start_time": "2023-05-04T13:36:33.593Z"
   },
   {
    "duration": 7,
    "start_time": "2023-05-04T13:36:38.381Z"
   },
   {
    "duration": 39,
    "start_time": "2023-05-04T13:40:42.599Z"
   },
   {
    "duration": 71,
    "start_time": "2023-05-04T13:42:30.452Z"
   },
   {
    "duration": 50,
    "start_time": "2023-05-04T13:42:52.404Z"
   },
   {
    "duration": 4,
    "start_time": "2023-05-04T13:47:25.187Z"
   },
   {
    "duration": 8,
    "start_time": "2023-05-04T13:52:49.338Z"
   },
   {
    "duration": 7,
    "start_time": "2023-05-04T13:52:57.778Z"
   },
   {
    "duration": 84,
    "start_time": "2023-05-04T13:53:39.727Z"
   },
   {
    "duration": 43,
    "start_time": "2023-05-04T14:00:04.858Z"
   },
   {
    "duration": 4,
    "start_time": "2023-05-04T14:02:39.365Z"
   },
   {
    "duration": 57,
    "start_time": "2023-05-04T14:03:01.471Z"
   },
   {
    "duration": 54,
    "start_time": "2023-05-04T14:04:32.900Z"
   },
   {
    "duration": 44,
    "start_time": "2023-05-04T14:05:27.579Z"
   },
   {
    "duration": 236,
    "start_time": "2023-05-04T14:10:05.535Z"
   },
   {
    "duration": 46,
    "start_time": "2023-05-04T14:10:10.472Z"
   },
   {
    "duration": 44,
    "start_time": "2023-05-04T14:12:22.431Z"
   },
   {
    "duration": 146,
    "start_time": "2023-05-04T14:13:02.912Z"
   },
   {
    "duration": 42,
    "start_time": "2023-05-04T14:13:07.209Z"
   },
   {
    "duration": 82,
    "start_time": "2023-05-04T14:13:32.429Z"
   },
   {
    "duration": 60,
    "start_time": "2023-05-04T14:14:43.835Z"
   },
   {
    "duration": 48,
    "start_time": "2023-05-04T14:14:51.209Z"
   },
   {
    "duration": 49,
    "start_time": "2023-05-04T14:15:00.063Z"
   },
   {
    "duration": 45,
    "start_time": "2023-05-04T14:15:08.427Z"
   },
   {
    "duration": 134,
    "start_time": "2023-05-04T14:15:13.419Z"
   },
   {
    "duration": 47,
    "start_time": "2023-05-04T14:15:22.791Z"
   },
   {
    "duration": 50,
    "start_time": "2023-05-04T14:15:59.827Z"
   },
   {
    "duration": 58,
    "start_time": "2023-05-04T14:16:29.043Z"
   },
   {
    "duration": 41,
    "start_time": "2023-05-04T14:16:45.474Z"
   },
   {
    "duration": 47,
    "start_time": "2023-05-04T14:16:53.516Z"
   },
   {
    "duration": 71,
    "start_time": "2023-05-04T14:17:09.970Z"
   },
   {
    "duration": 45,
    "start_time": "2023-05-04T14:25:16.496Z"
   },
   {
    "duration": 4,
    "start_time": "2023-05-04T14:26:22.407Z"
   },
   {
    "duration": 163,
    "start_time": "2023-05-04T14:26:23.250Z"
   },
   {
    "duration": 3,
    "start_time": "2023-05-04T14:26:28.879Z"
   },
   {
    "duration": 22,
    "start_time": "2023-05-04T14:26:30.149Z"
   },
   {
    "duration": 54,
    "start_time": "2023-05-04T14:26:40.923Z"
   },
   {
    "duration": 53,
    "start_time": "2023-05-04T14:27:00.445Z"
   },
   {
    "duration": 40,
    "start_time": "2023-05-04T14:27:10.149Z"
   },
   {
    "duration": 1124,
    "start_time": "2023-05-04T14:27:14.890Z"
   },
   {
    "duration": 192,
    "start_time": "2023-05-04T14:27:16.017Z"
   },
   {
    "duration": 3,
    "start_time": "2023-05-04T14:27:16.211Z"
   },
   {
    "duration": 43,
    "start_time": "2023-05-04T14:27:16.216Z"
   },
   {
    "duration": 17,
    "start_time": "2023-05-04T14:27:16.263Z"
   },
   {
    "duration": 9,
    "start_time": "2023-05-04T14:27:16.282Z"
   },
   {
    "duration": 110,
    "start_time": "2023-05-04T14:27:16.292Z"
   },
   {
    "duration": 30,
    "start_time": "2023-05-04T14:27:16.404Z"
   },
   {
    "duration": 13,
    "start_time": "2023-05-04T14:27:16.436Z"
   },
   {
    "duration": 31,
    "start_time": "2023-05-04T14:27:16.451Z"
   },
   {
    "duration": 632,
    "start_time": "2023-05-04T14:27:16.484Z"
   },
   {
    "duration": 84,
    "start_time": "2023-05-04T14:27:17.118Z"
   },
   {
    "duration": 30,
    "start_time": "2023-05-04T14:27:17.204Z"
   },
   {
    "duration": 39,
    "start_time": "2023-05-04T14:27:17.238Z"
   },
   {
    "duration": 172,
    "start_time": "2023-05-04T14:27:17.279Z"
   },
   {
    "duration": 116,
    "start_time": "2023-05-04T14:27:17.452Z"
   },
   {
    "duration": 172,
    "start_time": "2023-05-04T14:27:17.571Z"
   },
   {
    "duration": 5,
    "start_time": "2023-05-04T14:27:17.745Z"
   },
   {
    "duration": 86,
    "start_time": "2023-05-04T14:27:17.752Z"
   },
   {
    "duration": 29,
    "start_time": "2023-05-04T14:27:17.840Z"
   },
   {
    "duration": 104,
    "start_time": "2023-05-04T14:27:17.871Z"
   },
   {
    "duration": 59,
    "start_time": "2023-05-04T14:27:17.977Z"
   },
   {
    "duration": 25,
    "start_time": "2023-05-04T14:27:18.038Z"
   },
   {
    "duration": 1702,
    "start_time": "2023-05-04T14:27:18.064Z"
   },
   {
    "duration": 9,
    "start_time": "2023-05-04T14:27:19.768Z"
   },
   {
    "duration": 10,
    "start_time": "2023-05-04T14:27:19.778Z"
   },
   {
    "duration": 1695,
    "start_time": "2023-05-04T14:27:19.790Z"
   },
   {
    "duration": 0,
    "start_time": "2023-05-04T14:27:21.488Z"
   },
   {
    "duration": 0,
    "start_time": "2023-05-04T14:27:21.489Z"
   },
   {
    "duration": 0,
    "start_time": "2023-05-04T14:27:21.491Z"
   },
   {
    "duration": 0,
    "start_time": "2023-05-04T14:27:21.493Z"
   },
   {
    "duration": 0,
    "start_time": "2023-05-04T14:27:21.494Z"
   },
   {
    "duration": 44,
    "start_time": "2023-05-04T18:06:31.822Z"
   },
   {
    "duration": 1284,
    "start_time": "2023-05-04T18:06:36.242Z"
   },
   {
    "duration": 678,
    "start_time": "2023-05-04T18:06:37.528Z"
   },
   {
    "duration": 3,
    "start_time": "2023-05-04T18:06:38.207Z"
   },
   {
    "duration": 28,
    "start_time": "2023-05-04T18:06:38.211Z"
   },
   {
    "duration": 21,
    "start_time": "2023-05-04T18:06:38.241Z"
   },
   {
    "duration": 4,
    "start_time": "2023-05-04T18:06:38.264Z"
   },
   {
    "duration": 103,
    "start_time": "2023-05-04T18:06:38.269Z"
   },
   {
    "duration": 17,
    "start_time": "2023-05-04T18:06:38.374Z"
   },
   {
    "duration": 11,
    "start_time": "2023-05-04T18:06:38.393Z"
   },
   {
    "duration": 26,
    "start_time": "2023-05-04T18:06:38.406Z"
   },
   {
    "duration": 515,
    "start_time": "2023-05-04T18:06:38.456Z"
   },
   {
    "duration": 53,
    "start_time": "2023-05-04T18:06:38.973Z"
   },
   {
    "duration": 30,
    "start_time": "2023-05-04T18:06:39.027Z"
   },
   {
    "duration": 34,
    "start_time": "2023-05-04T18:06:39.060Z"
   },
   {
    "duration": 103,
    "start_time": "2023-05-04T18:06:39.095Z"
   },
   {
    "duration": 156,
    "start_time": "2023-05-04T18:06:39.200Z"
   },
   {
    "duration": 114,
    "start_time": "2023-05-04T18:06:39.358Z"
   },
   {
    "duration": 5,
    "start_time": "2023-05-04T18:06:39.474Z"
   },
   {
    "duration": 79,
    "start_time": "2023-05-04T18:06:39.481Z"
   },
   {
    "duration": 97,
    "start_time": "2023-05-04T18:06:39.562Z"
   },
   {
    "duration": 6,
    "start_time": "2023-05-04T18:06:39.661Z"
   },
   {
    "duration": 2028,
    "start_time": "2023-05-04T18:06:39.668Z"
   },
   {
    "duration": 59,
    "start_time": "2023-05-04T18:06:41.698Z"
   },
   {
    "duration": 19,
    "start_time": "2023-05-04T18:06:41.759Z"
   },
   {
    "duration": 978,
    "start_time": "2023-05-04T18:06:41.779Z"
   },
   {
    "duration": 0,
    "start_time": "2023-05-04T18:06:42.759Z"
   },
   {
    "duration": 0,
    "start_time": "2023-05-04T18:06:42.760Z"
   },
   {
    "duration": 0,
    "start_time": "2023-05-04T18:06:42.760Z"
   },
   {
    "duration": 1,
    "start_time": "2023-05-04T18:06:42.761Z"
   },
   {
    "duration": 0,
    "start_time": "2023-05-04T18:06:42.762Z"
   },
   {
    "duration": 745,
    "start_time": "2023-05-04T18:08:36.336Z"
   },
   {
    "duration": 7,
    "start_time": "2023-05-04T18:09:21.084Z"
   },
   {
    "duration": 6,
    "start_time": "2023-05-04T18:09:37.061Z"
   },
   {
    "duration": 67,
    "start_time": "2023-05-04T18:10:26.068Z"
   },
   {
    "duration": 42,
    "start_time": "2023-05-04T18:10:30.870Z"
   },
   {
    "duration": 1140,
    "start_time": "2023-05-04T18:10:35.774Z"
   },
   {
    "duration": 158,
    "start_time": "2023-05-04T18:10:36.916Z"
   },
   {
    "duration": 3,
    "start_time": "2023-05-04T18:10:37.075Z"
   },
   {
    "duration": 19,
    "start_time": "2023-05-04T18:10:37.081Z"
   },
   {
    "duration": 19,
    "start_time": "2023-05-04T18:10:37.101Z"
   },
   {
    "duration": 33,
    "start_time": "2023-05-04T18:10:37.123Z"
   },
   {
    "duration": 77,
    "start_time": "2023-05-04T18:10:37.158Z"
   },
   {
    "duration": 32,
    "start_time": "2023-05-04T18:10:37.237Z"
   },
   {
    "duration": 13,
    "start_time": "2023-05-04T18:10:37.271Z"
   },
   {
    "duration": 39,
    "start_time": "2023-05-04T18:10:37.289Z"
   },
   {
    "duration": 483,
    "start_time": "2023-05-04T18:10:37.355Z"
   },
   {
    "duration": 55,
    "start_time": "2023-05-04T18:10:37.839Z"
   },
   {
    "duration": 13,
    "start_time": "2023-05-04T18:10:37.895Z"
   },
   {
    "duration": 47,
    "start_time": "2023-05-04T18:10:37.909Z"
   },
   {
    "duration": 58,
    "start_time": "2023-05-04T18:10:37.958Z"
   },
   {
    "duration": 62,
    "start_time": "2023-05-04T18:10:38.018Z"
   },
   {
    "duration": 54,
    "start_time": "2023-05-04T18:10:38.082Z"
   },
   {
    "duration": 20,
    "start_time": "2023-05-04T18:10:38.138Z"
   },
   {
    "duration": 33,
    "start_time": "2023-05-04T18:10:38.159Z"
   },
   {
    "duration": 41,
    "start_time": "2023-05-04T18:10:38.194Z"
   },
   {
    "duration": 19,
    "start_time": "2023-05-04T18:10:38.237Z"
   },
   {
    "duration": 944,
    "start_time": "2023-05-04T18:10:38.258Z"
   },
   {
    "duration": 8,
    "start_time": "2023-05-04T18:10:39.204Z"
   },
   {
    "duration": 11,
    "start_time": "2023-05-04T18:10:39.213Z"
   },
   {
    "duration": 104,
    "start_time": "2023-05-04T18:10:39.225Z"
   },
   {
    "duration": 0,
    "start_time": "2023-05-04T18:10:39.330Z"
   },
   {
    "duration": 0,
    "start_time": "2023-05-04T18:10:39.331Z"
   },
   {
    "duration": 0,
    "start_time": "2023-05-04T18:10:39.332Z"
   },
   {
    "duration": 0,
    "start_time": "2023-05-04T18:10:39.333Z"
   },
   {
    "duration": 0,
    "start_time": "2023-05-04T18:10:39.334Z"
   },
   {
    "duration": 0,
    "start_time": "2023-05-04T18:10:39.336Z"
   },
   {
    "duration": 0,
    "start_time": "2023-05-04T18:10:39.337Z"
   },
   {
    "duration": 37,
    "start_time": "2023-05-04T18:15:38.478Z"
   },
   {
    "duration": 11,
    "start_time": "2023-05-04T18:15:41.369Z"
   },
   {
    "duration": 44,
    "start_time": "2023-05-04T18:19:48.634Z"
   },
   {
    "duration": 6,
    "start_time": "2023-05-04T18:19:53.906Z"
   },
   {
    "duration": 4,
    "start_time": "2023-05-04T18:20:37.659Z"
   },
   {
    "duration": 4,
    "start_time": "2023-05-04T18:20:44.708Z"
   },
   {
    "duration": 1141,
    "start_time": "2023-05-04T18:21:10.050Z"
   },
   {
    "duration": 151,
    "start_time": "2023-05-04T18:21:11.193Z"
   },
   {
    "duration": 10,
    "start_time": "2023-05-04T18:21:11.345Z"
   },
   {
    "duration": 34,
    "start_time": "2023-05-04T18:21:11.357Z"
   },
   {
    "duration": 18,
    "start_time": "2023-05-04T18:21:11.394Z"
   },
   {
    "duration": 6,
    "start_time": "2023-05-04T18:21:11.414Z"
   },
   {
    "duration": 83,
    "start_time": "2023-05-04T18:21:11.421Z"
   },
   {
    "duration": 17,
    "start_time": "2023-05-04T18:21:11.505Z"
   },
   {
    "duration": 9,
    "start_time": "2023-05-04T18:21:11.523Z"
   },
   {
    "duration": 41,
    "start_time": "2023-05-04T18:21:11.534Z"
   },
   {
    "duration": 496,
    "start_time": "2023-05-04T18:21:11.577Z"
   },
   {
    "duration": 51,
    "start_time": "2023-05-04T18:21:12.074Z"
   },
   {
    "duration": 40,
    "start_time": "2023-05-04T18:21:12.127Z"
   },
   {
    "duration": 34,
    "start_time": "2023-05-04T18:21:12.170Z"
   },
   {
    "duration": 81,
    "start_time": "2023-05-04T18:21:12.206Z"
   },
   {
    "duration": 48,
    "start_time": "2023-05-04T18:21:12.288Z"
   },
   {
    "duration": 65,
    "start_time": "2023-05-04T18:21:12.338Z"
   },
   {
    "duration": 4,
    "start_time": "2023-05-04T18:21:12.405Z"
   },
   {
    "duration": 32,
    "start_time": "2023-05-04T18:21:12.411Z"
   },
   {
    "duration": 51,
    "start_time": "2023-05-04T18:21:12.444Z"
   },
   {
    "duration": 5,
    "start_time": "2023-05-04T18:21:12.497Z"
   },
   {
    "duration": 69,
    "start_time": "2023-05-04T18:21:12.504Z"
   },
   {
    "duration": 3,
    "start_time": "2023-05-04T18:21:12.575Z"
   },
   {
    "duration": 1086,
    "start_time": "2023-05-04T18:21:12.580Z"
   },
   {
    "duration": 10,
    "start_time": "2023-05-04T18:21:13.668Z"
   },
   {
    "duration": 10,
    "start_time": "2023-05-04T18:21:13.680Z"
   },
   {
    "duration": 128,
    "start_time": "2023-05-04T18:21:13.692Z"
   },
   {
    "duration": 0,
    "start_time": "2023-05-04T18:21:13.822Z"
   },
   {
    "duration": 0,
    "start_time": "2023-05-04T18:21:13.824Z"
   },
   {
    "duration": 0,
    "start_time": "2023-05-04T18:21:13.826Z"
   },
   {
    "duration": 0,
    "start_time": "2023-05-04T18:21:13.827Z"
   },
   {
    "duration": 0,
    "start_time": "2023-05-04T18:21:13.828Z"
   },
   {
    "duration": 0,
    "start_time": "2023-05-04T18:21:13.830Z"
   },
   {
    "duration": 0,
    "start_time": "2023-05-04T18:21:13.831Z"
   },
   {
    "duration": 4,
    "start_time": "2023-05-04T18:21:41.760Z"
   },
   {
    "duration": 6,
    "start_time": "2023-05-04T18:21:46.172Z"
   },
   {
    "duration": 72,
    "start_time": "2023-05-04T18:22:26.291Z"
   },
   {
    "duration": 56,
    "start_time": "2023-05-04T18:22:34.477Z"
   },
   {
    "duration": 54,
    "start_time": "2023-05-04T18:29:33.027Z"
   },
   {
    "duration": 52,
    "start_time": "2023-05-04T18:34:24.132Z"
   },
   {
    "duration": 25,
    "start_time": "2023-05-04T18:35:12.762Z"
   },
   {
    "duration": 23,
    "start_time": "2023-05-04T18:39:10.195Z"
   },
   {
    "duration": 823,
    "start_time": "2023-05-04T18:48:29.133Z"
   },
   {
    "duration": 7,
    "start_time": "2023-05-04T18:49:09.042Z"
   },
   {
    "duration": 7,
    "start_time": "2023-05-04T18:50:15.339Z"
   },
   {
    "duration": 1388,
    "start_time": "2023-05-04T18:50:21.788Z"
   },
   {
    "duration": 70,
    "start_time": "2023-05-04T18:50:46.564Z"
   },
   {
    "duration": 769,
    "start_time": "2023-05-04T18:51:19.447Z"
   },
   {
    "duration": 10,
    "start_time": "2023-05-04T18:51:30.644Z"
   },
   {
    "duration": 736,
    "start_time": "2023-05-04T18:51:41.022Z"
   },
   {
    "duration": 7,
    "start_time": "2023-05-04T18:51:48.022Z"
   },
   {
    "duration": 735,
    "start_time": "2023-05-04T18:51:56.537Z"
   },
   {
    "duration": 19,
    "start_time": "2023-05-04T18:52:05.671Z"
   },
   {
    "duration": 15,
    "start_time": "2023-05-04T18:52:15.421Z"
   },
   {
    "duration": 801,
    "start_time": "2023-05-04T18:52:33.997Z"
   },
   {
    "duration": 839,
    "start_time": "2023-05-04T18:52:36.739Z"
   },
   {
    "duration": 9,
    "start_time": "2023-05-04T18:52:51.186Z"
   },
   {
    "duration": 85,
    "start_time": "2023-05-04T18:53:21.025Z"
   },
   {
    "duration": 6,
    "start_time": "2023-05-04T18:53:39.973Z"
   },
   {
    "duration": 6,
    "start_time": "2023-05-04T18:53:55.086Z"
   },
   {
    "duration": 4,
    "start_time": "2023-05-04T18:54:12.473Z"
   },
   {
    "duration": 7,
    "start_time": "2023-05-04T18:54:20.038Z"
   },
   {
    "duration": 4,
    "start_time": "2023-05-04T18:56:41.648Z"
   },
   {
    "duration": 67,
    "start_time": "2023-05-04T18:56:43.431Z"
   },
   {
    "duration": 774,
    "start_time": "2023-05-04T18:56:46.451Z"
   },
   {
    "duration": 5,
    "start_time": "2023-05-04T18:56:53.759Z"
   },
   {
    "duration": 63,
    "start_time": "2023-05-04T18:56:59.775Z"
   },
   {
    "duration": 64,
    "start_time": "2023-05-04T18:57:19.735Z"
   },
   {
    "duration": 79,
    "start_time": "2023-05-04T18:57:33.980Z"
   },
   {
    "duration": 60,
    "start_time": "2023-05-04T18:58:08.114Z"
   },
   {
    "duration": 3,
    "start_time": "2023-05-04T18:58:11.841Z"
   },
   {
    "duration": 73,
    "start_time": "2023-05-04T18:58:13.054Z"
   },
   {
    "duration": 72,
    "start_time": "2023-05-04T18:58:25.337Z"
   },
   {
    "duration": 5,
    "start_time": "2023-05-04T18:58:32.888Z"
   },
   {
    "duration": 3,
    "start_time": "2023-05-04T18:58:40.463Z"
   },
   {
    "duration": 62,
    "start_time": "2023-05-04T18:59:06.281Z"
   },
   {
    "duration": 77,
    "start_time": "2023-05-04T18:59:14.635Z"
   },
   {
    "duration": 4,
    "start_time": "2023-05-04T18:59:40.043Z"
   },
   {
    "duration": 61,
    "start_time": "2023-05-04T18:59:47.377Z"
   },
   {
    "duration": 10,
    "start_time": "2023-05-04T18:59:59.738Z"
   },
   {
    "duration": 794,
    "start_time": "2023-05-04T19:00:09.689Z"
   },
   {
    "duration": 852,
    "start_time": "2023-05-04T19:00:25.930Z"
   },
   {
    "duration": 10,
    "start_time": "2023-05-04T19:00:34.858Z"
   },
   {
    "duration": 5,
    "start_time": "2023-05-04T19:00:42.530Z"
   },
   {
    "duration": 6,
    "start_time": "2023-05-04T19:00:47.154Z"
   },
   {
    "duration": 792,
    "start_time": "2023-05-04T19:01:03.186Z"
   },
   {
    "duration": 836,
    "start_time": "2023-05-04T19:01:06.161Z"
   },
   {
    "duration": 6,
    "start_time": "2023-05-04T19:01:10.258Z"
   },
   {
    "duration": 68,
    "start_time": "2023-05-04T19:01:21.763Z"
   },
   {
    "duration": 88,
    "start_time": "2023-05-04T19:18:10.131Z"
   },
   {
    "duration": 5,
    "start_time": "2023-05-04T19:19:31.380Z"
   },
   {
    "duration": 12,
    "start_time": "2023-05-04T19:19:54.122Z"
   },
   {
    "duration": 6,
    "start_time": "2023-05-04T19:20:02.565Z"
   },
   {
    "duration": 814,
    "start_time": "2023-05-04T19:20:37.309Z"
   },
   {
    "duration": 762,
    "start_time": "2023-05-04T19:20:38.927Z"
   },
   {
    "duration": 6,
    "start_time": "2023-05-04T19:21:09.109Z"
   },
   {
    "duration": 730,
    "start_time": "2023-05-04T19:21:15.470Z"
   },
   {
    "duration": 25,
    "start_time": "2023-05-04T19:22:21.663Z"
   },
   {
    "duration": 6,
    "start_time": "2023-05-04T19:22:25.860Z"
   },
   {
    "duration": 8,
    "start_time": "2023-05-04T19:22:37.135Z"
   },
   {
    "duration": 52,
    "start_time": "2023-05-04T19:23:03.627Z"
   },
   {
    "duration": 888,
    "start_time": "2023-05-04T19:23:08.852Z"
   },
   {
    "duration": 27,
    "start_time": "2023-05-04T19:24:09.095Z"
   },
   {
    "duration": 23,
    "start_time": "2023-05-04T19:24:21.145Z"
   },
   {
    "duration": 5,
    "start_time": "2023-05-04T19:24:21.856Z"
   },
   {
    "duration": 588,
    "start_time": "2023-05-04T19:24:36.301Z"
   },
   {
    "duration": 4,
    "start_time": "2023-05-04T19:24:40.624Z"
   },
   {
    "duration": 5,
    "start_time": "2023-05-04T19:24:46.857Z"
   },
   {
    "duration": 44,
    "start_time": "2023-05-04T19:25:48.970Z"
   },
   {
    "duration": 4,
    "start_time": "2023-05-04T19:25:54.803Z"
   },
   {
    "duration": 52,
    "start_time": "2023-05-04T19:26:08.169Z"
   },
   {
    "duration": 55,
    "start_time": "2023-05-04T19:26:40.195Z"
   },
   {
    "duration": 49,
    "start_time": "2023-05-04T19:26:56.048Z"
   },
   {
    "duration": 56,
    "start_time": "2023-05-04T19:28:51.203Z"
   },
   {
    "duration": 71,
    "start_time": "2023-05-04T19:30:18.509Z"
   },
   {
    "duration": 9,
    "start_time": "2023-05-04T19:30:20.275Z"
   },
   {
    "duration": 1162,
    "start_time": "2023-05-04T19:31:29.389Z"
   },
   {
    "duration": 194,
    "start_time": "2023-05-04T19:31:30.553Z"
   },
   {
    "duration": 7,
    "start_time": "2023-05-04T19:31:30.749Z"
   },
   {
    "duration": 67,
    "start_time": "2023-05-04T19:31:30.759Z"
   },
   {
    "duration": 41,
    "start_time": "2023-05-04T19:31:30.828Z"
   },
   {
    "duration": 47,
    "start_time": "2023-05-04T19:31:30.871Z"
   },
   {
    "duration": 136,
    "start_time": "2023-05-04T19:31:30.919Z"
   },
   {
    "duration": 18,
    "start_time": "2023-05-04T19:31:31.056Z"
   },
   {
    "duration": 39,
    "start_time": "2023-05-04T19:31:31.076Z"
   },
   {
    "duration": 80,
    "start_time": "2023-05-04T19:31:31.118Z"
   },
   {
    "duration": 1158,
    "start_time": "2023-05-04T19:31:31.200Z"
   },
   {
    "duration": 105,
    "start_time": "2023-05-04T19:31:32.359Z"
   },
   {
    "duration": 14,
    "start_time": "2023-05-04T19:31:32.466Z"
   },
   {
    "duration": 87,
    "start_time": "2023-05-04T19:31:32.482Z"
   },
   {
    "duration": 110,
    "start_time": "2023-05-04T19:31:32.571Z"
   },
   {
    "duration": 100,
    "start_time": "2023-05-04T19:31:32.682Z"
   },
   {
    "duration": 119,
    "start_time": "2023-05-04T19:31:32.783Z"
   },
   {
    "duration": 4,
    "start_time": "2023-05-04T19:31:32.904Z"
   },
   {
    "duration": 28,
    "start_time": "2023-05-04T19:31:32.956Z"
   },
   {
    "duration": 25,
    "start_time": "2023-05-04T19:31:32.985Z"
   },
   {
    "duration": 67,
    "start_time": "2023-05-04T19:31:33.012Z"
   },
   {
    "duration": 54,
    "start_time": "2023-05-04T19:31:33.081Z"
   },
   {
    "duration": 87,
    "start_time": "2023-05-04T19:31:33.137Z"
   },
   {
    "duration": 3,
    "start_time": "2023-05-04T19:31:33.226Z"
   },
   {
    "duration": 108,
    "start_time": "2023-05-04T19:31:33.231Z"
   },
   {
    "duration": 0,
    "start_time": "2023-05-04T19:31:33.341Z"
   },
   {
    "duration": 0,
    "start_time": "2023-05-04T19:31:33.342Z"
   },
   {
    "duration": 0,
    "start_time": "2023-05-04T19:31:33.344Z"
   },
   {
    "duration": 0,
    "start_time": "2023-05-04T19:31:33.356Z"
   },
   {
    "duration": 0,
    "start_time": "2023-05-04T19:31:33.358Z"
   },
   {
    "duration": 0,
    "start_time": "2023-05-04T19:31:33.359Z"
   },
   {
    "duration": 0,
    "start_time": "2023-05-04T19:31:33.361Z"
   },
   {
    "duration": 0,
    "start_time": "2023-05-04T19:31:33.362Z"
   },
   {
    "duration": 0,
    "start_time": "2023-05-04T19:31:33.364Z"
   },
   {
    "duration": 0,
    "start_time": "2023-05-04T19:31:33.365Z"
   },
   {
    "duration": 5,
    "start_time": "2023-05-04T19:32:17.485Z"
   },
   {
    "duration": 9,
    "start_time": "2023-05-04T19:32:33.365Z"
   },
   {
    "duration": 65,
    "start_time": "2023-05-04T19:32:39.708Z"
   },
   {
    "duration": 76,
    "start_time": "2023-05-04T19:32:49.286Z"
   },
   {
    "duration": 9,
    "start_time": "2023-05-04T19:32:55.794Z"
   },
   {
    "duration": 6,
    "start_time": "2023-05-04T19:32:59.918Z"
   },
   {
    "duration": 12,
    "start_time": "2023-05-04T19:33:12.005Z"
   },
   {
    "duration": 1011,
    "start_time": "2023-05-04T19:33:18.741Z"
   },
   {
    "duration": 9,
    "start_time": "2023-05-04T19:33:22.957Z"
   },
   {
    "duration": 12,
    "start_time": "2023-05-04T19:33:23.935Z"
   },
   {
    "duration": 64,
    "start_time": "2023-05-04T19:33:25.482Z"
   },
   {
    "duration": 5,
    "start_time": "2023-05-04T19:33:26.189Z"
   },
   {
    "duration": 4,
    "start_time": "2023-05-04T19:33:26.611Z"
   },
   {
    "duration": 13,
    "start_time": "2023-05-04T19:33:27.461Z"
   },
   {
    "duration": 9,
    "start_time": "2023-05-04T19:33:50.077Z"
   },
   {
    "duration": 5,
    "start_time": "2023-05-04T19:34:53.078Z"
   },
   {
    "duration": 13,
    "start_time": "2023-05-04T19:35:25.990Z"
   },
   {
    "duration": 15,
    "start_time": "2023-05-04T19:35:35.623Z"
   },
   {
    "duration": 5,
    "start_time": "2023-05-04T19:40:01.658Z"
   },
   {
    "duration": 50,
    "start_time": "2023-05-04T19:40:16.705Z"
   },
   {
    "duration": 10,
    "start_time": "2023-05-04T19:47:04.294Z"
   },
   {
    "duration": 10,
    "start_time": "2023-05-04T19:47:14.911Z"
   },
   {
    "duration": 13,
    "start_time": "2023-05-04T19:47:47.007Z"
   },
   {
    "duration": 11,
    "start_time": "2023-05-04T19:47:51.374Z"
   },
   {
    "duration": 1059,
    "start_time": "2023-05-04T19:47:59.673Z"
   },
   {
    "duration": 158,
    "start_time": "2023-05-04T19:48:00.735Z"
   },
   {
    "duration": 3,
    "start_time": "2023-05-04T19:48:00.894Z"
   },
   {
    "duration": 78,
    "start_time": "2023-05-04T19:48:00.899Z"
   },
   {
    "duration": 17,
    "start_time": "2023-05-04T19:48:00.979Z"
   },
   {
    "duration": 41,
    "start_time": "2023-05-04T19:48:00.998Z"
   },
   {
    "duration": 123,
    "start_time": "2023-05-04T19:48:01.041Z"
   },
   {
    "duration": 16,
    "start_time": "2023-05-04T19:48:01.166Z"
   },
   {
    "duration": 41,
    "start_time": "2023-05-04T19:48:01.184Z"
   },
   {
    "duration": 38,
    "start_time": "2023-05-04T19:48:01.227Z"
   },
   {
    "duration": 517,
    "start_time": "2023-05-04T19:48:01.266Z"
   },
   {
    "duration": 54,
    "start_time": "2023-05-04T19:48:01.785Z"
   },
   {
    "duration": 28,
    "start_time": "2023-05-04T19:48:01.840Z"
   },
   {
    "duration": 75,
    "start_time": "2023-05-04T19:48:01.869Z"
   },
   {
    "duration": 65,
    "start_time": "2023-05-04T19:48:01.946Z"
   },
   {
    "duration": 57,
    "start_time": "2023-05-04T19:48:02.013Z"
   },
   {
    "duration": 73,
    "start_time": "2023-05-04T19:48:02.072Z"
   },
   {
    "duration": 54,
    "start_time": "2023-05-04T19:48:02.147Z"
   },
   {
    "duration": 58,
    "start_time": "2023-05-04T19:48:02.203Z"
   },
   {
    "duration": 19,
    "start_time": "2023-05-04T19:48:02.263Z"
   },
   {
    "duration": 100,
    "start_time": "2023-05-04T19:48:02.284Z"
   },
   {
    "duration": 44,
    "start_time": "2023-05-04T19:48:02.386Z"
   },
   {
    "duration": 61,
    "start_time": "2023-05-04T19:48:02.432Z"
   },
   {
    "duration": 2,
    "start_time": "2023-05-04T19:48:02.495Z"
   },
   {
    "duration": 129,
    "start_time": "2023-05-04T19:48:02.499Z"
   },
   {
    "duration": 0,
    "start_time": "2023-05-04T19:48:02.629Z"
   },
   {
    "duration": 0,
    "start_time": "2023-05-04T19:48:02.630Z"
   },
   {
    "duration": 0,
    "start_time": "2023-05-04T19:48:02.632Z"
   },
   {
    "duration": 0,
    "start_time": "2023-05-04T19:48:02.633Z"
   },
   {
    "duration": 0,
    "start_time": "2023-05-04T19:48:02.635Z"
   },
   {
    "duration": 0,
    "start_time": "2023-05-04T19:48:02.636Z"
   },
   {
    "duration": 0,
    "start_time": "2023-05-04T19:48:02.637Z"
   },
   {
    "duration": 0,
    "start_time": "2023-05-04T19:48:02.638Z"
   },
   {
    "duration": 0,
    "start_time": "2023-05-04T19:48:02.656Z"
   },
   {
    "duration": 6,
    "start_time": "2023-05-04T19:48:16.685Z"
   },
   {
    "duration": 54,
    "start_time": "2023-05-04T19:48:20.007Z"
   },
   {
    "duration": 5,
    "start_time": "2023-05-04T19:48:31.383Z"
   },
   {
    "duration": 1022,
    "start_time": "2023-05-04T19:48:54.861Z"
   },
   {
    "duration": 9,
    "start_time": "2023-05-04T19:48:55.885Z"
   },
   {
    "duration": 8,
    "start_time": "2023-05-04T19:48:56.192Z"
   },
   {
    "duration": 54,
    "start_time": "2023-05-04T19:48:57.951Z"
   },
   {
    "duration": 6,
    "start_time": "2023-05-04T19:48:58.823Z"
   },
   {
    "duration": 10,
    "start_time": "2023-05-04T19:48:59.919Z"
   },
   {
    "duration": 10,
    "start_time": "2023-05-04T19:49:01.605Z"
   },
   {
    "duration": 10,
    "start_time": "2023-05-04T19:49:02.334Z"
   },
   {
    "duration": 12,
    "start_time": "2023-05-04T19:49:02.967Z"
   },
   {
    "duration": 1114,
    "start_time": "2023-05-05T06:03:41.044Z"
   },
   {
    "duration": 196,
    "start_time": "2023-05-05T06:03:42.160Z"
   },
   {
    "duration": 3,
    "start_time": "2023-05-05T06:03:42.358Z"
   },
   {
    "duration": 33,
    "start_time": "2023-05-05T06:03:42.363Z"
   },
   {
    "duration": 20,
    "start_time": "2023-05-05T06:03:42.398Z"
   },
   {
    "duration": 5,
    "start_time": "2023-05-05T06:03:42.420Z"
   },
   {
    "duration": 117,
    "start_time": "2023-05-05T06:03:42.428Z"
   },
   {
    "duration": 19,
    "start_time": "2023-05-05T06:03:42.547Z"
   },
   {
    "duration": 34,
    "start_time": "2023-05-05T06:03:42.567Z"
   },
   {
    "duration": 32,
    "start_time": "2023-05-05T06:03:42.605Z"
   },
   {
    "duration": 607,
    "start_time": "2023-05-05T06:03:42.639Z"
   },
   {
    "duration": 69,
    "start_time": "2023-05-05T06:03:43.248Z"
   },
   {
    "duration": 14,
    "start_time": "2023-05-05T06:03:43.318Z"
   },
   {
    "duration": 45,
    "start_time": "2023-05-05T06:03:43.333Z"
   },
   {
    "duration": 68,
    "start_time": "2023-05-05T06:03:43.380Z"
   },
   {
    "duration": 63,
    "start_time": "2023-05-05T06:03:43.450Z"
   },
   {
    "duration": 53,
    "start_time": "2023-05-05T06:03:43.514Z"
   },
   {
    "duration": 20,
    "start_time": "2023-05-05T06:03:43.569Z"
   },
   {
    "duration": 35,
    "start_time": "2023-05-05T06:03:43.591Z"
   },
   {
    "duration": 6,
    "start_time": "2023-05-05T06:03:43.628Z"
   },
   {
    "duration": 67,
    "start_time": "2023-05-05T06:03:43.635Z"
   },
   {
    "duration": 54,
    "start_time": "2023-05-05T06:03:43.703Z"
   },
   {
    "duration": 87,
    "start_time": "2023-05-05T06:03:43.759Z"
   },
   {
    "duration": 2,
    "start_time": "2023-05-05T06:03:43.848Z"
   },
   {
    "duration": 138,
    "start_time": "2023-05-05T06:03:43.852Z"
   },
   {
    "duration": 0,
    "start_time": "2023-05-05T06:03:43.998Z"
   },
   {
    "duration": 0,
    "start_time": "2023-05-05T06:03:44.003Z"
   },
   {
    "duration": 0,
    "start_time": "2023-05-05T06:03:44.004Z"
   },
   {
    "duration": 0,
    "start_time": "2023-05-05T06:03:44.005Z"
   },
   {
    "duration": 0,
    "start_time": "2023-05-05T06:03:44.007Z"
   },
   {
    "duration": 0,
    "start_time": "2023-05-05T06:03:44.008Z"
   },
   {
    "duration": 0,
    "start_time": "2023-05-05T06:03:44.009Z"
   },
   {
    "duration": 0,
    "start_time": "2023-05-05T06:03:44.010Z"
   },
   {
    "duration": 0,
    "start_time": "2023-05-05T06:03:44.011Z"
   },
   {
    "duration": 101,
    "start_time": "2023-05-05T06:06:18.873Z"
   },
   {
    "duration": 82,
    "start_time": "2023-05-05T06:06:21.750Z"
   },
   {
    "duration": 1231,
    "start_time": "2023-05-05T07:40:54.160Z"
   },
   {
    "duration": 609,
    "start_time": "2023-05-05T07:40:55.393Z"
   },
   {
    "duration": 3,
    "start_time": "2023-05-05T07:40:56.003Z"
   },
   {
    "duration": 32,
    "start_time": "2023-05-05T07:40:56.008Z"
   },
   {
    "duration": 17,
    "start_time": "2023-05-05T07:40:56.042Z"
   },
   {
    "duration": 25,
    "start_time": "2023-05-05T07:40:56.061Z"
   },
   {
    "duration": 81,
    "start_time": "2023-05-05T07:40:56.088Z"
   },
   {
    "duration": 19,
    "start_time": "2023-05-05T07:40:56.171Z"
   },
   {
    "duration": 23,
    "start_time": "2023-05-05T07:40:56.191Z"
   },
   {
    "duration": 46,
    "start_time": "2023-05-05T07:40:56.216Z"
   },
   {
    "duration": 510,
    "start_time": "2023-05-05T07:40:56.264Z"
   },
   {
    "duration": 47,
    "start_time": "2023-05-05T07:40:56.776Z"
   },
   {
    "duration": 13,
    "start_time": "2023-05-05T07:40:56.825Z"
   },
   {
    "duration": 47,
    "start_time": "2023-05-05T07:40:56.839Z"
   },
   {
    "duration": 53,
    "start_time": "2023-05-05T07:40:56.887Z"
   },
   {
    "duration": 59,
    "start_time": "2023-05-05T07:40:56.941Z"
   },
   {
    "duration": 53,
    "start_time": "2023-05-05T07:40:57.001Z"
   },
   {
    "duration": 17,
    "start_time": "2023-05-05T07:40:57.055Z"
   },
   {
    "duration": 68,
    "start_time": "2023-05-05T07:40:57.073Z"
   },
   {
    "duration": 19,
    "start_time": "2023-05-05T07:40:57.142Z"
   },
   {
    "duration": 64,
    "start_time": "2023-05-05T07:40:57.163Z"
   },
   {
    "duration": 48,
    "start_time": "2023-05-05T07:40:57.229Z"
   },
   {
    "duration": 60,
    "start_time": "2023-05-05T07:40:57.279Z"
   },
   {
    "duration": 2,
    "start_time": "2023-05-05T07:40:57.340Z"
   },
   {
    "duration": 14,
    "start_time": "2023-05-05T07:40:57.343Z"
   },
   {
    "duration": 75,
    "start_time": "2023-05-05T07:40:57.359Z"
   },
   {
    "duration": 4,
    "start_time": "2023-05-05T07:40:57.435Z"
   },
   {
    "duration": 997,
    "start_time": "2023-05-05T07:40:57.442Z"
   },
   {
    "duration": 8,
    "start_time": "2023-05-05T07:40:58.440Z"
   },
   {
    "duration": 13,
    "start_time": "2023-05-05T07:40:58.450Z"
   },
   {
    "duration": 23,
    "start_time": "2023-05-05T07:40:58.472Z"
   },
   {
    "duration": 20,
    "start_time": "2023-05-05T07:40:58.496Z"
   },
   {
    "duration": 24,
    "start_time": "2023-05-05T07:40:58.518Z"
   },
   {
    "duration": 19,
    "start_time": "2023-05-05T07:40:58.544Z"
   },
   {
    "duration": 8,
    "start_time": "2023-05-05T07:43:01.707Z"
   },
   {
    "duration": 79,
    "start_time": "2023-05-05T07:51:53.123Z"
   },
   {
    "duration": 68,
    "start_time": "2023-05-05T07:52:12.177Z"
   },
   {
    "duration": 76,
    "start_time": "2023-05-05T07:52:25.322Z"
   },
   {
    "duration": 13,
    "start_time": "2023-05-05T07:52:51.094Z"
   },
   {
    "duration": 83,
    "start_time": "2023-05-05T07:54:13.358Z"
   },
   {
    "duration": 89,
    "start_time": "2023-05-05T07:54:36.146Z"
   },
   {
    "duration": 74,
    "start_time": "2023-05-05T07:55:08.341Z"
   },
   {
    "duration": 86,
    "start_time": "2023-05-05T07:57:43.233Z"
   },
   {
    "duration": 80,
    "start_time": "2023-05-05T07:57:53.610Z"
   },
   {
    "duration": 99,
    "start_time": "2023-05-05T07:58:16.509Z"
   },
   {
    "duration": 572,
    "start_time": "2023-05-05T07:59:12.645Z"
   },
   {
    "duration": 303,
    "start_time": "2023-05-05T08:03:21.328Z"
   },
   {
    "duration": 40,
    "start_time": "2023-05-05T08:04:49.322Z"
   },
   {
    "duration": 143,
    "start_time": "2023-05-05T08:06:19.438Z"
   },
   {
    "duration": 9,
    "start_time": "2023-05-05T08:07:20.958Z"
   },
   {
    "duration": 10,
    "start_time": "2023-05-05T08:07:27.207Z"
   },
   {
    "duration": 10,
    "start_time": "2023-05-05T08:07:31.641Z"
   },
   {
    "duration": 988,
    "start_time": "2023-05-05T08:07:40.031Z"
   },
   {
    "duration": 151,
    "start_time": "2023-05-05T08:07:41.021Z"
   },
   {
    "duration": 3,
    "start_time": "2023-05-05T08:07:41.173Z"
   },
   {
    "duration": 28,
    "start_time": "2023-05-05T08:07:41.178Z"
   },
   {
    "duration": 18,
    "start_time": "2023-05-05T08:07:41.208Z"
   },
   {
    "duration": 17,
    "start_time": "2023-05-05T08:07:41.227Z"
   },
   {
    "duration": 75,
    "start_time": "2023-05-05T08:07:41.245Z"
   },
   {
    "duration": 84,
    "start_time": "2023-05-05T08:07:41.322Z"
   },
   {
    "duration": 4,
    "start_time": "2023-05-05T08:07:41.407Z"
   },
   {
    "duration": 69,
    "start_time": "2023-05-05T08:07:41.414Z"
   },
   {
    "duration": 17,
    "start_time": "2023-05-05T08:07:41.485Z"
   },
   {
    "duration": 9,
    "start_time": "2023-05-05T08:07:41.504Z"
   },
   {
    "duration": 26,
    "start_time": "2023-05-05T08:07:41.515Z"
   },
   {
    "duration": 634,
    "start_time": "2023-05-05T08:07:41.542Z"
   },
   {
    "duration": 46,
    "start_time": "2023-05-05T08:07:42.177Z"
   },
   {
    "duration": 16,
    "start_time": "2023-05-05T08:07:42.224Z"
   },
   {
    "duration": 57,
    "start_time": "2023-05-05T08:07:42.242Z"
   },
   {
    "duration": 46,
    "start_time": "2023-05-05T08:07:42.301Z"
   },
   {
    "duration": 4,
    "start_time": "2023-05-05T08:07:42.349Z"
   },
   {
    "duration": 34,
    "start_time": "2023-05-05T08:07:42.372Z"
   },
   {
    "duration": 807,
    "start_time": "2023-05-05T08:07:42.408Z"
   },
   {
    "duration": 360,
    "start_time": "2023-05-05T08:07:43.218Z"
   },
   {
    "duration": 0,
    "start_time": "2023-05-05T08:07:43.580Z"
   },
   {
    "duration": 0,
    "start_time": "2023-05-05T08:07:43.582Z"
   },
   {
    "duration": 0,
    "start_time": "2023-05-05T08:07:43.583Z"
   },
   {
    "duration": 0,
    "start_time": "2023-05-05T08:07:43.585Z"
   },
   {
    "duration": 0,
    "start_time": "2023-05-05T08:07:43.586Z"
   },
   {
    "duration": 0,
    "start_time": "2023-05-05T08:07:43.588Z"
   },
   {
    "duration": 0,
    "start_time": "2023-05-05T08:07:43.590Z"
   },
   {
    "duration": 0,
    "start_time": "2023-05-05T08:07:43.591Z"
   },
   {
    "duration": 0,
    "start_time": "2023-05-05T08:07:43.592Z"
   },
   {
    "duration": 0,
    "start_time": "2023-05-05T08:07:43.594Z"
   },
   {
    "duration": 0,
    "start_time": "2023-05-05T08:07:43.595Z"
   },
   {
    "duration": 0,
    "start_time": "2023-05-05T08:07:43.597Z"
   },
   {
    "duration": 0,
    "start_time": "2023-05-05T08:07:43.598Z"
   },
   {
    "duration": 0,
    "start_time": "2023-05-05T08:07:43.599Z"
   },
   {
    "duration": 1316,
    "start_time": "2023-05-05T17:11:17.714Z"
   },
   {
    "duration": 744,
    "start_time": "2023-05-05T17:11:19.033Z"
   },
   {
    "duration": 3,
    "start_time": "2023-05-05T17:11:21.430Z"
   },
   {
    "duration": 26,
    "start_time": "2023-05-05T17:11:21.924Z"
   },
   {
    "duration": 23,
    "start_time": "2023-05-05T17:11:22.774Z"
   },
   {
    "duration": 19,
    "start_time": "2023-05-05T17:11:23.794Z"
   },
   {
    "duration": 63,
    "start_time": "2023-05-05T17:11:25.344Z"
   },
   {
    "duration": 69,
    "start_time": "2023-05-05T17:11:26.435Z"
   },
   {
    "duration": 61,
    "start_time": "2023-05-05T17:11:27.163Z"
   },
   {
    "duration": 1173,
    "start_time": "2023-05-05T17:12:08.912Z"
   },
   {
    "duration": 170,
    "start_time": "2023-05-05T17:12:10.087Z"
   },
   {
    "duration": 3,
    "start_time": "2023-05-05T17:12:10.259Z"
   },
   {
    "duration": 35,
    "start_time": "2023-05-05T17:12:10.265Z"
   },
   {
    "duration": 26,
    "start_time": "2023-05-05T17:12:10.302Z"
   },
   {
    "duration": 19,
    "start_time": "2023-05-05T17:12:10.330Z"
   },
   {
    "duration": 84,
    "start_time": "2023-05-05T17:12:10.351Z"
   },
   {
    "duration": 77,
    "start_time": "2023-05-05T17:12:10.437Z"
   },
   {
    "duration": 5,
    "start_time": "2023-05-05T17:12:10.516Z"
   },
   {
    "duration": 92,
    "start_time": "2023-05-05T17:12:10.525Z"
   },
   {
    "duration": 19,
    "start_time": "2023-05-05T17:12:10.619Z"
   },
   {
    "duration": 10,
    "start_time": "2023-05-05T17:12:10.640Z"
   },
   {
    "duration": 60,
    "start_time": "2023-05-05T17:12:10.652Z"
   },
   {
    "duration": 532,
    "start_time": "2023-05-05T17:12:10.715Z"
   },
   {
    "duration": 41,
    "start_time": "2023-05-05T17:12:11.248Z"
   },
   {
    "duration": 28,
    "start_time": "2023-05-05T17:12:11.291Z"
   },
   {
    "duration": 55,
    "start_time": "2023-05-05T17:12:11.320Z"
   },
   {
    "duration": 49,
    "start_time": "2023-05-05T17:12:11.377Z"
   },
   {
    "duration": 5,
    "start_time": "2023-05-05T17:12:11.427Z"
   },
   {
    "duration": 33,
    "start_time": "2023-05-05T17:12:11.434Z"
   },
   {
    "duration": 704,
    "start_time": "2023-05-05T17:12:11.469Z"
   },
   {
    "duration": 247,
    "start_time": "2023-05-05T17:12:12.176Z"
   },
   {
    "duration": 0,
    "start_time": "2023-05-05T17:12:12.425Z"
   },
   {
    "duration": 0,
    "start_time": "2023-05-05T17:12:12.427Z"
   },
   {
    "duration": 0,
    "start_time": "2023-05-05T17:12:12.428Z"
   },
   {
    "duration": 0,
    "start_time": "2023-05-05T17:12:12.430Z"
   },
   {
    "duration": 0,
    "start_time": "2023-05-05T17:12:12.431Z"
   },
   {
    "duration": 0,
    "start_time": "2023-05-05T17:12:12.433Z"
   },
   {
    "duration": 0,
    "start_time": "2023-05-05T17:12:12.434Z"
   },
   {
    "duration": 0,
    "start_time": "2023-05-05T17:12:12.435Z"
   },
   {
    "duration": 0,
    "start_time": "2023-05-05T17:12:12.436Z"
   },
   {
    "duration": 0,
    "start_time": "2023-05-05T17:12:12.437Z"
   },
   {
    "duration": 0,
    "start_time": "2023-05-05T17:12:12.438Z"
   },
   {
    "duration": 0,
    "start_time": "2023-05-05T17:12:12.439Z"
   },
   {
    "duration": 0,
    "start_time": "2023-05-05T17:12:12.440Z"
   },
   {
    "duration": 0,
    "start_time": "2023-05-05T17:12:12.441Z"
   },
   {
    "duration": 59,
    "start_time": "2023-05-05T17:17:19.395Z"
   },
   {
    "duration": 1246,
    "start_time": "2023-05-05T17:17:23.707Z"
   },
   {
    "duration": 488,
    "start_time": "2023-05-05T17:17:24.955Z"
   },
   {
    "duration": 3,
    "start_time": "2023-05-05T17:17:25.445Z"
   },
   {
    "duration": 25,
    "start_time": "2023-05-05T17:17:25.449Z"
   },
   {
    "duration": 17,
    "start_time": "2023-05-05T17:17:25.476Z"
   },
   {
    "duration": 32,
    "start_time": "2023-05-05T17:17:25.495Z"
   },
   {
    "duration": 63,
    "start_time": "2023-05-05T17:17:25.529Z"
   },
   {
    "duration": 73,
    "start_time": "2023-05-05T17:17:25.593Z"
   },
   {
    "duration": 4,
    "start_time": "2023-05-05T17:17:25.668Z"
   },
   {
    "duration": 65,
    "start_time": "2023-05-05T17:17:25.674Z"
   },
   {
    "duration": 19,
    "start_time": "2023-05-05T17:17:25.749Z"
   },
   {
    "duration": 11,
    "start_time": "2023-05-05T17:17:25.769Z"
   },
   {
    "duration": 25,
    "start_time": "2023-05-05T17:17:25.781Z"
   },
   {
    "duration": 523,
    "start_time": "2023-05-05T17:17:25.808Z"
   },
   {
    "duration": 42,
    "start_time": "2023-05-05T17:17:26.333Z"
   },
   {
    "duration": 12,
    "start_time": "2023-05-05T17:17:26.377Z"
   },
   {
    "duration": 29,
    "start_time": "2023-05-05T17:17:26.390Z"
   },
   {
    "duration": 69,
    "start_time": "2023-05-05T17:17:26.421Z"
   },
   {
    "duration": 4,
    "start_time": "2023-05-05T17:17:26.491Z"
   },
   {
    "duration": 45,
    "start_time": "2023-05-05T17:17:26.497Z"
   },
   {
    "duration": 806,
    "start_time": "2023-05-05T17:17:26.544Z"
   },
   {
    "duration": 312,
    "start_time": "2023-05-05T17:17:27.352Z"
   },
   {
    "duration": 0,
    "start_time": "2023-05-05T17:17:27.666Z"
   },
   {
    "duration": 0,
    "start_time": "2023-05-05T17:17:27.667Z"
   },
   {
    "duration": 0,
    "start_time": "2023-05-05T17:17:27.668Z"
   },
   {
    "duration": 0,
    "start_time": "2023-05-05T17:17:27.669Z"
   },
   {
    "duration": 0,
    "start_time": "2023-05-05T17:17:27.669Z"
   },
   {
    "duration": 0,
    "start_time": "2023-05-05T17:17:27.670Z"
   },
   {
    "duration": 0,
    "start_time": "2023-05-05T17:17:27.671Z"
   },
   {
    "duration": 0,
    "start_time": "2023-05-05T17:17:27.672Z"
   },
   {
    "duration": 0,
    "start_time": "2023-05-05T17:17:27.672Z"
   },
   {
    "duration": 0,
    "start_time": "2023-05-05T17:17:27.673Z"
   },
   {
    "duration": 0,
    "start_time": "2023-05-05T17:17:27.674Z"
   },
   {
    "duration": 0,
    "start_time": "2023-05-05T17:17:27.675Z"
   },
   {
    "duration": 0,
    "start_time": "2023-05-05T17:17:27.675Z"
   },
   {
    "duration": 0,
    "start_time": "2023-05-05T17:17:27.676Z"
   },
   {
    "duration": 4,
    "start_time": "2023-05-05T17:17:49.120Z"
   },
   {
    "duration": 1027,
    "start_time": "2023-05-05T17:18:22.582Z"
   },
   {
    "duration": 155,
    "start_time": "2023-05-05T17:18:23.612Z"
   },
   {
    "duration": 3,
    "start_time": "2023-05-05T17:18:23.768Z"
   },
   {
    "duration": 26,
    "start_time": "2023-05-05T17:18:23.773Z"
   },
   {
    "duration": 34,
    "start_time": "2023-05-05T17:18:23.801Z"
   },
   {
    "duration": 22,
    "start_time": "2023-05-05T17:18:23.836Z"
   },
   {
    "duration": 61,
    "start_time": "2023-05-05T17:18:23.860Z"
   },
   {
    "duration": 68,
    "start_time": "2023-05-05T17:18:23.923Z"
   },
   {
    "duration": 6,
    "start_time": "2023-05-05T17:18:23.993Z"
   },
   {
    "duration": 87,
    "start_time": "2023-05-05T17:18:24.002Z"
   },
   {
    "duration": 20,
    "start_time": "2023-05-05T17:18:24.091Z"
   },
   {
    "duration": 15,
    "start_time": "2023-05-05T17:18:24.113Z"
   },
   {
    "duration": 35,
    "start_time": "2023-05-05T17:18:24.129Z"
   },
   {
    "duration": 535,
    "start_time": "2023-05-05T17:18:24.165Z"
   },
   {
    "duration": 51,
    "start_time": "2023-05-05T17:18:24.702Z"
   },
   {
    "duration": 14,
    "start_time": "2023-05-05T17:18:24.756Z"
   },
   {
    "duration": 37,
    "start_time": "2023-05-05T17:18:24.772Z"
   },
   {
    "duration": 66,
    "start_time": "2023-05-05T17:18:24.810Z"
   },
   {
    "duration": 5,
    "start_time": "2023-05-05T17:18:24.878Z"
   },
   {
    "duration": 45,
    "start_time": "2023-05-05T17:18:24.885Z"
   },
   {
    "duration": 194,
    "start_time": "2023-05-05T17:18:24.932Z"
   },
   {
    "duration": 0,
    "start_time": "2023-05-05T17:18:25.129Z"
   },
   {
    "duration": 0,
    "start_time": "2023-05-05T17:18:25.130Z"
   },
   {
    "duration": 0,
    "start_time": "2023-05-05T17:18:25.132Z"
   },
   {
    "duration": 0,
    "start_time": "2023-05-05T17:18:25.133Z"
   },
   {
    "duration": 0,
    "start_time": "2023-05-05T17:18:25.134Z"
   },
   {
    "duration": 0,
    "start_time": "2023-05-05T17:18:25.136Z"
   },
   {
    "duration": 0,
    "start_time": "2023-05-05T17:18:25.137Z"
   },
   {
    "duration": 0,
    "start_time": "2023-05-05T17:18:25.138Z"
   },
   {
    "duration": 0,
    "start_time": "2023-05-05T17:18:25.149Z"
   },
   {
    "duration": 0,
    "start_time": "2023-05-05T17:18:25.150Z"
   },
   {
    "duration": 0,
    "start_time": "2023-05-05T17:18:25.151Z"
   },
   {
    "duration": 0,
    "start_time": "2023-05-05T17:18:25.153Z"
   },
   {
    "duration": 0,
    "start_time": "2023-05-05T17:18:25.154Z"
   },
   {
    "duration": 0,
    "start_time": "2023-05-05T17:18:25.155Z"
   },
   {
    "duration": 0,
    "start_time": "2023-05-05T17:18:25.157Z"
   },
   {
    "duration": 0,
    "start_time": "2023-05-05T17:18:25.158Z"
   },
   {
    "duration": 408,
    "start_time": "2023-05-05T17:18:56.396Z"
   },
   {
    "duration": 42,
    "start_time": "2023-05-05T17:19:15.249Z"
   },
   {
    "duration": 1088,
    "start_time": "2023-05-05T17:19:24.400Z"
   },
   {
    "duration": 159,
    "start_time": "2023-05-05T17:19:25.490Z"
   },
   {
    "duration": 2,
    "start_time": "2023-05-05T17:19:25.651Z"
   },
   {
    "duration": 27,
    "start_time": "2023-05-05T17:19:25.656Z"
   },
   {
    "duration": 19,
    "start_time": "2023-05-05T17:19:25.684Z"
   },
   {
    "duration": 19,
    "start_time": "2023-05-05T17:19:25.705Z"
   },
   {
    "duration": 81,
    "start_time": "2023-05-05T17:19:25.726Z"
   },
   {
    "duration": 75,
    "start_time": "2023-05-05T17:19:25.809Z"
   },
   {
    "duration": 5,
    "start_time": "2023-05-05T17:19:25.886Z"
   },
   {
    "duration": 82,
    "start_time": "2023-05-05T17:19:25.894Z"
   },
   {
    "duration": 19,
    "start_time": "2023-05-05T17:19:25.977Z"
   },
   {
    "duration": 8,
    "start_time": "2023-05-05T17:19:25.998Z"
   },
   {
    "duration": 42,
    "start_time": "2023-05-05T17:19:26.007Z"
   },
   {
    "duration": 496,
    "start_time": "2023-05-05T17:19:26.050Z"
   },
   {
    "duration": 36,
    "start_time": "2023-05-05T17:19:26.549Z"
   },
   {
    "duration": 12,
    "start_time": "2023-05-05T17:19:26.587Z"
   },
   {
    "duration": 53,
    "start_time": "2023-05-05T17:19:26.600Z"
   },
   {
    "duration": 48,
    "start_time": "2023-05-05T17:19:26.654Z"
   },
   {
    "duration": 4,
    "start_time": "2023-05-05T17:19:26.704Z"
   },
   {
    "duration": 40,
    "start_time": "2023-05-05T17:19:26.709Z"
   },
   {
    "duration": 200,
    "start_time": "2023-05-05T17:19:26.750Z"
   },
   {
    "duration": 0,
    "start_time": "2023-05-05T17:19:26.952Z"
   },
   {
    "duration": 0,
    "start_time": "2023-05-05T17:19:26.953Z"
   },
   {
    "duration": 0,
    "start_time": "2023-05-05T17:19:26.955Z"
   },
   {
    "duration": 0,
    "start_time": "2023-05-05T17:19:26.956Z"
   },
   {
    "duration": 0,
    "start_time": "2023-05-05T17:19:26.957Z"
   },
   {
    "duration": 0,
    "start_time": "2023-05-05T17:19:26.959Z"
   },
   {
    "duration": 0,
    "start_time": "2023-05-05T17:19:26.961Z"
   },
   {
    "duration": 0,
    "start_time": "2023-05-05T17:19:26.962Z"
   },
   {
    "duration": 0,
    "start_time": "2023-05-05T17:19:26.962Z"
   },
   {
    "duration": 0,
    "start_time": "2023-05-05T17:19:26.963Z"
   },
   {
    "duration": 0,
    "start_time": "2023-05-05T17:19:26.964Z"
   },
   {
    "duration": 0,
    "start_time": "2023-05-05T17:19:26.965Z"
   },
   {
    "duration": 0,
    "start_time": "2023-05-05T17:19:26.966Z"
   },
   {
    "duration": 0,
    "start_time": "2023-05-05T17:19:26.967Z"
   },
   {
    "duration": 0,
    "start_time": "2023-05-05T17:19:26.967Z"
   },
   {
    "duration": 0,
    "start_time": "2023-05-05T17:19:26.968Z"
   },
   {
    "duration": 12,
    "start_time": "2023-05-05T17:19:51.620Z"
   },
   {
    "duration": 13,
    "start_time": "2023-05-05T17:20:26.249Z"
   },
   {
    "duration": 390,
    "start_time": "2023-05-05T17:20:47.098Z"
   },
   {
    "duration": 104,
    "start_time": "2023-05-05T17:21:06.073Z"
   },
   {
    "duration": 166,
    "start_time": "2023-05-05T17:21:11.115Z"
   },
   {
    "duration": 43,
    "start_time": "2023-05-05T17:21:57.377Z"
   },
   {
    "duration": 42,
    "start_time": "2023-05-05T17:23:51.162Z"
   },
   {
    "duration": 6,
    "start_time": "2023-05-05T17:24:09.690Z"
   },
   {
    "duration": 1062,
    "start_time": "2023-05-05T17:29:40.140Z"
   },
   {
    "duration": 162,
    "start_time": "2023-05-05T17:29:41.203Z"
   },
   {
    "duration": 2,
    "start_time": "2023-05-05T17:29:41.367Z"
   },
   {
    "duration": 26,
    "start_time": "2023-05-05T17:29:41.371Z"
   },
   {
    "duration": 19,
    "start_time": "2023-05-05T17:29:41.399Z"
   },
   {
    "duration": 32,
    "start_time": "2023-05-05T17:29:41.419Z"
   },
   {
    "duration": 57,
    "start_time": "2023-05-05T17:29:41.453Z"
   },
   {
    "duration": 80,
    "start_time": "2023-05-05T17:29:41.511Z"
   },
   {
    "duration": 4,
    "start_time": "2023-05-05T17:29:41.593Z"
   },
   {
    "duration": 75,
    "start_time": "2023-05-05T17:29:41.600Z"
   },
   {
    "duration": 20,
    "start_time": "2023-05-05T17:29:41.677Z"
   },
   {
    "duration": 8,
    "start_time": "2023-05-05T17:29:41.698Z"
   },
   {
    "duration": 44,
    "start_time": "2023-05-05T17:29:41.708Z"
   },
   {
    "duration": 551,
    "start_time": "2023-05-05T17:29:41.753Z"
   },
   {
    "duration": 49,
    "start_time": "2023-05-05T17:29:42.305Z"
   },
   {
    "duration": 14,
    "start_time": "2023-05-05T17:29:42.356Z"
   },
   {
    "duration": 31,
    "start_time": "2023-05-05T17:29:42.372Z"
   },
   {
    "duration": 69,
    "start_time": "2023-05-05T17:29:42.404Z"
   },
   {
    "duration": 4,
    "start_time": "2023-05-05T17:29:42.475Z"
   },
   {
    "duration": 25,
    "start_time": "2023-05-05T17:29:42.481Z"
   },
   {
    "duration": 501,
    "start_time": "2023-05-05T17:29:42.508Z"
   },
   {
    "duration": 14,
    "start_time": "2023-05-05T17:29:43.011Z"
   },
   {
    "duration": 25,
    "start_time": "2023-05-05T17:29:43.027Z"
   },
   {
    "duration": 119,
    "start_time": "2023-05-05T17:29:43.054Z"
   },
   {
    "duration": 45,
    "start_time": "2023-05-05T17:29:43.174Z"
   },
   {
    "duration": 81,
    "start_time": "2023-05-05T17:29:43.221Z"
   },
   {
    "duration": 2,
    "start_time": "2023-05-05T17:29:43.303Z"
   },
   {
    "duration": 5,
    "start_time": "2023-05-05T17:29:43.308Z"
   },
   {
    "duration": 71,
    "start_time": "2023-05-05T17:29:43.314Z"
   },
   {
    "duration": 8,
    "start_time": "2023-05-05T17:29:43.386Z"
   },
   {
    "duration": 990,
    "start_time": "2023-05-05T17:29:43.396Z"
   },
   {
    "duration": 9,
    "start_time": "2023-05-05T17:29:44.388Z"
   },
   {
    "duration": 11,
    "start_time": "2023-05-05T17:29:44.398Z"
   },
   {
    "duration": 8,
    "start_time": "2023-05-05T17:29:44.410Z"
   },
   {
    "duration": 29,
    "start_time": "2023-05-05T17:29:44.420Z"
   },
   {
    "duration": 9,
    "start_time": "2023-05-05T17:29:44.451Z"
   },
   {
    "duration": 19,
    "start_time": "2023-05-05T17:29:44.462Z"
   },
   {
    "duration": 1185,
    "start_time": "2023-05-05T18:17:36.477Z"
   },
   {
    "duration": 199,
    "start_time": "2023-05-05T18:17:37.664Z"
   },
   {
    "duration": 5,
    "start_time": "2023-05-05T18:17:37.865Z"
   },
   {
    "duration": 48,
    "start_time": "2023-05-05T18:17:37.873Z"
   },
   {
    "duration": 21,
    "start_time": "2023-05-05T18:17:37.923Z"
   },
   {
    "duration": 19,
    "start_time": "2023-05-05T18:17:37.946Z"
   },
   {
    "duration": 90,
    "start_time": "2023-05-05T18:17:37.967Z"
   },
   {
    "duration": 80,
    "start_time": "2023-05-05T18:17:38.059Z"
   },
   {
    "duration": 5,
    "start_time": "2023-05-05T18:17:38.141Z"
   },
   {
    "duration": 89,
    "start_time": "2023-05-05T18:17:38.149Z"
   },
   {
    "duration": 21,
    "start_time": "2023-05-05T18:17:38.239Z"
   },
   {
    "duration": 9,
    "start_time": "2023-05-05T18:17:38.262Z"
   },
   {
    "duration": 51,
    "start_time": "2023-05-05T18:17:38.273Z"
   },
   {
    "duration": 590,
    "start_time": "2023-05-05T18:17:38.326Z"
   },
   {
    "duration": 52,
    "start_time": "2023-05-05T18:17:38.918Z"
   },
   {
    "duration": 19,
    "start_time": "2023-05-05T18:17:38.972Z"
   },
   {
    "duration": 42,
    "start_time": "2023-05-05T18:17:39.012Z"
   },
   {
    "duration": 79,
    "start_time": "2023-05-05T18:17:39.057Z"
   },
   {
    "duration": 6,
    "start_time": "2023-05-05T18:17:39.138Z"
   },
   {
    "duration": 38,
    "start_time": "2023-05-05T18:17:39.146Z"
   },
   {
    "duration": 746,
    "start_time": "2023-05-05T18:17:39.186Z"
   },
   {
    "duration": 22,
    "start_time": "2023-05-05T18:17:39.933Z"
   },
   {
    "duration": 55,
    "start_time": "2023-05-05T18:17:39.957Z"
   },
   {
    "duration": 111,
    "start_time": "2023-05-05T18:17:40.014Z"
   },
   {
    "duration": 67,
    "start_time": "2023-05-05T18:17:40.128Z"
   },
   {
    "duration": 102,
    "start_time": "2023-05-05T18:17:40.211Z"
   },
   {
    "duration": 3,
    "start_time": "2023-05-05T18:17:40.316Z"
   },
   {
    "duration": 8,
    "start_time": "2023-05-05T18:17:40.322Z"
   },
   {
    "duration": 90,
    "start_time": "2023-05-05T18:17:40.332Z"
   },
   {
    "duration": 10,
    "start_time": "2023-05-05T18:17:40.423Z"
   },
   {
    "duration": 1140,
    "start_time": "2023-05-05T18:17:40.435Z"
   },
   {
    "duration": 9,
    "start_time": "2023-05-05T18:17:41.577Z"
   },
   {
    "duration": 25,
    "start_time": "2023-05-05T18:17:41.588Z"
   },
   {
    "duration": 11,
    "start_time": "2023-05-05T18:17:41.614Z"
   },
   {
    "duration": 11,
    "start_time": "2023-05-05T18:17:41.626Z"
   },
   {
    "duration": 13,
    "start_time": "2023-05-05T18:17:41.638Z"
   },
   {
    "duration": 14,
    "start_time": "2023-05-05T18:17:41.653Z"
   },
   {
    "duration": 1160,
    "start_time": "2023-05-05T19:31:01.762Z"
   },
   {
    "duration": 175,
    "start_time": "2023-05-05T19:31:02.923Z"
   },
   {
    "duration": 3,
    "start_time": "2023-05-05T19:31:03.100Z"
   },
   {
    "duration": 34,
    "start_time": "2023-05-05T19:31:03.111Z"
   },
   {
    "duration": 22,
    "start_time": "2023-05-05T19:31:03.147Z"
   },
   {
    "duration": 20,
    "start_time": "2023-05-05T19:31:03.170Z"
   },
   {
    "duration": 83,
    "start_time": "2023-05-05T19:31:03.192Z"
   },
   {
    "duration": 87,
    "start_time": "2023-05-05T19:31:03.276Z"
   },
   {
    "duration": 6,
    "start_time": "2023-05-05T19:31:03.365Z"
   },
   {
    "duration": 94,
    "start_time": "2023-05-05T19:31:03.375Z"
   },
   {
    "duration": 20,
    "start_time": "2023-05-05T19:31:03.471Z"
   },
   {
    "duration": 21,
    "start_time": "2023-05-05T19:31:03.493Z"
   },
   {
    "duration": 32,
    "start_time": "2023-05-05T19:31:03.516Z"
   },
   {
    "duration": 592,
    "start_time": "2023-05-05T19:31:03.550Z"
   },
   {
    "duration": 42,
    "start_time": "2023-05-05T19:31:04.144Z"
   },
   {
    "duration": 32,
    "start_time": "2023-05-05T19:31:04.187Z"
   },
   {
    "duration": 31,
    "start_time": "2023-05-05T19:31:04.221Z"
   },
   {
    "duration": 66,
    "start_time": "2023-05-05T19:31:04.254Z"
   },
   {
    "duration": 5,
    "start_time": "2023-05-05T19:31:04.322Z"
   },
   {
    "duration": 27,
    "start_time": "2023-05-05T19:31:04.328Z"
   },
   {
    "duration": 732,
    "start_time": "2023-05-05T19:31:04.356Z"
   },
   {
    "duration": 33,
    "start_time": "2023-05-05T19:31:05.090Z"
   },
   {
    "duration": 8,
    "start_time": "2023-05-05T19:31:05.125Z"
   },
   {
    "duration": 107,
    "start_time": "2023-05-05T19:31:05.135Z"
   },
   {
    "duration": 87,
    "start_time": "2023-05-05T19:31:05.243Z"
   },
   {
    "duration": 65,
    "start_time": "2023-05-05T19:31:05.332Z"
   },
   {
    "duration": 4,
    "start_time": "2023-05-05T19:31:05.412Z"
   },
   {
    "duration": 13,
    "start_time": "2023-05-05T19:31:05.419Z"
   },
   {
    "duration": 71,
    "start_time": "2023-05-05T19:31:05.433Z"
   },
   {
    "duration": 15,
    "start_time": "2023-05-05T19:31:05.506Z"
   },
   {
    "duration": 1029,
    "start_time": "2023-05-05T19:31:05.523Z"
   },
   {
    "duration": 10,
    "start_time": "2023-05-05T19:31:06.555Z"
   },
   {
    "duration": 10,
    "start_time": "2023-05-05T19:31:06.567Z"
   },
   {
    "duration": 36,
    "start_time": "2023-05-05T19:31:06.579Z"
   },
   {
    "duration": 11,
    "start_time": "2023-05-05T19:31:06.617Z"
   },
   {
    "duration": 11,
    "start_time": "2023-05-05T19:31:06.630Z"
   },
   {
    "duration": 12,
    "start_time": "2023-05-05T19:31:06.643Z"
   },
   {
    "duration": 174,
    "start_time": "2023-05-05T19:35:06.084Z"
   },
   {
    "duration": 11,
    "start_time": "2023-05-05T19:35:23.050Z"
   },
   {
    "duration": 57,
    "start_time": "2023-05-06T06:29:33.358Z"
   },
   {
    "duration": 1466,
    "start_time": "2023-05-06T06:29:52.856Z"
   },
   {
    "duration": 628,
    "start_time": "2023-05-06T06:29:54.325Z"
   },
   {
    "duration": 4,
    "start_time": "2023-05-06T06:29:54.955Z"
   },
   {
    "duration": 41,
    "start_time": "2023-05-06T06:29:54.962Z"
   },
   {
    "duration": 23,
    "start_time": "2023-05-06T06:29:55.006Z"
   },
   {
    "duration": 38,
    "start_time": "2023-05-06T06:29:55.037Z"
   },
   {
    "duration": 79,
    "start_time": "2023-05-06T06:29:55.078Z"
   },
   {
    "duration": 70,
    "start_time": "2023-05-06T06:29:55.159Z"
   },
   {
    "duration": 12,
    "start_time": "2023-05-06T06:29:55.245Z"
   },
   {
    "duration": 105,
    "start_time": "2023-05-06T06:29:55.261Z"
   },
   {
    "duration": 20,
    "start_time": "2023-05-06T06:29:55.368Z"
   },
   {
    "duration": 10,
    "start_time": "2023-05-06T06:29:55.390Z"
   },
   {
    "duration": 65,
    "start_time": "2023-05-06T06:29:55.401Z"
   },
   {
    "duration": 690,
    "start_time": "2023-05-06T06:29:55.468Z"
   },
   {
    "duration": 44,
    "start_time": "2023-05-06T06:29:56.160Z"
   },
   {
    "duration": 42,
    "start_time": "2023-05-06T06:29:56.207Z"
   },
   {
    "duration": 42,
    "start_time": "2023-05-06T06:29:56.251Z"
   },
   {
    "duration": 77,
    "start_time": "2023-05-06T06:29:56.295Z"
   },
   {
    "duration": 6,
    "start_time": "2023-05-06T06:29:56.374Z"
   },
   {
    "duration": 34,
    "start_time": "2023-05-06T06:29:56.381Z"
   },
   {
    "duration": 754,
    "start_time": "2023-05-06T06:29:56.417Z"
   },
   {
    "duration": 13,
    "start_time": "2023-05-06T06:29:57.174Z"
   },
   {
    "duration": 59,
    "start_time": "2023-05-06T06:29:57.190Z"
   },
   {
    "duration": 29,
    "start_time": "2023-05-06T06:29:57.251Z"
   },
   {
    "duration": 7,
    "start_time": "2023-05-06T06:29:57.281Z"
   },
   {
    "duration": 98,
    "start_time": "2023-05-06T06:29:57.289Z"
   },
   {
    "duration": 109,
    "start_time": "2023-05-06T06:29:57.388Z"
   },
   {
    "duration": 3,
    "start_time": "2023-05-06T06:29:57.502Z"
   },
   {
    "duration": 57,
    "start_time": "2023-05-06T06:29:57.509Z"
   },
   {
    "duration": 145,
    "start_time": "2023-05-06T06:29:57.568Z"
   },
   {
    "duration": 19,
    "start_time": "2023-05-06T06:29:57.716Z"
   },
   {
    "duration": 1227,
    "start_time": "2023-05-06T06:29:57.744Z"
   },
   {
    "duration": 11,
    "start_time": "2023-05-06T06:29:58.973Z"
   },
   {
    "duration": 22,
    "start_time": "2023-05-06T06:29:58.986Z"
   },
   {
    "duration": 34,
    "start_time": "2023-05-06T06:29:59.010Z"
   },
   {
    "duration": 15,
    "start_time": "2023-05-06T06:29:59.052Z"
   },
   {
    "duration": 36,
    "start_time": "2023-05-06T06:29:59.069Z"
   },
   {
    "duration": 14,
    "start_time": "2023-05-06T06:29:59.107Z"
   },
   {
    "duration": 1072,
    "start_time": "2023-05-06T06:51:52.055Z"
   },
   {
    "duration": 176,
    "start_time": "2023-05-06T06:51:53.129Z"
   },
   {
    "duration": 4,
    "start_time": "2023-05-06T06:51:53.307Z"
   },
   {
    "duration": 23,
    "start_time": "2023-05-06T06:51:53.313Z"
   },
   {
    "duration": 17,
    "start_time": "2023-05-06T06:51:53.337Z"
   },
   {
    "duration": 39,
    "start_time": "2023-05-06T06:51:53.356Z"
   },
   {
    "duration": 74,
    "start_time": "2023-05-06T06:51:53.397Z"
   },
   {
    "duration": 87,
    "start_time": "2023-05-06T06:51:53.473Z"
   },
   {
    "duration": 4,
    "start_time": "2023-05-06T06:51:53.561Z"
   },
   {
    "duration": 87,
    "start_time": "2023-05-06T06:51:53.573Z"
   },
   {
    "duration": 33,
    "start_time": "2023-05-06T06:51:53.662Z"
   },
   {
    "duration": 8,
    "start_time": "2023-05-06T06:51:53.697Z"
   },
   {
    "duration": 24,
    "start_time": "2023-05-06T06:51:53.706Z"
   },
   {
    "duration": 516,
    "start_time": "2023-05-06T06:51:53.731Z"
   },
   {
    "duration": 51,
    "start_time": "2023-05-06T06:51:54.249Z"
   },
   {
    "duration": 18,
    "start_time": "2023-05-06T06:51:54.302Z"
   },
   {
    "duration": 64,
    "start_time": "2023-05-06T06:51:54.322Z"
   },
   {
    "duration": 60,
    "start_time": "2023-05-06T06:51:54.388Z"
   },
   {
    "duration": 5,
    "start_time": "2023-05-06T06:51:54.450Z"
   },
   {
    "duration": 42,
    "start_time": "2023-05-06T06:51:54.457Z"
   },
   {
    "duration": 745,
    "start_time": "2023-05-06T06:51:54.502Z"
   },
   {
    "duration": 35,
    "start_time": "2023-05-06T06:51:55.249Z"
   },
   {
    "duration": 14,
    "start_time": "2023-05-06T06:51:55.291Z"
   },
   {
    "duration": 10,
    "start_time": "2023-05-06T06:51:55.307Z"
   },
   {
    "duration": 5,
    "start_time": "2023-05-06T06:51:55.319Z"
   },
   {
    "duration": 56,
    "start_time": "2023-05-06T06:51:55.372Z"
   },
   {
    "duration": 82,
    "start_time": "2023-05-06T06:51:55.430Z"
   },
   {
    "duration": 2,
    "start_time": "2023-05-06T06:51:55.515Z"
   },
   {
    "duration": 42,
    "start_time": "2023-05-06T06:51:55.519Z"
   },
   {
    "duration": 122,
    "start_time": "2023-05-06T06:51:55.563Z"
   },
   {
    "duration": 16,
    "start_time": "2023-05-06T06:51:55.686Z"
   },
   {
    "duration": 1099,
    "start_time": "2023-05-06T06:51:55.708Z"
   },
   {
    "duration": 8,
    "start_time": "2023-05-06T06:51:56.808Z"
   },
   {
    "duration": 7,
    "start_time": "2023-05-06T06:51:56.818Z"
   },
   {
    "duration": 20,
    "start_time": "2023-05-06T06:51:56.827Z"
   },
   {
    "duration": 41,
    "start_time": "2023-05-06T06:51:56.849Z"
   },
   {
    "duration": 18,
    "start_time": "2023-05-06T06:51:56.892Z"
   },
   {
    "duration": 12,
    "start_time": "2023-05-06T06:51:56.911Z"
   },
   {
    "duration": 1028,
    "start_time": "2023-05-06T08:11:54.849Z"
   },
   {
    "duration": 241,
    "start_time": "2023-05-06T08:11:55.879Z"
   },
   {
    "duration": 3,
    "start_time": "2023-05-06T08:11:56.121Z"
   },
   {
    "duration": 74,
    "start_time": "2023-05-06T08:11:56.126Z"
   },
   {
    "duration": 46,
    "start_time": "2023-05-06T08:11:56.207Z"
   },
   {
    "duration": 68,
    "start_time": "2023-05-06T08:11:56.255Z"
   },
   {
    "duration": 87,
    "start_time": "2023-05-06T08:11:56.324Z"
   },
   {
    "duration": 77,
    "start_time": "2023-05-06T08:11:56.414Z"
   },
   {
    "duration": 13,
    "start_time": "2023-05-06T08:11:56.492Z"
   },
   {
    "duration": 114,
    "start_time": "2023-05-06T08:11:56.506Z"
   },
   {
    "duration": 18,
    "start_time": "2023-05-06T08:11:56.622Z"
   },
   {
    "duration": 9,
    "start_time": "2023-05-06T08:11:56.642Z"
   },
   {
    "duration": 70,
    "start_time": "2023-05-06T08:11:56.653Z"
   },
   {
    "duration": 579,
    "start_time": "2023-05-06T08:11:56.726Z"
   },
   {
    "duration": 36,
    "start_time": "2023-05-06T08:11:57.307Z"
   },
   {
    "duration": 12,
    "start_time": "2023-05-06T08:11:57.345Z"
   },
   {
    "duration": 54,
    "start_time": "2023-05-06T08:11:57.358Z"
   },
   {
    "duration": 43,
    "start_time": "2023-05-06T08:11:57.413Z"
   },
   {
    "duration": 4,
    "start_time": "2023-05-06T08:11:57.458Z"
   },
   {
    "duration": 66,
    "start_time": "2023-05-06T08:11:57.463Z"
   },
   {
    "duration": 774,
    "start_time": "2023-05-06T08:11:57.531Z"
   },
   {
    "duration": 10,
    "start_time": "2023-05-06T08:11:58.307Z"
   },
   {
    "duration": 74,
    "start_time": "2023-05-06T08:11:58.319Z"
   },
   {
    "duration": 53,
    "start_time": "2023-05-06T08:11:58.398Z"
   },
   {
    "duration": 19,
    "start_time": "2023-05-06T08:11:58.453Z"
   },
   {
    "duration": 111,
    "start_time": "2023-05-06T08:11:58.484Z"
   },
   {
    "duration": 57,
    "start_time": "2023-05-06T08:11:58.597Z"
   },
   {
    "duration": 62,
    "start_time": "2023-05-06T08:11:58.656Z"
   },
   {
    "duration": 69,
    "start_time": "2023-05-06T08:11:58.720Z"
   },
   {
    "duration": 127,
    "start_time": "2023-05-06T08:11:58.793Z"
   },
   {
    "duration": 32,
    "start_time": "2023-05-06T08:11:58.922Z"
   },
   {
    "duration": 1095,
    "start_time": "2023-05-06T08:11:58.955Z"
   },
   {
    "duration": 9,
    "start_time": "2023-05-06T08:12:00.052Z"
   },
   {
    "duration": 47,
    "start_time": "2023-05-06T08:12:00.074Z"
   },
   {
    "duration": 46,
    "start_time": "2023-05-06T08:12:00.123Z"
   },
   {
    "duration": 71,
    "start_time": "2023-05-06T08:12:00.171Z"
   },
   {
    "duration": 112,
    "start_time": "2023-05-06T08:12:00.243Z"
   },
   {
    "duration": 65,
    "start_time": "2023-05-06T08:12:00.357Z"
   }
  ],
  "kernelspec": {
   "display_name": "Python 3 (ipykernel)",
   "language": "python",
   "name": "python3"
  },
  "language_info": {
   "codemirror_mode": {
    "name": "ipython",
    "version": 3
   },
   "file_extension": ".py",
   "mimetype": "text/x-python",
   "name": "python",
   "nbconvert_exporter": "python",
   "pygments_lexer": "ipython3",
   "version": "3.10.9"
  },
  "toc": {
   "base_numbering": 1,
   "nav_menu": {},
   "number_sections": true,
   "sideBar": true,
   "skip_h1_title": true,
   "title_cell": "Table of Contents",
   "title_sidebar": "Contents",
   "toc_cell": false,
   "toc_position": {
    "height": "calc(100% - 180px)",
    "left": "10px",
    "top": "150px",
    "width": "187.8px"
   },
   "toc_section_display": true,
   "toc_window_display": true
  }
 },
 "nbformat": 4,
 "nbformat_minor": 2
}
